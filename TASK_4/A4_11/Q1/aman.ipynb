{
 "cells": [
  {
   "cell_type": "code",
   "execution_count": 2,
   "metadata": {},
   "outputs": [],
   "source": [
    "import json\n",
    "\n",
    "\n",
    "with open(\"train_file.json\", 'r') as file:\n",
    "    train = json.load(file)\n",
    "\n",
    "# Load the test data\n",
    "with open(\"val_file.json\", 'r') as file:\n",
    "    val = json.load(file)"
   ]
  },
  {
   "cell_type": "code",
   "execution_count": 3,
   "metadata": {},
   "outputs": [],
   "source": [
    "def get_sp2idx(data):\n",
    "    speakers = set()\n",
    "    for episode in data:\n",
    "        for speaker in episode['speakers']:\n",
    "            speakers.add(speaker)\n",
    "    speaker_to_index = {speaker: idx + 1 for idx, speaker in enumerate(speakers)} \n",
    "    speaker_to_index['unknown'] = 0 \n",
    "    return speaker_to_index\n",
    "\n",
    "speaker_to_index = get_sp2idx(train)\n",
    "val_speaker_to_index = get_sp2idx(val) "
   ]
  },
  {
   "cell_type": "code",
   "execution_count": 4,
   "metadata": {},
   "outputs": [],
   "source": [
    "import torch\n",
    "device = torch.device(\"cuda:1\" if torch.cuda.is_available() else \"cpu\")"
   ]
  },
  {
   "cell_type": "code",
   "execution_count": 5,
   "metadata": {},
   "outputs": [],
   "source": [
    "import string\n",
    "import nltk\n",
    "import re\n",
    "\n",
    "\n",
    "\n",
    "class PreProcessor():\n",
    "    \n",
    "    def __init__(self) -> None:\n",
    "        self.numbers = {\n",
    "            \"0\":\"zero\",\n",
    "            \"1\":\"one\",\n",
    "            \"2\":\"two\",\n",
    "            \"3\":\"three\",\n",
    "            \"4\":\"four\",\n",
    "            \"5\":\"five\",\n",
    "            \"6\":\"six\",\n",
    "            \"7\":\"seven\",\n",
    "            \"8\":\"eight\",\n",
    "            \"9\":\"nine\"\n",
    "        }\n",
    "        \n",
    "    def remove_puntuations(self, txt):\n",
    "        punct = set(string.punctuation)\n",
    "        txt = \" \".join(txt.split(\".\"))\n",
    "        txt = \" \".join(txt.split(\"!\"))\n",
    "        txt = \" \".join(txt.split(\"?\"))\n",
    "        txt = \" \".join(txt.split(\":\"))\n",
    "        txt = \" \".join(txt.split(\";\"))\n",
    "\n",
    "        txt = \"\".join(ch for ch in txt if ch not in punct)\n",
    "        return txt\n",
    "    \n",
    "    def number_to_words(self, txt):\n",
    "        for k in self.numbers.keys():\n",
    "            txt = txt.replace(k,self.numbers[k]+\" \")\n",
    "        return txt\n",
    "    \n",
    "    def preprocess_text(self, text):\n",
    "        text = text.lower()\n",
    "        text = re.sub(r'_',' ',text)\n",
    "        text = self.number_to_words(text)\n",
    "        text = self.remove_puntuations(text)\n",
    "        text = ''.join([i if ord(i) < 128 else '' for i in text])\n",
    "        text = ' '.join(text.split())\n",
    "        return text\n"
   ]
  },
  {
   "cell_type": "code",
   "execution_count": 6,
   "metadata": {},
   "outputs": [],
   "source": [
    "from transformers import BertTokenizer, BertModel\n",
    "from tqdm import tqdm\n",
    "import numpy as np\n",
    "\n",
    "preprocessor = PreProcessor()\n",
    "\n",
    "tokenizer = BertTokenizer.from_pretrained('bert-base-uncased')\n",
    "model = BertModel.from_pretrained('bert-base-uncased')\n",
    "model.to(device)\n",
    "model.eval()\n",
    "\n",
    "def get_embeddings(model , preprocessor , tokenizer , sentences):\n",
    "    model.to(device)  # Move the model to the same device as the data\n",
    "    embeddings = []\n",
    "    for sentence in tqdm(sentences, desc=\"Computing BERT embeddings\"):\n",
    "        with torch.no_grad():\n",
    "            sentence = preprocessor.preprocess_text(sentence)\n",
    "            inputs = tokenizer(sentence, return_tensors=\"pt\", padding=True, truncation=True, max_length=128)\n",
    "            inputs = inputs.to(device)\n",
    "            outputs = model(**inputs)\n",
    "            embeddings.append(outputs.pooler_output.squeeze().cpu().numpy())\n",
    "    return np.array(embeddings)"
   ]
  },
  {
   "cell_type": "code",
   "execution_count": 7,
   "metadata": {},
   "outputs": [],
   "source": [
    "def prepare_data(data,speaker_to_index):\n",
    "    \n",
    "    emo2idx = {\n",
    "        'anger': 0,\n",
    "        'joy': 1,\n",
    "        'fear': 2,\n",
    "        'disgust': 3,\n",
    "        'neutral': 4,\n",
    "        'surprise': 5,\n",
    "        'sadness': 6\n",
    "    }\n",
    "    \n",
    "    seq_len = 25\n",
    "    unknown_speaker_idx=0\n",
    "    ctr = 0\n",
    "    \n",
    "    embeddings_utt = get_embeddings(model , preprocessor , tokenizer , [u for episode in tqdm(data, desc=\"Processing Episodes Data\") for u in episode['utterances']])\n",
    "\n",
    "    X = []\n",
    "    Y = []\n",
    "    Speakers = []\n",
    "    \n",
    "    # Process each episode for emotion flips\n",
    "    for episode in tqdm(data, desc=\"epsisode loop\"):\n",
    "        episode_utterances = episode['utterances']\n",
    "        episode_emotions = episode['emotions']\n",
    "        episode_speakers = episode['speakers']\n",
    "\n",
    "        episode_X, episode_Y, episode_Speakers = [], [] , []\n",
    "        previous_emo_idx = None\n",
    "\n",
    "        for i, (utterance, emotion,speaker) in enumerate(zip(episode_utterances, episode_emotions,episode_speakers)):\n",
    "            # Convert utterance to BERT embedding index\n",
    "            utterance_embedding = embeddings_utt[ctr]\n",
    "            ctr +=1\n",
    "            \n",
    "            emo_idx = emo2idx.get(emotion, 4)\n",
    "            \n",
    "            speaker_idx = speaker_to_index.get(speaker, unknown_speaker_idx)\n",
    "\n",
    "            flip = 1 if previous_emo_idx is not None and previous_emo_idx != emo_idx else 0\n",
    "            previous_emo_idx = emo_idx\n",
    "\n",
    "            # Append data\n",
    "            episode_X.append(utterance_embedding)\n",
    "            episode_Y.append(flip)\n",
    "            episode_Speakers.append(speaker_idx)\n",
    "\n",
    "        if len(episode_X) < seq_len:\n",
    "            padding_length = seq_len - len(episode_X)\n",
    "            episode_X.extend([np.zeros_like(episode_X[0])] * padding_length)\n",
    "            episode_Y.extend([0] * padding_length)\n",
    "            episode_Speakers.extend([unknown_speaker_idx] * padding_length)\n",
    "\n",
    "        elif len(episode_X) > seq_len:\n",
    "            episode_X = episode_X[-seq_len:]\n",
    "            episode_Y = episode_Y[-seq_len:]\n",
    "            episode_Speakers = episode_Speakers[-seq_len:]\n",
    "\n",
    "        X.append(episode_X)\n",
    "        Y.append(episode_Y)\n",
    "        Speakers.append(episode_Speakers)\n",
    "\n",
    "    X = torch.tensor(X, dtype=torch.float)\n",
    "    Y = torch.tensor(Y, dtype=torch.long)\n",
    "    Speakers = torch.tensor(Speakers, dtype=torch.long)\n",
    "\n",
    "    return X.to(device), Y.to(device), Speakers.to(device)"
   ]
  },
  {
   "cell_type": "code",
   "execution_count": 8,
   "metadata": {},
   "outputs": [
    {
     "name": "stderr",
     "output_type": "stream",
     "text": [
      "Processing Episodes Data: 100%|██████████| 6740/6740 [00:00<00:00, 647910.00it/s]\n",
      "Computing BERT embeddings: 100%|██████████| 58957/58957 [07:24<00:00, 132.49it/s]\n",
      "epsisode loop: 100%|██████████| 6740/6740 [00:00<00:00, 110492.47it/s]\n",
      "/tmp/ipykernel_1147212/791313821.py:64: UserWarning: Creating a tensor from a list of numpy.ndarrays is extremely slow. Please consider converting the list to a single numpy.ndarray with numpy.array() before converting to a tensor. (Triggered internally at ../torch/csrc/utils/tensor_new.cpp:261.)\n",
      "  X = torch.tensor(X, dtype=torch.float)\n",
      "Processing Episodes Data: 100%|██████████| 843/843 [00:00<00:00, 1013703.63it/s]\n",
      "Computing BERT embeddings: 100%|██████████| 7293/7293 [00:52<00:00, 138.95it/s]\n",
      "epsisode loop: 100%|██████████| 843/843 [00:00<00:00, 80953.32it/s]\n"
     ]
    }
   ],
   "source": [
    "X_train, Y_train, X_train_speakers = prepare_data(train, speaker_to_index)\n",
    "X_test, Y_test, X_test_speakers =  prepare_data(val, val_speaker_to_index)\n"
   ]
  },
  {
   "cell_type": "code",
   "execution_count": 14,
   "metadata": {},
   "outputs": [],
   "source": [
    "import torch\n",
    "import torch.nn as nn\n",
    "import torch.nn.functional as F\n",
    "\n",
    "class Model(nn.Module):\n",
    "    def __init__(self, embedding_dim=768, hidden_size=200, speaker_vocab_size=100, speaker_embedding_dim=50, num_layers=2, dropout=0.2):\n",
    "        super(Model, self).__init__()\n",
    "        \n",
    "        self.gru = nn.GRU(embedding_dim, hidden_size, num_layers, batch_first=True, dropout=dropout, bidirectional=False)\n",
    "        \n",
    "        self.speaker_embeddings = nn.Embedding(speaker_vocab_size, speaker_embedding_dim)\n",
    "        self.speaker_linear = nn.Linear(speaker_embedding_dim, hidden_size)\n",
    "        \n",
    "        self.fc = nn.Linear(hidden_size, 1)\n",
    "        \n",
    "\n",
    "    def forward(self, x1, x2):\n",
    "        # Process text embeddings through GRU\n",
    "        x1, _ = self.gru(x1)\n",
    "        \n",
    "        # Process speaker ids through embeddings\n",
    "        x2 = self.speaker_embeddings(x2)\n",
    "        x2 = self.speaker_linear(x2)\n",
    "        \n",
    "        # Combine GRU output and speaker features\n",
    "        combined_features = x1 + x2  # Assuming they are the same size\n",
    "        \n",
    "        # Pass through fully connected layers\n",
    "        x = self.fc(combined_features)\n",
    "        x = torch.sigmoid(x)\n",
    "        \n",
    "        return x.squeeze(-1)"
   ]
  },
  {
   "cell_type": "code",
   "execution_count": 15,
   "metadata": {},
   "outputs": [],
   "source": [
    "model = Model()"
   ]
  },
  {
   "cell_type": "code",
   "execution_count": 16,
   "metadata": {},
   "outputs": [],
   "source": [
    "from torch.utils.data import TensorDataset, DataLoader\n",
    "\n",
    "criterion = nn.BCEWithLogitsLoss()\n",
    "optimizer = torch.optim.Adam(model.parameters(), lr=1e-5)\n",
    "\n",
    "# Use these tensors when creating TensorDatasets\n",
    "train_dataset = TensorDataset(X_train, Y_train, X_train_speakers)\n",
    "test_dataset = TensorDataset(X_test, Y_test, X_test_speakers)\n",
    "\n",
    "# DataLoader setup remains the same\n",
    "train_loader = DataLoader(train_dataset, batch_size=1, shuffle=True)\n",
    "test_loader = DataLoader(test_dataset, batch_size=1, shuffle=False)"
   ]
  },
  {
   "cell_type": "code",
   "execution_count": null,
   "metadata": {},
   "outputs": [],
   "source": [
    "num_epochs = 4\n",
    "\n",
    "model = model.to(device)\n",
    "\n",
    "def train(epochs):\n",
    "    train_loss = []\n",
    "    val_loss = []\n",
    "    for epoch in range(num_epochs):\n",
    "        model.train()\n",
    "        total_loss = 0\n",
    "        for data in tqdm(train_loader, desc=f\"Training Epoch [{epoch+1}/{num_epochs}]\"):\n",
    "            X_batch, Y_batch, speaker_ids = data\n",
    "            X_batch, Y_batch , speaker_ids = X_batch.to(device), Y_batch.to(device).float(), speaker_ids.to(device)\n",
    "\n",
    "            Y_pred = model(X_batch, speaker_ids)\n",
    "            loss = criterion(Y_pred, Y_batch)\n",
    "            total_loss += loss.item()\n",
    "\n",
    "            optimizer.zero_grad()\n",
    "            loss.backward()\n",
    "            optimizer.step()\n",
    "\n",
    "        print(f'Epoch [{epoch+1}/{num_epochs}], Training Loss: {total_loss/len(train_loader)}')\n",
    "        train_loss.append(total_loss/len(train_loader))\n",
    "\n",
    "        model.eval()\n",
    "        total_val_loss = 0\n",
    "        with torch.no_grad():\n",
    "            for data in test_loader:\n",
    "                X_batch, Y_batch, speaker_ids = data\n",
    "                X_batch, Y_batch , speaker_ids = X_batch.to(device), Y_batch.to(device).float(), speaker_ids.to(device)\n",
    "                Y_pred = model(X_batch, speaker_ids)\n",
    "                loss = criterion(Y_pred, Y_batch)\n",
    "                total_val_loss += loss.item()\n",
    "                \n",
    "                \n",
    "        avg_val_loss = total_val_loss / len(test_loader)\n",
    "        val_loss.append(avg_val_loss)\n",
    "        print(f'Epoch [{epoch+1}/{num_epochs}] Validation Loss: {avg_val_loss}')\n",
    "            \n",
    "            \n",
    "    return train_loss, val_loss\n",
    "            \n",
    "            \n",
    "train_loss , val_loss = train(num_epochs)\n"
   ]
  },
  {
   "cell_type": "code",
   "execution_count": null,
   "metadata": {},
   "outputs": [
    {
     "data": {
      "image/png": "[encoded data removed]",
      "text/plain": [
       "<Figure size 640x480 with 1 Axes>"
      ]
     },
     "metadata": {},
     "output_type": "display_data"
    }
   ],
   "source": [
    "import matplotlib.pyplot as plt\n",
    "\n",
    "plt.plot(train_loss, label='Training loss')\n",
    "plt.plot(val_loss, label='Validation loss')\n",
    "plt.legend()\n",
    "plt.show()"
   ]
  },
  {
   "cell_type": "code",
   "execution_count": null,
   "metadata": {},
   "outputs": [
    {
     "name": "stdout",
     "output_type": "stream",
     "text": [
      "Validation Loss: 0.71326855301857\n",
      "              precision    recall  f1-score   support\n",
      "\n",
      "         0.0       0.79      1.00      0.88      1977\n",
      "         1.0       0.00      0.00      0.00       523\n",
      "\n",
      "    accuracy                           0.79      2500\n",
      "   macro avg       0.40      0.50      0.44      2500\n",
      "weighted avg       0.63      0.79      0.70      2500\n",
      "\n"
     ]
    }
   ],
   "source": [
    "from sklearn.metrics import classification_report\n",
    "\n",
    "model.eval()\n",
    "total_val_loss = 0\n",
    "Y_pred_list = []\n",
    "Y_true_list = []\n",
    "with torch.no_grad():\n",
    "    for data in test_loader:\n",
    "        X_batch, Y_batch, speaker_ids = data\n",
    "        X_batch, Y_batch , speaker_ids = X_batch.to(device), Y_batch.to(device).float(), speaker_ids.to(device)\n",
    "        Y_pred = model(X_batch, speaker_ids)\n",
    "        loss = criterion(Y_pred, Y_batch)\n",
    "        total_val_loss += loss.item()\n",
    "\n",
    "        Y_pred_binary = (Y_pred >= 0.5).int()\n",
    "        Y_pred_list.extend(Y_pred_binary.cpu().numpy())\n",
    "        Y_true_list.extend(Y_batch.cpu().numpy())\n",
    "\n",
    "        \n",
    "avg_val_loss = total_val_loss / len(test_loader)\n",
    "val_loss.append(avg_val_loss)\n",
    "print(f'Validation Loss: {avg_val_loss}')\n",
    "Y_pred_np = np.hstack(Y_pred_list) \n",
    "Y_true_np = np.hstack(Y_true_list) \n",
    "print(classification_report(Y_true_np, Y_pred_np))"
   ]
  },
  {
   "cell_type": "code",
   "execution_count": null,
   "metadata": {},
   "outputs": [],
   "source": [
    "torch.save(model, \"lstm_t2_model2.pth\")\n"
   ]
  }
 ],
 "metadata": {
  "kernelspec": {
   "display_name": "CROSSCAPS",
   "language": "python",
   "name": "python3"
  },
  "language_info": {
   "codemirror_mode": {
    "name": "ipython",
    "version": 3
   },
   "file_extension": ".py",
   "mimetype": "text/x-python",
   "name": "python",
   "nbconvert_exporter": "python",
   "pygments_lexer": "ipython3",
   "version": "3.11.7"
  },
  "vscode": {
   "interpreter": {
    "hash": "85ee25f3913e79dfaf73cc9743a698525d72dde364ea63726e0c3f70211b2c45"
   }
  }
 },
 "nbformat": 4,
 "nbformat_minor": 2
}
