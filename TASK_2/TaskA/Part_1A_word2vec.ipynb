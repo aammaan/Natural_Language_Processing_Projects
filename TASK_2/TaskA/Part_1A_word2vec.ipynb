{
 "cells": [
  {
   "attachments": {},
   "cell_type": "markdown",
   "metadata": {},
   "source": [
    "# Word2Vec Embedding"
   ]
  },
  {
   "cell_type": "code",
   "execution_count": 1,
   "metadata": {},
   "outputs": [],
   "source": [
    "from gensim.models import KeyedVectors\n",
    "import json\n",
    "import numpy as np\n",
    "import torch\n",
    "from sklearn.metrics import f1_score\n",
    "import torch.nn.functional as F\n",
    "import torch.nn as nn\n",
    "import torch.optim as optim"
   ]
  },
  {
   "cell_type": "code",
   "execution_count": 2,
   "metadata": {},
   "outputs": [],
   "source": [
    "label_map = {'B_GPE', 'B_PETITIONER', 'B_ORG', 'I_CASE_NUMBER', 'I_ORG', 'I_STATUTE', 'B_RESPONDENT', 'I_JUDGE', 'I_GPE', 'B_COURT', 'I_DATE', 'B_OTHER_PERSON', 'B_PRECEDENT', 'B_JUDGE', 'O', 'I_PETITIONER', 'I_OTHER_PERSON', 'B_STATUTE', 'I_RESPONDENT', 'B_WITNESS', 'B_CASE_NUMBER', 'I_COURT', 'B_DATE', 'I_WITNESS', 'I_PROVISION', 'I_PRECEDENT', 'B_PROVISION'}"
   ]
  },
  {
   "cell_type": "code",
   "execution_count": 3,
   "metadata": {},
   "outputs": [
    {
     "name": "stdout",
     "output_type": "stream",
     "text": [
      "8019\n",
      "(8019, 315, 300)\n"
     ]
    }
   ],
   "source": [
    "word2vec_model_path = 'GoogleNews-vectors-negative300.bin'\n",
    "word2vec_model = KeyedVectors.load_word2vec_format(word2vec_model_path, binary=True)\n",
    "\n",
    "\n",
    "with open('NER_train.json', 'r') as file:\n",
    "    dataset = json.load(file)\n",
    "\n",
    "print(len(dataset))\n",
    "\n",
    "max_seq_len = 315\n",
    "word_embeddings = []\n",
    "labels = []\n",
    "\n",
    "for key, value in dataset.items():\n",
    "    text = value['text']\n",
    "    label_seq = value['labels']\n",
    "\n",
    "    label_list = list(label_map)  \n",
    "    label_indices = [label_list.index(label) for label in label_seq]\n",
    "    label_indices_padded = label_indices[:max_seq_len] + [0] * (max_seq_len - len(label_indices))\n",
    "    labels.append(label_indices_padded)\n",
    "\n",
    "    vectors = [word2vec_model[word] if word in word2vec_model else np.zeros(300) for word in text] \n",
    "    vectors_padded = [np.pad(vec, (0, 300), constant_values=0)[:300] for vec in vectors]\n",
    "    vectors_padded += [np.zeros(300)] * (max_seq_len - len(vectors_padded))\n",
    "    word_embeddings.append(vectors_padded)\n",
    "\n",
    "word_embeddings_array = np.array(word_embeddings)\n",
    "print(word_embeddings_array.shape)\n",
    "texts_tensor = torch.tensor(word_embeddings_array, dtype=torch.float32)\n",
    "labels_tensor = torch.tensor(labels)"
   ]
  },
  {
   "cell_type": "code",
   "execution_count": 5,
   "metadata": {},
   "outputs": [
    {
     "name": "stdout",
     "output_type": "stream",
     "text": [
      "1416\n"
     ]
    }
   ],
   "source": [
    "with open('NER_val.json', 'r') as file:\n",
    "    valset = json.load(file)\n",
    "\n",
    "print(len(valset))\n",
    "max_seq_len = 315\n",
    "\n",
    "word_embeddings = []\n",
    "labels = []\n",
    "\n",
    "for key, value in valset.items():\n",
    "    text = value['text']\n",
    "    label_seq = value['labels']\n",
    "\n",
    "    label_list = list(label_map)  # Store index of each 27 classes created\n",
    "    label_indices = [label_list.index(label) for label in label_seq]\n",
    "    label_indices_padded = label_indices[:max_seq_len] + [0] * (max_seq_len - len(label_indices))\n",
    "    labels.append(label_indices_padded)\n",
    "\n",
    "    vectors = [word2vec_model[word] if word in word2vec_model else np.zeros(300) for word in text]\n",
    "    vectors_padded = [np.pad(vec, (0, 300), constant_values=0)[:300] for vec in vectors]\n",
    "    vectors_padded += [np.zeros(300)] * (max_seq_len - len(vectors_padded))\n",
    "    word_embeddings.append(vectors_padded)\n",
    "\n",
    "word_embeddings_array = np.array(word_embeddings)\n",
    "\n",
    "test_texts_tensor = torch.tensor(word_embeddings_array, dtype=torch.float32)\n",
    "test_labels_tensor = torch.tensor(labels)"
   ]
  },
  {
   "cell_type": "code",
   "execution_count": 6,
   "metadata": {},
   "outputs": [
    {
     "name": "stderr",
     "output_type": "stream",
     "text": [
      "Failed to detect the name of this notebook, you can set it manually with the WANDB_NOTEBOOK_NAME environment variable to enable code saving.\n",
      "\u001b[34m\u001b[1mwandb\u001b[0m: W&B API key is configured. Use \u001b[1m`wandb login --relogin`\u001b[0m to force relogin\n"
     ]
    },
    {
     "data": {
      "text/plain": [
       "True"
      ]
     },
     "execution_count": 6,
     "metadata": {},
     "output_type": "execute_result"
    }
   ],
   "source": [
    "import wandb\n",
    "wandb.login()"
   ]
  },
  {
   "cell_type": "code",
   "execution_count": 7,
   "metadata": {},
   "outputs": [
    {
     "data": {
      "text/html": [
       "Tracking run with wandb version 0.16.4"
      ],
      "text/plain": [
       "<IPython.core.display.HTML object>"
      ]
     },
     "metadata": {},
     "output_type": "display_data"
    },
    {
     "data": {
      "text/html": [
       "Run data is saved locally in <code>/home/hiddenmist/Aman_Lakshay/DL_Ass/NLP_TEMP/NLP_Final/wandb/run-20240311_213025-8ajoqf10</code>"
      ],
      "text/plain": [
       "<IPython.core.display.HTML object>"
      ]
     },
     "metadata": {},
     "output_type": "display_data"
    },
    {
     "data": {
      "text/html": [
       "Syncing run <strong><a href='https://wandb.ai/yuhuhu/nlp_ass2/runs/8ajoqf10' target=\"_blank\">RNN_Word2Vec</a></strong> to <a href='https://wandb.ai/yuhuhu/nlp_ass2' target=\"_blank\">Weights & Biases</a> (<a href='https://wandb.me/run' target=\"_blank\">docs</a>)<br/>"
      ],
      "text/plain": [
       "<IPython.core.display.HTML object>"
      ]
     },
     "metadata": {},
     "output_type": "display_data"
    },
    {
     "data": {
      "text/html": [
       " View project at <a href='https://wandb.ai/yuhuhu/nlp_ass2' target=\"_blank\">https://wandb.ai/yuhuhu/nlp_ass2</a>"
      ],
      "text/plain": [
       "<IPython.core.display.HTML object>"
      ]
     },
     "metadata": {},
     "output_type": "display_data"
    },
    {
     "data": {
      "text/html": [
       " View run at <a href='https://wandb.ai/yuhuhu/nlp_ass2/runs/8ajoqf10' target=\"_blank\">https://wandb.ai/yuhuhu/nlp_ass2/runs/8ajoqf10</a>"
      ],
      "text/plain": [
       "<IPython.core.display.HTML object>"
      ]
     },
     "metadata": {},
     "output_type": "display_data"
    },
    {
     "data": {
      "text/html": [
       "<button onClick=\"this.nextSibling.style.display='block';this.style.display='none';\">Display W&B run</button><iframe src='https://wandb.ai/yuhuhu/nlp_ass2/runs/8ajoqf10?jupyter=true' style='border:none;width:100%;height:420px;display:none;'></iframe>"
      ],
      "text/plain": [
       "<wandb.sdk.wandb_run.Run at 0x7f7c0fa2d2d0>"
      ]
     },
     "execution_count": 7,
     "metadata": {},
     "output_type": "execute_result"
    }
   ],
   "source": [
    "wandb.init(\n",
    "    project=\"nlp_ass2\", \n",
    "    name=f\"RNN_Word2Vec\"\n",
    ")"
   ]
  },
  {
   "cell_type": "code",
   "execution_count": 8,
   "metadata": {},
   "outputs": [
    {
     "name": "stdout",
     "output_type": "stream",
     "text": [
      "Epoch [1/45], Training Loss: 0.0103, Training F1 Score: 0.0257\n",
      "Epoch [1/45], Validation Loss: 0.0041, Validation F1 Score: 0.0748\n",
      "Epoch [2/45], Training Loss: 0.0037, Training F1 Score: 0.1278\n",
      "Epoch [2/45], Validation Loss: 0.0033, Validation F1 Score: 0.1940\n",
      "Epoch [3/45], Training Loss: 0.0051, Training F1 Score: 0.2070\n",
      "Epoch [3/45], Validation Loss: 0.0051, Validation F1 Score: 0.1028\n",
      "Epoch [4/45], Training Loss: 0.0031, Training F1 Score: 0.2429\n",
      "Epoch [4/45], Validation Loss: 0.0028, Validation F1 Score: 0.2960\n",
      "Epoch [5/45], Training Loss: 0.0027, Training F1 Score: 0.3357\n",
      "Epoch [5/45], Validation Loss: 0.0027, Validation F1 Score: 0.3481\n",
      "Epoch [6/45], Training Loss: 0.0024, Training F1 Score: 0.3729\n",
      "Epoch [6/45], Validation Loss: 0.0023, Validation F1 Score: 0.3879\n",
      "Epoch [7/45], Training Loss: 0.0024, Training F1 Score: 0.3890\n",
      "Epoch [7/45], Validation Loss: 0.0027, Validation F1 Score: 0.3346\n",
      "Epoch [8/45], Training Loss: 0.0023, Training F1 Score: 0.4001\n",
      "Epoch [8/45], Validation Loss: 0.0021, Validation F1 Score: 0.4062\n",
      "Epoch [9/45], Training Loss: 0.0022, Training F1 Score: 0.4158\n",
      "Epoch [9/45], Validation Loss: 0.0021, Validation F1 Score: 0.4194\n",
      "Epoch [10/45], Training Loss: 0.0020, Training F1 Score: 0.4354\n",
      "Epoch [10/45], Validation Loss: 0.0020, Validation F1 Score: 0.4268\n",
      "Epoch [11/45], Training Loss: 0.0020, Training F1 Score: 0.4460\n",
      "Epoch [11/45], Validation Loss: 0.0022, Validation F1 Score: 0.4125\n",
      "Epoch [12/45], Training Loss: 0.0019, Training F1 Score: 0.4559\n",
      "Epoch [12/45], Validation Loss: 0.0019, Validation F1 Score: 0.4456\n",
      "Epoch [13/45], Training Loss: 0.0019, Training F1 Score: 0.4687\n",
      "Epoch [13/45], Validation Loss: 0.0019, Validation F1 Score: 0.4572\n",
      "Epoch [14/45], Training Loss: 0.0020, Training F1 Score: 0.4646\n",
      "Epoch [14/45], Validation Loss: 0.0021, Validation F1 Score: 0.4179\n",
      "Epoch [15/45], Training Loss: 0.0019, Training F1 Score: 0.4644\n",
      "Epoch [15/45], Validation Loss: 0.0019, Validation F1 Score: 0.4464\n",
      "Epoch [16/45], Training Loss: 0.0018, Training F1 Score: 0.4791\n",
      "Epoch [16/45], Validation Loss: 0.0019, Validation F1 Score: 0.4782\n",
      "Epoch [17/45], Training Loss: 0.0018, Training F1 Score: 0.4915\n",
      "Epoch [17/45], Validation Loss: 0.0018, Validation F1 Score: 0.4739\n",
      "Epoch [18/45], Training Loss: 0.0018, Training F1 Score: 0.5010\n",
      "Epoch [18/45], Validation Loss: 0.0018, Validation F1 Score: 0.4919\n",
      "Epoch [19/45], Training Loss: 0.0017, Training F1 Score: 0.5149\n",
      "Epoch [19/45], Validation Loss: 0.0018, Validation F1 Score: 0.4895\n",
      "Epoch [20/45], Training Loss: 0.0017, Training F1 Score: 0.5247\n",
      "Epoch [20/45], Validation Loss: 0.0018, Validation F1 Score: 0.5049\n",
      "Epoch [21/45], Training Loss: 0.0017, Training F1 Score: 0.5260\n",
      "Epoch [21/45], Validation Loss: 0.0019, Validation F1 Score: 0.4987\n",
      "Epoch [22/45], Training Loss: 0.0016, Training F1 Score: 0.5378\n",
      "Epoch [22/45], Validation Loss: 0.0018, Validation F1 Score: 0.5143\n",
      "Epoch [23/45], Training Loss: 0.0024, Training F1 Score: 0.4448\n",
      "Epoch [23/45], Validation Loss: 0.0036, Validation F1 Score: 0.2369\n",
      "Epoch [24/45], Training Loss: 0.0024, Training F1 Score: 0.4014\n",
      "Epoch [24/45], Validation Loss: 0.0021, Validation F1 Score: 0.4383\n",
      "Epoch [25/45], Training Loss: 0.0019, Training F1 Score: 0.4856\n",
      "Epoch [25/45], Validation Loss: 0.0020, Validation F1 Score: 0.4612\n",
      "Epoch [26/45], Training Loss: 0.0018, Training F1 Score: 0.5046\n",
      "Epoch [26/45], Validation Loss: 0.0019, Validation F1 Score: 0.4909\n",
      "Epoch [27/45], Training Loss: 0.0017, Training F1 Score: 0.5244\n",
      "Epoch [27/45], Validation Loss: 0.0019, Validation F1 Score: 0.4972\n",
      "Epoch [28/45], Training Loss: 0.0018, Training F1 Score: 0.5257\n",
      "Epoch [28/45], Validation Loss: 0.0019, Validation F1 Score: 0.4951\n",
      "Epoch [29/45], Training Loss: 0.0019, Training F1 Score: 0.4101\n",
      "Epoch [29/45], Validation Loss: 0.0019, Validation F1 Score: 0.4989\n",
      "Epoch [30/45], Training Loss: 0.0024, Training F1 Score: 0.4750\n",
      "Epoch [30/45], Validation Loss: 0.0059, Validation F1 Score: 0.2619\n",
      "Epoch [31/45], Training Loss: 0.0028, Training F1 Score: 0.3875\n",
      "Epoch [31/45], Validation Loss: 0.0021, Validation F1 Score: 0.4398\n",
      "Epoch [32/45], Training Loss: 0.0020, Training F1 Score: 0.4795\n",
      "Epoch [32/45], Validation Loss: 0.0025, Validation F1 Score: 0.3885\n",
      "Epoch [33/45], Training Loss: 0.0019, Training F1 Score: 0.4833\n",
      "Epoch [33/45], Validation Loss: 0.0019, Validation F1 Score: 0.4849\n",
      "Epoch [34/45], Training Loss: 0.0018, Training F1 Score: 0.5189\n",
      "Epoch [34/45], Validation Loss: 0.0021, Validation F1 Score: 0.4678\n",
      "Epoch [35/45], Training Loss: 0.0017, Training F1 Score: 0.5277\n",
      "Epoch [35/45], Validation Loss: 0.0018, Validation F1 Score: 0.5029\n",
      "Epoch [36/45], Training Loss: 0.0016, Training F1 Score: 0.5438\n",
      "Epoch [36/45], Validation Loss: 0.0018, Validation F1 Score: 0.5150\n",
      "Epoch [37/45], Training Loss: 0.0017, Training F1 Score: 0.5459\n",
      "Epoch [37/45], Validation Loss: 0.0021, Validation F1 Score: 0.4553\n",
      "Epoch [38/45], Training Loss: 0.0020, Training F1 Score: 0.5143\n",
      "Epoch [38/45], Validation Loss: 0.0029, Validation F1 Score: 0.3863\n",
      "Epoch [39/45], Training Loss: 0.0020, Training F1 Score: 0.4919\n",
      "Epoch [39/45], Validation Loss: 0.0020, Validation F1 Score: 0.4734\n",
      "Epoch [40/45], Training Loss: 0.0017, Training F1 Score: 0.5340\n",
      "Epoch [40/45], Validation Loss: 0.0018, Validation F1 Score: 0.5001\n",
      "Epoch [41/45], Training Loss: 0.0016, Training F1 Score: 0.5574\n",
      "Epoch [41/45], Validation Loss: 0.0017, Validation F1 Score: 0.5250\n",
      "Epoch [42/45], Training Loss: 0.0016, Training F1 Score: 0.5737\n",
      "Epoch [42/45], Validation Loss: 0.0017, Validation F1 Score: 0.5296\n",
      "Epoch [43/45], Training Loss: 0.0023, Training F1 Score: 0.4929\n",
      "Epoch [43/45], Validation Loss: 0.0034, Validation F1 Score: 0.2813\n",
      "Epoch [44/45], Training Loss: 0.0021, Training F1 Score: 0.4790\n",
      "Epoch [44/45], Validation Loss: 0.0020, Validation F1 Score: 0.4833\n",
      "Epoch [45/45], Training Loss: 0.0017, Training F1 Score: 0.5416\n",
      "Epoch [45/45], Validation Loss: 0.0018, Validation F1 Score: 0.5159\n",
      "Finished Training\n"
     ]
    }
   ],
   "source": [
    "class RNNTagger(nn.Module):\n",
    "    def __init__(self, input_size, hidden_size, output_size):\n",
    "        super(RNNTagger, self).__init__()\n",
    "        self.rnn = nn.RNN(input_size, hidden_size, batch_first=True)\n",
    "        self.fc = nn.Linear(hidden_size, output_size)\n",
    "\n",
    "    def forward(self, x):\n",
    "        out, _ = self.rnn(x)\n",
    "        out = self.fc(out)\n",
    "        return out\n",
    "\n",
    "input_size = 300\n",
    "hidden_size = 256\n",
    "output_size = 100\n",
    "\n",
    "model = RNNTagger(input_size, hidden_size, output_size)\n",
    "\n",
    "device = torch.device(\"cuda\" if torch.cuda.is_available() else \"cpu\")\n",
    "model.to(device)\n",
    "\n",
    "criterion = nn.CrossEntropyLoss()\n",
    "optimizer = optim.Adam(model.parameters(), lr=0.001)\n",
    "\n",
    "num_epochs = 45\n",
    "batch_size = 32 \n",
    "\n",
    "texts_tensor = texts_tensor.to(device)\n",
    "labels_tensor = labels_tensor.to(device)\n",
    "val_texts_tensor = test_texts_tensor\n",
    "val_labels_tensor =  test_labels_tensor\n",
    "val_texts_tensor = val_texts_tensor.to(device)\n",
    "val_labels_tensor = val_labels_tensor.to(device)\n",
    "\n",
    "save_loss = 0\n",
    "\n",
    "for epoch in range(num_epochs):\n",
    "    \n",
    "    model.train()  \n",
    "    total_loss=0\n",
    "    train_predictions = []\n",
    "    train_labels = []\n",
    "    for i in range(0, len(texts_tensor), batch_size):\n",
    "        optimizer.zero_grad()\n",
    "        batch_texts = texts_tensor[i:i+batch_size]\n",
    "        batch_labels = labels_tensor[i:i+batch_size].view(-1)\n",
    "        outputs = model(batch_texts)\n",
    "        loss = criterion(outputs.view(-1, output_size), batch_labels)\n",
    "        loss.backward()\n",
    "        optimizer.step()\n",
    "        total_loss+=loss.item()\n",
    "        train_predictions.extend(torch.argmax(outputs, dim=2).flatten().cpu().tolist())\n",
    "        train_labels.extend(batch_labels.cpu().tolist())\n",
    "        \n",
    "    train_f1 = f1_score(train_labels, train_predictions, average='macro')\n",
    "    print(f'Epoch [{epoch+1}/{num_epochs}], Training Loss: {total_loss/len(texts_tensor):.4f}, Training F1 Score: {train_f1:.4f}')\n",
    "    \n",
    "    # Validation\n",
    "    model.eval()  \n",
    "    total_val_loss = 0\n",
    "    val_predictions = []\n",
    "    val_labels = []\n",
    "    \n",
    "    with torch.no_grad():\n",
    "        for i in range(0, len(val_texts_tensor), batch_size):\n",
    "            batch_texts_val = val_texts_tensor[i:i+batch_size]\n",
    "            batch_labels_val = val_labels_tensor[i:i+batch_size].view(-1)\n",
    "            outputs_val = model(batch_texts_val)\n",
    "            val_loss = criterion(outputs_val.view(-1, output_size), batch_labels_val)\n",
    "            total_val_loss += val_loss.item()\n",
    "            val_predictions.extend(torch.argmax(outputs_val, dim=2).flatten().cpu().tolist())\n",
    "            val_labels.extend(batch_labels_val.cpu().tolist())\n",
    "    \n",
    "    val_f1 = f1_score(val_labels, val_predictions, average='macro')\n",
    "    print(f'Epoch [{epoch+1}/{num_epochs}], Validation Loss: {total_val_loss/len(val_texts_tensor):.4f}, Validation F1 Score: {val_f1:.4f}')\n",
    "    if(val_f1>save_loss):\n",
    "        save_loss = val_f1\n",
    "        torch.save(model.state_dict(),'t1_rnn_word2vec.pt')\n",
    "    log_metric = {\"Epoch\": epoch+1, \"Training Loss\": total_loss/len(texts_tensor), \"Training F1 Score\": train_f1, \"Validation Loss\": total_val_loss/len(val_texts_tensor), \"Validation F1 Score\": val_f1}\n",
    "    wandb.log(log_metric)\n",
    "print(\"Finished Training\")\n",
    "    "
   ]
  },
  {
   "cell_type": "code",
   "execution_count": 12,
   "metadata": {},
   "outputs": [
    {
     "name": "stdout",
     "output_type": "stream",
     "text": [
      "949\n",
      "F1 Score on Test Set: 0.5389197786182608\n"
     ]
    }
   ],
   "source": [
    "with open('NER_test.json', 'r') as file:\n",
    "    valset = json.load(file)\n",
    "\n",
    "print(len(valset))\n",
    "max_seq_len = 315\n",
    "\n",
    "word_embeddings = []\n",
    "labels = []\n",
    "\n",
    "for key, value in valset.items():\n",
    "    text = value['text']\n",
    "    label_seq = value['labels']\n",
    "\n",
    "    label_list = list(label_map)  # Store index of each 27 classes created\n",
    "    label_indices = [label_list.index(label) for label in label_seq]\n",
    "    label_indices_padded = label_indices[:max_seq_len] + [0] * (max_seq_len - len(label_indices))\n",
    "    labels.append(label_indices_padded)\n",
    "\n",
    "    vectors = [word2vec_model[word] if word in word2vec_model else np.zeros(300) for word in text]\n",
    "    vectors_padded = [np.pad(vec, (0, 300), constant_values=0)[:300] for vec in vectors]\n",
    "    vectors_padded += [np.zeros(300)] * (max_seq_len - len(vectors_padded))\n",
    "    word_embeddings.append(vectors_padded)\n",
    "\n",
    "word_embeddings_array = np.array(word_embeddings)\n",
    "\n",
    "test_texts_tensor = torch.tensor(word_embeddings_array, dtype=torch.float32)\n",
    "test_labels_tensor = torch.tensor(labels)\n",
    "\n",
    "with torch.no_grad():\n",
    "    model = RNNTagger(input_size, hidden_size, output_size)\n",
    "    model = model.to(device)\n",
    "    model.load_state_dict(torch.load('t1_rnn_word2vec.pt'))\n",
    "    test_outputs = model(test_texts_tensor.to(device)) \n",
    "    argmax_indices = torch.argmax(test_outputs, dim=2)\n",
    "    reshaped_tensor = argmax_indices.view(949, 315)\n",
    "    fl_out = reshaped_tensor.flatten()\n",
    "    fl_label = test_labels_tensor.flatten().to(device) \n",
    "    f1 = f1_score(fl_out.cpu(), fl_label.cpu(), average='macro') \n",
    "    print(\"F1 Score on Test Set:\", f1)"
   ]
  },
  {
   "cell_type": "code",
   "execution_count": 11,
   "metadata": {},
   "outputs": [
    {
     "data": {
      "text/html": [
       "Finishing last run (ID:8ajoqf10) before initializing another..."
      ],
      "text/plain": [
       "<IPython.core.display.HTML object>"
      ]
     },
     "metadata": {},
     "output_type": "display_data"
    },
    {
     "data": {
      "text/html": [
       "<style>\n",
       "    table.wandb td:nth-child(1) { padding: 0 10px; text-align: left ; width: auto;} td:nth-child(2) {text-align: left ; width: 100%}\n",
       "    .wandb-row { display: flex; flex-direction: row; flex-wrap: wrap; justify-content: flex-start; width: 100% }\n",
       "    .wandb-col { display: flex; flex-direction: column; flex-basis: 100%; flex: 1; padding: 10px; }\n",
       "    </style>\n",
       "<div class=\"wandb-row\"><div class=\"wandb-col\"><h3>Run history:</h3><br/><table class=\"wandb\"><tr><td>Epoch</td><td>▁▁▁▁▂▂▂▂▂▃▃▃▃▃▃▄▄▄▄▄▅▅▅▅▅▅▆▆▆▆▆▆▇▇▇▇▇███</td></tr><tr><td>Training F1 Score</td><td>▁▂▃▄▅▅▆▆▆▆▆▇▇▇▇▇▇▇▇█▆▆▇▇▇▆▇▆▇▇▇▇█▇▇▇██▇█</td></tr><tr><td>Training Loss</td><td>█▃▄▂▂▂▂▂▁▁▁▁▁▁▁▁▁▁▁▁▂▂▁▁▁▁▂▂▁▁▁▁▁▁▁▁▁▁▂▁</td></tr><tr><td>Validation F1 Score</td><td>▁▃▁▄▅▆▅▆▆▆▇▇▆▇▇▇▇███▃▇▇▇▇█▄▇▆▇▇█▇▆▇███▄█</td></tr><tr><td>Validation Loss</td><td>▅▄▇▃▃▂▃▂▂▂▁▁▂▁▁▁▁▁▁▁▄▂▂▁▁▁█▂▂▁▂▁▂▃▂▁▁▁▄▁</td></tr></table><br/></div><div class=\"wandb-col\"><h3>Run summary:</h3><br/><table class=\"wandb\"><tr><td>Epoch</td><td>45</td></tr><tr><td>Training F1 Score</td><td>0.54157</td></tr><tr><td>Training Loss</td><td>0.00171</td></tr><tr><td>Validation F1 Score</td><td>0.51585</td></tr><tr><td>Validation Loss</td><td>0.00179</td></tr></table><br/></div></div>"
      ],
      "text/plain": [
       "<IPython.core.display.HTML object>"
      ]
     },
     "metadata": {},
     "output_type": "display_data"
    },
    {
     "data": {
      "text/html": [
       " View run <strong style=\"color:#cdcd00\">RNN_Word2Vec</strong> at: <a href='https://wandb.ai/yuhuhu/nlp_ass2/runs/8ajoqf10' target=\"_blank\">https://wandb.ai/yuhuhu/nlp_ass2/runs/8ajoqf10</a><br/>Synced 6 W&B file(s), 0 media file(s), 0 artifact file(s) and 0 other file(s)"
      ],
      "text/plain": [
       "<IPython.core.display.HTML object>"
      ]
     },
     "metadata": {},
     "output_type": "display_data"
    },
    {
     "data": {
      "text/html": [
       "Find logs at: <code>./wandb/run-20240311_213025-8ajoqf10/logs</code>"
      ],
      "text/plain": [
       "<IPython.core.display.HTML object>"
      ]
     },
     "metadata": {},
     "output_type": "display_data"
    },
    {
     "data": {
      "text/html": [
       "Successfully finished last run (ID:8ajoqf10). Initializing new run:<br/>"
      ],
      "text/plain": [
       "<IPython.core.display.HTML object>"
      ]
     },
     "metadata": {},
     "output_type": "display_data"
    },
    {
     "data": {
      "text/html": [
       "Tracking run with wandb version 0.16.4"
      ],
      "text/plain": [
       "<IPython.core.display.HTML object>"
      ]
     },
     "metadata": {},
     "output_type": "display_data"
    },
    {
     "data": {
      "text/html": [
       "Run data is saved locally in <code>/home/hiddenmist/Aman_Lakshay/DL_Ass/NLP_TEMP/NLP_Final/wandb/run-20240311_213320-apo0w56j</code>"
      ],
      "text/plain": [
       "<IPython.core.display.HTML object>"
      ]
     },
     "metadata": {},
     "output_type": "display_data"
    },
    {
     "data": {
      "text/html": [
       "Syncing run <strong><a href='https://wandb.ai/yuhuhu/nlp_ass2/runs/apo0w56j' target=\"_blank\">LSTM_Word2Vec</a></strong> to <a href='https://wandb.ai/yuhuhu/nlp_ass2' target=\"_blank\">Weights & Biases</a> (<a href='https://wandb.me/run' target=\"_blank\">docs</a>)<br/>"
      ],
      "text/plain": [
       "<IPython.core.display.HTML object>"
      ]
     },
     "metadata": {},
     "output_type": "display_data"
    },
    {
     "data": {
      "text/html": [
       " View project at <a href='https://wandb.ai/yuhuhu/nlp_ass2' target=\"_blank\">https://wandb.ai/yuhuhu/nlp_ass2</a>"
      ],
      "text/plain": [
       "<IPython.core.display.HTML object>"
      ]
     },
     "metadata": {},
     "output_type": "display_data"
    },
    {
     "data": {
      "text/html": [
       " View run at <a href='https://wandb.ai/yuhuhu/nlp_ass2/runs/apo0w56j' target=\"_blank\">https://wandb.ai/yuhuhu/nlp_ass2/runs/apo0w56j</a>"
      ],
      "text/plain": [
       "<IPython.core.display.HTML object>"
      ]
     },
     "metadata": {},
     "output_type": "display_data"
    },
    {
     "data": {
      "text/html": [
       "<button onClick=\"this.nextSibling.style.display='block';this.style.display='none';\">Display W&B run</button><iframe src='https://wandb.ai/yuhuhu/nlp_ass2/runs/apo0w56j?jupyter=true' style='border:none;width:100%;height:420px;display:none;'></iframe>"
      ],
      "text/plain": [
       "<wandb.sdk.wandb_run.Run at 0x7f7e01d3e310>"
      ]
     },
     "execution_count": 11,
     "metadata": {},
     "output_type": "execute_result"
    }
   ],
   "source": [
    "wandb.init(\n",
    "    project=\"nlp_ass2\", \n",
    "    name=f\"LSTM_Word2Vec\"\n",
    ")"
   ]
  },
  {
   "cell_type": "code",
   "execution_count": 13,
   "metadata": {},
   "outputs": [
    {
     "name": "stdout",
     "output_type": "stream",
     "text": [
      "Epoch [1/45], Training Loss: 0.0114, Training F1 Score: 0.0547\n",
      "Epoch [1/45], Validation Loss: 0.0040, Validation F1 Score: 0.1223\n",
      "Epoch [2/45], Training Loss: 0.0036, Training F1 Score: 0.1500\n",
      "Epoch [2/45], Validation Loss: 0.0034, Validation F1 Score: 0.2138\n",
      "Epoch [3/45], Training Loss: 0.0027, Training F1 Score: 0.2766\n",
      "Epoch [3/45], Validation Loss: 0.0027, Validation F1 Score: 0.3101\n",
      "Epoch [4/45], Training Loss: 0.0023, Training F1 Score: 0.3454\n",
      "Epoch [4/45], Validation Loss: 0.0024, Validation F1 Score: 0.3732\n",
      "Epoch [5/45], Training Loss: 0.0021, Training F1 Score: 0.3851\n",
      "Epoch [5/45], Validation Loss: 0.0024, Validation F1 Score: 0.3926\n",
      "Epoch [6/45], Training Loss: 0.0020, Training F1 Score: 0.4078\n",
      "Epoch [6/45], Validation Loss: 0.0022, Validation F1 Score: 0.4174\n",
      "Epoch [7/45], Training Loss: 0.0019, Training F1 Score: 0.4299\n",
      "Epoch [7/45], Validation Loss: 0.0023, Validation F1 Score: 0.4294\n",
      "Epoch [8/45], Training Loss: 0.0018, Training F1 Score: 0.4475\n",
      "Epoch [8/45], Validation Loss: 0.0021, Validation F1 Score: 0.4443\n",
      "Epoch [9/45], Training Loss: 0.0017, Training F1 Score: 0.4672\n",
      "Epoch [9/45], Validation Loss: 0.0021, Validation F1 Score: 0.4506\n",
      "Epoch [10/45], Training Loss: 0.0019, Training F1 Score: 0.4447\n",
      "Epoch [10/45], Validation Loss: 0.0023, Validation F1 Score: 0.4156\n",
      "Epoch [11/45], Training Loss: 0.0022, Training F1 Score: 0.4294\n",
      "Epoch [11/45], Validation Loss: 0.0022, Validation F1 Score: 0.4266\n",
      "Epoch [12/45], Training Loss: 0.0018, Training F1 Score: 0.4529\n",
      "Epoch [12/45], Validation Loss: 0.0021, Validation F1 Score: 0.4394\n",
      "Epoch [13/45], Training Loss: 0.0017, Training F1 Score: 0.4724\n",
      "Epoch [13/45], Validation Loss: 0.0021, Validation F1 Score: 0.4467\n",
      "Epoch [14/45], Training Loss: 0.0017, Training F1 Score: 0.4874\n",
      "Epoch [14/45], Validation Loss: 0.0020, Validation F1 Score: 0.4561\n",
      "Epoch [15/45], Training Loss: 0.0021, Training F1 Score: 0.4537\n",
      "Epoch [15/45], Validation Loss: 0.0023, Validation F1 Score: 0.4201\n",
      "Epoch [16/45], Training Loss: 0.0018, Training F1 Score: 0.4704\n",
      "Epoch [16/45], Validation Loss: 0.0021, Validation F1 Score: 0.4500\n",
      "Epoch [17/45], Training Loss: 0.0017, Training F1 Score: 0.4968\n",
      "Epoch [17/45], Validation Loss: 0.0020, Validation F1 Score: 0.4744\n",
      "Epoch [18/45], Training Loss: 0.0016, Training F1 Score: 0.5146\n",
      "Epoch [18/45], Validation Loss: 0.0020, Validation F1 Score: 0.4884\n",
      "Epoch [19/45], Training Loss: 0.0015, Training F1 Score: 0.5288\n",
      "Epoch [19/45], Validation Loss: 0.0020, Validation F1 Score: 0.5011\n",
      "Epoch [20/45], Training Loss: 0.0015, Training F1 Score: 0.5429\n",
      "Epoch [20/45], Validation Loss: 0.0020, Validation F1 Score: 0.5242\n",
      "Epoch [21/45], Training Loss: 0.0015, Training F1 Score: 0.5546\n",
      "Epoch [21/45], Validation Loss: 0.0020, Validation F1 Score: 0.5335\n",
      "Epoch [22/45], Training Loss: 0.0014, Training F1 Score: 0.5666\n",
      "Epoch [22/45], Validation Loss: 0.0020, Validation F1 Score: 0.5367\n",
      "Epoch [23/45], Training Loss: 0.0014, Training F1 Score: 0.5773\n",
      "Epoch [23/45], Validation Loss: 0.0019, Validation F1 Score: 0.5460\n",
      "Epoch [24/45], Training Loss: 0.0015, Training F1 Score: 0.5762\n",
      "Epoch [24/45], Validation Loss: 0.0023, Validation F1 Score: 0.4549\n",
      "Epoch [25/45], Training Loss: 0.0016, Training F1 Score: 0.5475\n",
      "Epoch [25/45], Validation Loss: 0.0020, Validation F1 Score: 0.5392\n",
      "Epoch [26/45], Training Loss: 0.0014, Training F1 Score: 0.5853\n",
      "Epoch [26/45], Validation Loss: 0.0020, Validation F1 Score: 0.5512\n",
      "Epoch [27/45], Training Loss: 0.0014, Training F1 Score: 0.6003\n",
      "Epoch [27/45], Validation Loss: 0.0020, Validation F1 Score: 0.5545\n",
      "Epoch [28/45], Training Loss: 0.0013, Training F1 Score: 0.6124\n",
      "Epoch [28/45], Validation Loss: 0.0020, Validation F1 Score: 0.5554\n",
      "Epoch [29/45], Training Loss: 0.0013, Training F1 Score: 0.6205\n",
      "Epoch [29/45], Validation Loss: 0.0020, Validation F1 Score: 0.5609\n",
      "Epoch [30/45], Training Loss: 0.0012, Training F1 Score: 0.6296\n",
      "Epoch [30/45], Validation Loss: 0.0020, Validation F1 Score: 0.5609\n",
      "Epoch [31/45], Training Loss: 0.0012, Training F1 Score: 0.6370\n",
      "Epoch [31/45], Validation Loss: 0.0020, Validation F1 Score: 0.5581\n",
      "Epoch [32/45], Training Loss: 0.0012, Training F1 Score: 0.6460\n",
      "Epoch [32/45], Validation Loss: 0.0020, Validation F1 Score: 0.5654\n",
      "Epoch [33/45], Training Loss: 0.0011, Training F1 Score: 0.6562\n",
      "Epoch [33/45], Validation Loss: 0.0020, Validation F1 Score: 0.5615\n",
      "Epoch [34/45], Training Loss: 0.0011, Training F1 Score: 0.6637\n",
      "Epoch [34/45], Validation Loss: 0.0020, Validation F1 Score: 0.5627\n",
      "Epoch [35/45], Training Loss: 0.0011, Training F1 Score: 0.6687\n",
      "Epoch [35/45], Validation Loss: 0.0021, Validation F1 Score: 0.5524\n",
      "Epoch [36/45], Training Loss: 0.0011, Training F1 Score: 0.6762\n",
      "Epoch [36/45], Validation Loss: 0.0021, Validation F1 Score: 0.5587\n",
      "Epoch [37/45], Training Loss: 0.0011, Training F1 Score: 0.6812\n",
      "Epoch [37/45], Validation Loss: 0.0021, Validation F1 Score: 0.5667\n",
      "Epoch [38/45], Training Loss: 0.0010, Training F1 Score: 0.6944\n",
      "Epoch [38/45], Validation Loss: 0.0021, Validation F1 Score: 0.5604\n",
      "Epoch [39/45], Training Loss: 0.0010, Training F1 Score: 0.7042\n",
      "Epoch [39/45], Validation Loss: 0.0022, Validation F1 Score: 0.5710\n",
      "Epoch [40/45], Training Loss: 0.0009, Training F1 Score: 0.7136\n",
      "Epoch [40/45], Validation Loss: 0.0022, Validation F1 Score: 0.5626\n",
      "Epoch [41/45], Training Loss: 0.0009, Training F1 Score: 0.7180\n",
      "Epoch [41/45], Validation Loss: 0.0023, Validation F1 Score: 0.5609\n",
      "Epoch [42/45], Training Loss: 0.0009, Training F1 Score: 0.7257\n",
      "Epoch [42/45], Validation Loss: 0.0023, Validation F1 Score: 0.5590\n",
      "Epoch [43/45], Training Loss: 0.0009, Training F1 Score: 0.7361\n",
      "Epoch [43/45], Validation Loss: 0.0024, Validation F1 Score: 0.5650\n",
      "Epoch [44/45], Training Loss: 0.0010, Training F1 Score: 0.7240\n",
      "Epoch [44/45], Validation Loss: 0.0023, Validation F1 Score: 0.5566\n",
      "Epoch [45/45], Training Loss: 0.0009, Training F1 Score: 0.7389\n",
      "Epoch [45/45], Validation Loss: 0.0023, Validation F1 Score: 0.5548\n",
      "Finished Training\n"
     ]
    }
   ],
   "source": [
    "class LSTMTagger(nn.Module):\n",
    "    def __init__(self, input_size, hidden_size, output_size):\n",
    "        super(LSTMTagger, self).__init__()\n",
    "        self.lstm = nn.LSTM(input_size, hidden_size, batch_first=True)\n",
    "        self.fc = nn.Linear(hidden_size, output_size)\n",
    "\n",
    "    def forward(self, x):\n",
    "        out, _ = self.lstm(x)\n",
    "        out = self.fc(out)\n",
    "        return out\n",
    "\n",
    "input_size = 300\n",
    "hidden_size = 256\n",
    "output_size = 100\n",
    "\n",
    "model = LSTMTagger(input_size, hidden_size, output_size) # Move model to GPU if available\n",
    "\n",
    "device = torch.device(\"cuda\" if torch.cuda.is_available() else \"cpu\")\n",
    "model.to(device)\n",
    "\n",
    "criterion = nn.CrossEntropyLoss()\n",
    "optimizer = optim.Adam(model.parameters(), lr=0.001)\n",
    "\n",
    "num_epochs = 45\n",
    "batch_size = 32 \n",
    "\n",
    "texts_tensor = texts_tensor.to(device)\n",
    "labels_tensor = labels_tensor.to(device)\n",
    "val_texts_tensor = test_texts_tensor\n",
    "val_labels_tensor =  test_labels_tensor\n",
    "val_texts_tensor = val_texts_tensor.to(device)\n",
    "val_labels_tensor = val_labels_tensor.to(device)\n",
    "\n",
    "save_loss = 0\n",
    "\n",
    "for epoch in range(num_epochs):\n",
    "    \n",
    "    model.train()  \n",
    "    total_loss=0\n",
    "    train_predictions = []\n",
    "    train_labels = []\n",
    "    for i in range(0, len(texts_tensor), batch_size):\n",
    "        optimizer.zero_grad()\n",
    "        batch_texts = texts_tensor[i:i+batch_size]\n",
    "        batch_labels = labels_tensor[i:i+batch_size].view(-1)\n",
    "        outputs = model(batch_texts)\n",
    "        loss = criterion(outputs.view(-1, output_size), batch_labels)\n",
    "        loss.backward()\n",
    "        optimizer.step()\n",
    "        total_loss+=loss.item()\n",
    "        train_predictions.extend(torch.argmax(outputs, dim=2).flatten().cpu().tolist())\n",
    "        train_labels.extend(batch_labels.cpu().tolist())\n",
    "        \n",
    "    train_f1 = f1_score(train_labels, train_predictions, average='macro')\n",
    "    print(f'Epoch [{epoch+1}/{num_epochs}], Training Loss: {total_loss/len(texts_tensor):.4f}, Training F1 Score: {train_f1:.4f}')\n",
    "    \n",
    "    # Validation\n",
    "    model.eval()  \n",
    "    total_val_loss = 0\n",
    "    val_predictions = []\n",
    "    val_labels = []\n",
    "    \n",
    "    with torch.no_grad():\n",
    "        for i in range(0, len(val_texts_tensor), batch_size):\n",
    "            batch_texts_val = val_texts_tensor[i:i+batch_size]\n",
    "            batch_labels_val = val_labels_tensor[i:i+batch_size].view(-1)\n",
    "            outputs_val = model(batch_texts_val)\n",
    "            val_loss = criterion(outputs_val.view(-1, output_size), batch_labels_val)\n",
    "            total_val_loss += val_loss.item()\n",
    "            val_predictions.extend(torch.argmax(outputs_val, dim=2).flatten().cpu().tolist())\n",
    "            val_labels.extend(batch_labels_val.cpu().tolist())\n",
    "    \n",
    "    val_f1 = f1_score(val_labels, val_predictions, average='macro')\n",
    "    print(f'Epoch [{epoch+1}/{num_epochs}], Validation Loss: {total_val_loss/len(val_texts_tensor):.4f}, Validation F1 Score: {val_f1:.4f}')\n",
    "    if(val_f1>save_loss):\n",
    "        save_loss = val_f1\n",
    "        torch.save(model.state_dict(),'t1_lstm_word2vec.pt')\n",
    "    log_metric = {\"Epoch\": epoch+1, \"Training Loss\": total_loss/len(texts_tensor), \"Training F1 Score\": train_f1, \"Validation Loss\": total_val_loss/len(val_texts_tensor), \"Validation F1 Score\": val_f1}\n",
    "    wandb.log(log_metric)\n",
    "print(\"Finished Training\")\n",
    "    "
   ]
  },
  {
   "cell_type": "code",
   "execution_count": 14,
   "metadata": {},
   "outputs": [
    {
     "name": "stdout",
     "output_type": "stream",
     "text": [
      "949\n",
      "F1 Score on Test Set: 0.5710304601979326\n"
     ]
    }
   ],
   "source": [
    "with open('NER_test.json', 'r') as file:\n",
    "    valset = json.load(file)\n",
    "\n",
    "print(len(valset))\n",
    "max_seq_len = 315\n",
    "\n",
    "word_embeddings = []\n",
    "labels = []\n",
    "\n",
    "for key, value in valset.items():\n",
    "    text = value['text']\n",
    "    label_seq = value['labels']\n",
    "\n",
    "    label_list = list(label_map)  # Store index of each 27 classes created\n",
    "    label_indices = [label_list.index(label) for label in label_seq]\n",
    "    label_indices_padded = label_indices[:max_seq_len] + [0] * (max_seq_len - len(label_indices))\n",
    "    labels.append(label_indices_padded)\n",
    "\n",
    "    vectors = [word2vec_model[word] if word in word2vec_model else np.zeros(300) for word in text]\n",
    "    vectors_padded = [np.pad(vec, (0, 300), constant_values=0)[:300] for vec in vectors]\n",
    "    vectors_padded += [np.zeros(300)] * (max_seq_len - len(vectors_padded))\n",
    "    word_embeddings.append(vectors_padded)\n",
    "\n",
    "word_embeddings_array = np.array(word_embeddings)\n",
    "\n",
    "test_texts_tensor = torch.tensor(word_embeddings_array, dtype=torch.float32)\n",
    "test_labels_tensor = torch.tensor(labels)\n",
    "\n",
    "with torch.no_grad():\n",
    "    model = LSTMTagger(input_size, hidden_size, output_size)\n",
    "    model = model.to(device)\n",
    "    model.load_state_dict(torch.load('t1_lstm_word2vec.pt'))\n",
    "    test_outputs = model(test_texts_tensor.to(device)) \n",
    "    argmax_indices = torch.argmax(test_outputs, dim=2)\n",
    "    reshaped_tensor = argmax_indices.view(949, 315)\n",
    "    fl_out = reshaped_tensor.flatten()\n",
    "    fl_label = test_labels_tensor.flatten().to(device) \n",
    "    f1 = f1_score(fl_out.cpu(), fl_label.cpu(), average='macro') \n",
    "    print(\"F1 Score on Test Set:\", f1)"
   ]
  },
  {
   "cell_type": "code",
   "execution_count": 15,
   "metadata": {},
   "outputs": [
    {
     "data": {
      "text/html": [
       "Finishing last run (ID:apo0w56j) before initializing another..."
      ],
      "text/plain": [
       "<IPython.core.display.HTML object>"
      ]
     },
     "metadata": {},
     "output_type": "display_data"
    },
    {
     "data": {
      "text/html": [
       "<style>\n",
       "    table.wandb td:nth-child(1) { padding: 0 10px; text-align: left ; width: auto;} td:nth-child(2) {text-align: left ; width: 100%}\n",
       "    .wandb-row { display: flex; flex-direction: row; flex-wrap: wrap; justify-content: flex-start; width: 100% }\n",
       "    .wandb-col { display: flex; flex-direction: column; flex-basis: 100%; flex: 1; padding: 10px; }\n",
       "    </style>\n",
       "<div class=\"wandb-row\"><div class=\"wandb-col\"><h3>Run history:</h3><br/><table class=\"wandb\"><tr><td>Epoch</td><td>▁▁▁▁▂▂▂▂▂▃▃▃▃▃▃▄▄▄▄▄▅▅▅▅▅▅▆▆▆▆▆▆▇▇▇▇▇███</td></tr><tr><td>Training F1 Score</td><td>▁▂▃▄▄▅▅▅▅▅▅▅▅▅▅▆▆▆▆▆▆▆▆▆▇▇▇▇▇▇▇▇▇███████</td></tr><tr><td>Training Loss</td><td>█▃▂▂▂▂▂▂▂▂▂▂▂▂▂▂▁▁▁▁▁▁▁▁▁▁▁▁▁▁▁▁▁▁▁▁▁▁▁▁</td></tr><tr><td>Validation F1 Score</td><td>▁▂▄▅▅▆▆▆▆▆▆▆▆▆▆▆▇▇▇▇█▆██████████████████</td></tr><tr><td>Validation Loss</td><td>█▆▃▃▂▂▂▂▂▂▁▁▁▂▁▁▁▁▁▁▁▂▁▁▁▁▁▁▁▁▁▁▁▂▂▂▂▂▂▂</td></tr></table><br/></div><div class=\"wandb-col\"><h3>Run summary:</h3><br/><table class=\"wandb\"><tr><td>Epoch</td><td>45</td></tr><tr><td>Training F1 Score</td><td>0.73893</td></tr><tr><td>Training Loss</td><td>0.00086</td></tr><tr><td>Validation F1 Score</td><td>0.55483</td></tr><tr><td>Validation Loss</td><td>0.00233</td></tr></table><br/></div></div>"
      ],
      "text/plain": [
       "<IPython.core.display.HTML object>"
      ]
     },
     "metadata": {},
     "output_type": "display_data"
    },
    {
     "data": {
      "text/html": [
       " View run <strong style=\"color:#cdcd00\">LSTM_Word2Vec</strong> at: <a href='https://wandb.ai/yuhuhu/nlp_ass2/runs/apo0w56j' target=\"_blank\">https://wandb.ai/yuhuhu/nlp_ass2/runs/apo0w56j</a><br/>Synced 6 W&B file(s), 0 media file(s), 0 artifact file(s) and 0 other file(s)"
      ],
      "text/plain": [
       "<IPython.core.display.HTML object>"
      ]
     },
     "metadata": {},
     "output_type": "display_data"
    },
    {
     "data": {
      "text/html": [
       "Find logs at: <code>./wandb/run-20240311_213320-apo0w56j/logs</code>"
      ],
      "text/plain": [
       "<IPython.core.display.HTML object>"
      ]
     },
     "metadata": {},
     "output_type": "display_data"
    },
    {
     "data": {
      "text/html": [
       "Successfully finished last run (ID:apo0w56j). Initializing new run:<br/>"
      ],
      "text/plain": [
       "<IPython.core.display.HTML object>"
      ]
     },
     "metadata": {},
     "output_type": "display_data"
    },
    {
     "data": {
      "text/html": [
       "Tracking run with wandb version 0.16.4"
      ],
      "text/plain": [
       "<IPython.core.display.HTML object>"
      ]
     },
     "metadata": {},
     "output_type": "display_data"
    },
    {
     "data": {
      "text/html": [
       "Run data is saved locally in <code>/home/hiddenmist/Aman_Lakshay/DL_Ass/NLP_TEMP/NLP_Final/wandb/run-20240311_214050-asatc0rp</code>"
      ],
      "text/plain": [
       "<IPython.core.display.HTML object>"
      ]
     },
     "metadata": {},
     "output_type": "display_data"
    },
    {
     "data": {
      "text/html": [
       "Syncing run <strong><a href='https://wandb.ai/yuhuhu/nlp_ass2/runs/asatc0rp' target=\"_blank\">GRU_Word2Vec</a></strong> to <a href='https://wandb.ai/yuhuhu/nlp_ass2' target=\"_blank\">Weights & Biases</a> (<a href='https://wandb.me/run' target=\"_blank\">docs</a>)<br/>"
      ],
      "text/plain": [
       "<IPython.core.display.HTML object>"
      ]
     },
     "metadata": {},
     "output_type": "display_data"
    },
    {
     "data": {
      "text/html": [
       " View project at <a href='https://wandb.ai/yuhuhu/nlp_ass2' target=\"_blank\">https://wandb.ai/yuhuhu/nlp_ass2</a>"
      ],
      "text/plain": [
       "<IPython.core.display.HTML object>"
      ]
     },
     "metadata": {},
     "output_type": "display_data"
    },
    {
     "data": {
      "text/html": [
       " View run at <a href='https://wandb.ai/yuhuhu/nlp_ass2/runs/asatc0rp' target=\"_blank\">https://wandb.ai/yuhuhu/nlp_ass2/runs/asatc0rp</a>"
      ],
      "text/plain": [
       "<IPython.core.display.HTML object>"
      ]
     },
     "metadata": {},
     "output_type": "display_data"
    },
    {
     "data": {
      "text/html": [
       "<button onClick=\"this.nextSibling.style.display='block';this.style.display='none';\">Display W&B run</button><iframe src='https://wandb.ai/yuhuhu/nlp_ass2/runs/asatc0rp?jupyter=true' style='border:none;width:100%;height:420px;display:none;'></iframe>"
      ],
      "text/plain": [
       "<wandb.sdk.wandb_run.Run at 0x7f7c09181850>"
      ]
     },
     "execution_count": 15,
     "metadata": {},
     "output_type": "execute_result"
    }
   ],
   "source": [
    "wandb.init(\n",
    "    project=\"nlp_ass2\", \n",
    "    name=f\"GRU_Word2Vec\"\n",
    ")"
   ]
  },
  {
   "cell_type": "code",
   "execution_count": 16,
   "metadata": {},
   "outputs": [
    {
     "name": "stdout",
     "output_type": "stream",
     "text": [
      "Epoch [1/45], Training Loss: 0.0097, Training F1 Score: 0.0662\n",
      "Epoch [1/45], Validation Loss: 0.0046, Validation F1 Score: 0.0689\n",
      "Epoch [2/45], Training Loss: 0.0038, Training F1 Score: 0.0779\n",
      "Epoch [2/45], Validation Loss: 0.0038, Validation F1 Score: 0.0892\n",
      "Epoch [3/45], Training Loss: 0.0033, Training F1 Score: 0.1034\n",
      "Epoch [3/45], Validation Loss: 0.0033, Validation F1 Score: 0.1069\n",
      "Epoch [4/45], Training Loss: 0.0028, Training F1 Score: 0.1902\n",
      "Epoch [4/45], Validation Loss: 0.0028, Validation F1 Score: 0.2408\n",
      "Epoch [5/45], Training Loss: 0.0025, Training F1 Score: 0.2856\n",
      "Epoch [5/45], Validation Loss: 0.0024, Validation F1 Score: 0.3574\n",
      "Epoch [6/45], Training Loss: 0.0022, Training F1 Score: 0.3493\n",
      "Epoch [6/45], Validation Loss: 0.0022, Validation F1 Score: 0.3913\n",
      "Epoch [7/45], Training Loss: 0.0020, Training F1 Score: 0.3898\n",
      "Epoch [7/45], Validation Loss: 0.0021, Validation F1 Score: 0.4196\n",
      "Epoch [8/45], Training Loss: 0.0019, Training F1 Score: 0.4218\n",
      "Epoch [8/45], Validation Loss: 0.0020, Validation F1 Score: 0.4382\n",
      "Epoch [9/45], Training Loss: 0.0017, Training F1 Score: 0.4458\n",
      "Epoch [9/45], Validation Loss: 0.0020, Validation F1 Score: 0.4572\n",
      "Epoch [10/45], Training Loss: 0.0016, Training F1 Score: 0.4660\n",
      "Epoch [10/45], Validation Loss: 0.0020, Validation F1 Score: 0.4652\n",
      "Epoch [11/45], Training Loss: 0.0015, Training F1 Score: 0.4914\n",
      "Epoch [11/45], Validation Loss: 0.0020, Validation F1 Score: 0.4868\n",
      "Epoch [12/45], Training Loss: 0.0015, Training F1 Score: 0.5159\n",
      "Epoch [12/45], Validation Loss: 0.0020, Validation F1 Score: 0.4936\n",
      "Epoch [13/45], Training Loss: 0.0014, Training F1 Score: 0.5373\n",
      "Epoch [13/45], Validation Loss: 0.0020, Validation F1 Score: 0.5147\n",
      "Epoch [14/45], Training Loss: 0.0013, Training F1 Score: 0.5697\n",
      "Epoch [14/45], Validation Loss: 0.0020, Validation F1 Score: 0.5213\n",
      "Epoch [15/45], Training Loss: 0.0013, Training F1 Score: 0.5923\n",
      "Epoch [15/45], Validation Loss: 0.0020, Validation F1 Score: 0.5268\n",
      "Epoch [16/45], Training Loss: 0.0013, Training F1 Score: 0.6098\n",
      "Epoch [16/45], Validation Loss: 0.0021, Validation F1 Score: 0.5280\n",
      "Epoch [17/45], Training Loss: 0.0011, Training F1 Score: 0.6272\n",
      "Epoch [17/45], Validation Loss: 0.0022, Validation F1 Score: 0.5389\n",
      "Epoch [18/45], Training Loss: 0.0011, Training F1 Score: 0.6403\n",
      "Epoch [18/45], Validation Loss: 0.0024, Validation F1 Score: 0.5270\n",
      "Epoch [19/45], Training Loss: 0.0011, Training F1 Score: 0.6488\n",
      "Epoch [19/45], Validation Loss: 0.0024, Validation F1 Score: 0.5406\n",
      "Epoch [20/45], Training Loss: 0.0010, Training F1 Score: 0.6705\n",
      "Epoch [20/45], Validation Loss: 0.0023, Validation F1 Score: 0.5524\n",
      "Epoch [21/45], Training Loss: 0.0009, Training F1 Score: 0.6883\n",
      "Epoch [21/45], Validation Loss: 0.0022, Validation F1 Score: 0.5439\n",
      "Epoch [22/45], Training Loss: 0.0009, Training F1 Score: 0.6998\n",
      "Epoch [22/45], Validation Loss: 0.0024, Validation F1 Score: 0.5486\n",
      "Epoch [23/45], Training Loss: 0.0009, Training F1 Score: 0.7116\n",
      "Epoch [23/45], Validation Loss: 0.0024, Validation F1 Score: 0.5504\n",
      "Epoch [24/45], Training Loss: 0.0009, Training F1 Score: 0.7209\n",
      "Epoch [24/45], Validation Loss: 0.0024, Validation F1 Score: 0.5600\n",
      "Epoch [25/45], Training Loss: 0.0009, Training F1 Score: 0.7222\n",
      "Epoch [25/45], Validation Loss: 0.0026, Validation F1 Score: 0.5594\n",
      "Epoch [26/45], Training Loss: 0.0008, Training F1 Score: 0.7358\n",
      "Epoch [26/45], Validation Loss: 0.0029, Validation F1 Score: 0.5508\n",
      "Epoch [27/45], Training Loss: 0.0008, Training F1 Score: 0.7533\n",
      "Epoch [27/45], Validation Loss: 0.0032, Validation F1 Score: 0.5371\n",
      "Epoch [28/45], Training Loss: 0.0007, Training F1 Score: 0.7634\n",
      "Epoch [28/45], Validation Loss: 0.0031, Validation F1 Score: 0.5491\n",
      "Epoch [29/45], Training Loss: 0.0007, Training F1 Score: 0.7742\n",
      "Epoch [29/45], Validation Loss: 0.0029, Validation F1 Score: 0.5540\n",
      "Epoch [30/45], Training Loss: 0.0006, Training F1 Score: 0.7873\n",
      "Epoch [30/45], Validation Loss: 0.0029, Validation F1 Score: 0.5612\n",
      "Epoch [31/45], Training Loss: 0.0006, Training F1 Score: 0.7906\n",
      "Epoch [31/45], Validation Loss: 0.0032, Validation F1 Score: 0.5427\n",
      "Epoch [32/45], Training Loss: 0.0006, Training F1 Score: 0.8008\n",
      "Epoch [32/45], Validation Loss: 0.0032, Validation F1 Score: 0.5611\n",
      "Epoch [33/45], Training Loss: 0.0006, Training F1 Score: 0.8098\n",
      "Epoch [33/45], Validation Loss: 0.0033, Validation F1 Score: 0.5582\n",
      "Epoch [34/45], Training Loss: 0.0005, Training F1 Score: 0.8214\n",
      "Epoch [34/45], Validation Loss: 0.0032, Validation F1 Score: 0.5593\n",
      "Epoch [35/45], Training Loss: 0.0005, Training F1 Score: 0.8244\n",
      "Epoch [35/45], Validation Loss: 0.0033, Validation F1 Score: 0.5551\n",
      "Epoch [36/45], Training Loss: 0.0005, Training F1 Score: 0.8310\n",
      "Epoch [36/45], Validation Loss: 0.0037, Validation F1 Score: 0.5487\n",
      "Epoch [37/45], Training Loss: 0.0005, Training F1 Score: 0.8411\n",
      "Epoch [37/45], Validation Loss: 0.0035, Validation F1 Score: 0.5387\n",
      "Epoch [38/45], Training Loss: 0.0005, Training F1 Score: 0.8509\n",
      "Epoch [38/45], Validation Loss: 0.0034, Validation F1 Score: 0.5487\n",
      "Epoch [39/45], Training Loss: 0.0004, Training F1 Score: 0.8587\n",
      "Epoch [39/45], Validation Loss: 0.0035, Validation F1 Score: 0.5326\n",
      "Epoch [40/45], Training Loss: 0.0004, Training F1 Score: 0.8609\n",
      "Epoch [40/45], Validation Loss: 0.0033, Validation F1 Score: 0.5376\n",
      "Epoch [41/45], Training Loss: 0.0004, Training F1 Score: 0.8677\n",
      "Epoch [41/45], Validation Loss: 0.0036, Validation F1 Score: 0.5479\n",
      "Epoch [42/45], Training Loss: 0.0004, Training F1 Score: 0.8764\n",
      "Epoch [42/45], Validation Loss: 0.0036, Validation F1 Score: 0.5341\n",
      "Epoch [43/45], Training Loss: 0.0004, Training F1 Score: 0.8760\n",
      "Epoch [43/45], Validation Loss: 0.0038, Validation F1 Score: 0.5465\n",
      "Epoch [44/45], Training Loss: 0.0003, Training F1 Score: 0.8833\n",
      "Epoch [44/45], Validation Loss: 0.0039, Validation F1 Score: 0.5651\n",
      "Epoch [45/45], Training Loss: 0.0003, Training F1 Score: 0.8957\n",
      "Epoch [45/45], Validation Loss: 0.0044, Validation F1 Score: 0.5465\n",
      "Finished Training\n"
     ]
    }
   ],
   "source": [
    "class GRUTagger(nn.Module):\n",
    "    def __init__(self, input_size, hidden_size, output_size):\n",
    "        super(GRUTagger, self).__init__()\n",
    "        self.gru = nn.GRU(input_size, hidden_size, batch_first=True)\n",
    "        self.gru1 = nn.GRU(hidden_size, hidden_size, batch_first=True)\n",
    "        self.fc1 = nn.Linear(hidden_size, output_size)\n",
    "        self.dropout = nn.Dropout(0.5) \n",
    "\n",
    "    def forward(self, x):\n",
    "        out, _ = self.gru(x)\n",
    "        out = torch.relu(out)\n",
    "        out, _ = self.gru1(out)\n",
    "        out = torch.relu(out)\n",
    "        out = self.dropout(out)  \n",
    "        out = self.fc1(out)\n",
    "        return out\n",
    "    \n",
    "input_size = 300\n",
    "hidden_size = 256\n",
    "output_size = 27\n",
    "\n",
    "model = GRUTagger(input_size, hidden_size, output_size)\n",
    "\n",
    "device = torch.device(\"cuda\" if torch.cuda.is_available() else \"cpu\")\n",
    "model.to(device)\n",
    "\n",
    "criterion = nn.CrossEntropyLoss()\n",
    "optimizer = optim.Adam(model.parameters(), lr=0.001)\n",
    "\n",
    "num_epochs = 45\n",
    "batch_size = 32 \n",
    "\n",
    "texts_tensor = texts_tensor.to(device)\n",
    "labels_tensor = labels_tensor.to(device)\n",
    "val_texts_tensor = test_texts_tensor\n",
    "val_labels_tensor =  test_labels_tensor\n",
    "val_texts_tensor = val_texts_tensor.to(device)\n",
    "val_labels_tensor = val_labels_tensor.to(device)\n",
    "\n",
    "save_loss = 0\n",
    "\n",
    "for epoch in range(num_epochs):\n",
    "    \n",
    "    model.train()  \n",
    "    total_loss=0\n",
    "    train_predictions = []\n",
    "    train_labels = []\n",
    "    for i in range(0, len(texts_tensor), batch_size):\n",
    "        optimizer.zero_grad()\n",
    "        batch_texts = texts_tensor[i:i+batch_size]\n",
    "        batch_labels = labels_tensor[i:i+batch_size].view(-1)\n",
    "        outputs = model(batch_texts)\n",
    "        loss = criterion(outputs.view(-1, output_size), batch_labels)\n",
    "        loss.backward()\n",
    "        optimizer.step()\n",
    "        total_loss+=loss.item()\n",
    "        train_predictions.extend(torch.argmax(outputs, dim=2).flatten().cpu().tolist())\n",
    "        train_labels.extend(batch_labels.cpu().tolist())\n",
    "        \n",
    "    train_f1 = f1_score(train_labels, train_predictions, average='macro')\n",
    "    print(f'Epoch [{epoch+1}/{num_epochs}], Training Loss: {total_loss/len(texts_tensor):.4f}, Training F1 Score: {train_f1:.4f}')\n",
    "    \n",
    "    # Validation\n",
    "    model.eval()  \n",
    "    total_val_loss = 0\n",
    "    val_predictions = []\n",
    "    val_labels = []\n",
    "    \n",
    "    with torch.no_grad():\n",
    "        for i in range(0, len(val_texts_tensor), batch_size):\n",
    "            batch_texts_val = val_texts_tensor[i:i+batch_size]\n",
    "            batch_labels_val = val_labels_tensor[i:i+batch_size].view(-1)\n",
    "            outputs_val = model(batch_texts_val)\n",
    "            val_loss = criterion(outputs_val.view(-1, output_size), batch_labels_val)\n",
    "            total_val_loss += val_loss.item()\n",
    "            val_predictions.extend(torch.argmax(outputs_val, dim=2).flatten().cpu().tolist())\n",
    "            val_labels.extend(batch_labels_val.cpu().tolist())\n",
    "    \n",
    "    val_f1 = f1_score(val_labels, val_predictions, average='macro')\n",
    "    print(f'Epoch [{epoch+1}/{num_epochs}], Validation Loss: {total_val_loss/len(val_texts_tensor):.4f}, Validation F1 Score: {val_f1:.4f}')\n",
    "    if(val_f1>save_loss):\n",
    "        save_loss = val_f1\n",
    "        torch.save(model.state_dict(),'t1_gru_word2vec.pt')\n",
    "    log_metric = {\"Epoch\": epoch+1, \"Training Loss\": total_loss/len(texts_tensor), \"Training F1 Score\": train_f1, \"Validation Loss\": total_val_loss/len(val_texts_tensor), \"Validation F1 Score\": val_f1}\n",
    "    wandb.log(log_metric)\n",
    "print(\"Finished Training\")\n",
    "    "
   ]
  },
  {
   "cell_type": "code",
   "execution_count": 17,
   "metadata": {},
   "outputs": [
    {
     "name": "stdout",
     "output_type": "stream",
     "text": [
      "949\n",
      "F1 Score on Test Set: 0.5393807393170915\n"
     ]
    }
   ],
   "source": [
    "with open('NER_test.json', 'r') as file:\n",
    "    valset = json.load(file)\n",
    "\n",
    "print(len(valset))\n",
    "max_seq_len = 315\n",
    "\n",
    "word_embeddings = []\n",
    "labels = []\n",
    "\n",
    "for key, value in valset.items():\n",
    "    text = value['text']\n",
    "    label_seq = value['labels']\n",
    "\n",
    "    label_list = list(label_map)  # Store index of each 27 classes created\n",
    "    label_indices = [label_list.index(label) for label in label_seq]\n",
    "    label_indices_padded = label_indices[:max_seq_len] + [0] * (max_seq_len - len(label_indices))\n",
    "    labels.append(label_indices_padded)\n",
    "\n",
    "    vectors = [word2vec_model[word] if word in word2vec_model else np.zeros(300) for word in text]\n",
    "    vectors_padded = [np.pad(vec, (0, 300), constant_values=0)[:300] for vec in vectors]\n",
    "    vectors_padded += [np.zeros(300)] * (max_seq_len - len(vectors_padded))\n",
    "    word_embeddings.append(vectors_padded)\n",
    "\n",
    "word_embeddings_array = np.array(word_embeddings)\n",
    "\n",
    "test_texts_tensor = torch.tensor(word_embeddings_array, dtype=torch.float32)\n",
    "test_labels_tensor = torch.tensor(labels)\n",
    "\n",
    "with torch.no_grad():\n",
    "    model = GRUTagger(input_size, hidden_size, output_size)\n",
    "    model = model.to(device)\n",
    "    model.load_state_dict(torch.load('t1_gru_word2vec.pt'))\n",
    "    test_outputs = model(test_texts_tensor.to(device)) \n",
    "    argmax_indices = torch.argmax(test_outputs, dim=2)\n",
    "    reshaped_tensor = argmax_indices.view(949, 315)\n",
    "    fl_out = reshaped_tensor.flatten()\n",
    "    fl_label = test_labels_tensor.flatten().to(device) \n",
    "    f1 = f1_score(fl_out.cpu(), fl_label.cpu(), average='macro') \n",
    "    print(\"F1 Score on Test Set:\", f1)"
   ]
  }
 ],
 "metadata": {
  "kernelspec": {
   "display_name": "CROSSCAPS",
   "language": "python",
   "name": "python3"
  },
  "language_info": {
   "codemirror_mode": {
    "name": "ipython",
    "version": 3
   },
   "file_extension": ".py",
   "mimetype": "text/x-python",
   "name": "python",
   "nbconvert_exporter": "python",
   "pygments_lexer": "ipython3",
   "version": "3.11.7 (main, Dec 15 2023, 18:12:31) [GCC 11.2.0]"
  },
  "orig_nbformat": 4,
  "vscode": {
   "interpreter": {
    "hash": "85ee25f3913e79dfaf73cc9743a698525d72dde364ea63726e0c3f70211b2c45"
   }
  }
 },
 "nbformat": 4,
 "nbformat_minor": 2
}
