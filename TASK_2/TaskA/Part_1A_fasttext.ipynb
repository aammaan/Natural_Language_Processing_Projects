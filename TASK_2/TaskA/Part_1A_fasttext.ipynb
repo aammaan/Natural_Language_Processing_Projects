{
 "cells": [
  {
   "attachments": {},
   "cell_type": "markdown",
   "metadata": {},
   "source": [
    "# Fasttext Embedding"
   ]
  },
  {
   "cell_type": "code",
   "execution_count": 1,
   "metadata": {},
   "outputs": [],
   "source": [
    "from gensim.models import KeyedVectors\n",
    "import json\n",
    "import numpy as np\n",
    "import torch\n",
    "from sklearn.metrics import f1_score\n",
    "import torch.nn.functional as F\n",
    "import torch.nn as nn\n",
    "import torch.optim as optim"
   ]
  },
  {
   "cell_type": "code",
   "execution_count": 2,
   "metadata": {},
   "outputs": [],
   "source": [
    "label_map = {'B_GPE', 'B_PETITIONER', 'B_ORG', 'I_CASE_NUMBER', 'I_ORG', 'I_STATUTE', 'B_RESPONDENT', 'I_JUDGE', 'I_GPE', 'B_COURT', 'I_DATE', 'B_OTHER_PERSON', 'B_PRECEDENT', 'B_JUDGE', 'O', 'I_PETITIONER', 'I_OTHER_PERSON', 'B_STATUTE', 'I_RESPONDENT', 'B_WITNESS', 'B_CASE_NUMBER', 'I_COURT', 'B_DATE', 'I_WITNESS', 'I_PROVISION', 'I_PRECEDENT', 'B_PROVISION'}"
   ]
  },
  {
   "cell_type": "code",
   "execution_count": 3,
   "metadata": {},
   "outputs": [
    {
     "name": "stdout",
     "output_type": "stream",
     "text": [
      "8019\n",
      "(8019, 315, 300)\n"
     ]
    }
   ],
   "source": [
    "word2vec_model_path = 'crawl-300d-2M.vec'\n",
    "word2vec_model = KeyedVectors.load_word2vec_format(word2vec_model_path, limit = 100000)\n",
    "\n",
    "\n",
    "with open('NER_train.json', 'r') as file:\n",
    "    dataset = json.load(file)\n",
    "\n",
    "print(len(dataset))\n",
    "\n",
    "max_seq_len = 315\n",
    "word_embeddings = []\n",
    "labels = []\n",
    "\n",
    "for key, value in dataset.items():\n",
    "    text = value['text']\n",
    "    label_seq = value['labels']\n",
    "\n",
    "    label_list = list(label_map)  \n",
    "    label_indices = [label_list.index(label) for label in label_seq]\n",
    "    label_indices_padded = label_indices[:max_seq_len] + [0] * (max_seq_len - len(label_indices))\n",
    "    labels.append(label_indices_padded)\n",
    "\n",
    "    vectors = [word2vec_model[word] if word in word2vec_model else np.zeros(300) for word in text] \n",
    "    vectors_padded = [np.pad(vec, (0, 300), constant_values=0)[:300] for vec in vectors]\n",
    "    vectors_padded += [np.zeros(300)] * (max_seq_len - len(vectors_padded))\n",
    "    word_embeddings.append(vectors_padded)\n",
    "\n",
    "word_embeddings_array = np.array(word_embeddings)\n",
    "print(word_embeddings_array.shape)\n",
    "texts_tensor = torch.tensor(word_embeddings_array, dtype=torch.float32)\n",
    "labels_tensor = torch.tensor(labels)"
   ]
  },
  {
   "cell_type": "code",
   "execution_count": 4,
   "metadata": {},
   "outputs": [
    {
     "name": "stdout",
     "output_type": "stream",
     "text": [
      "1416\n"
     ]
    }
   ],
   "source": [
    "with open('NER_val.json', 'r') as file:\n",
    "    valset = json.load(file)\n",
    "\n",
    "print(len(valset))\n",
    "max_seq_len = 315\n",
    "\n",
    "word_embeddings = []\n",
    "labels = []\n",
    "\n",
    "for key, value in valset.items():\n",
    "    text = value['text']\n",
    "    label_seq = value['labels']\n",
    "\n",
    "    label_list = list(label_map)  # Store index of each 27 classes created\n",
    "    label_indices = [label_list.index(label) for label in label_seq]\n",
    "    label_indices_padded = label_indices[:max_seq_len] + [0] * (max_seq_len - len(label_indices))\n",
    "    labels.append(label_indices_padded)\n",
    "\n",
    "    vectors = [word2vec_model[word] if word in word2vec_model else np.zeros(300) for word in text]\n",
    "    vectors_padded = [np.pad(vec, (0, 300), constant_values=0)[:300] for vec in vectors]\n",
    "    vectors_padded += [np.zeros(300)] * (max_seq_len - len(vectors_padded))\n",
    "    word_embeddings.append(vectors_padded)\n",
    "\n",
    "word_embeddings_array = np.array(word_embeddings)\n",
    "\n",
    "test_texts_tensor = torch.tensor(word_embeddings_array, dtype=torch.float32)\n",
    "test_labels_tensor = torch.tensor(labels)"
   ]
  },
  {
   "cell_type": "code",
   "execution_count": 5,
   "metadata": {},
   "outputs": [
    {
     "name": "stderr",
     "output_type": "stream",
     "text": [
      "Failed to detect the name of this notebook, you can set it manually with the WANDB_NOTEBOOK_NAME environment variable to enable code saving.\n",
      "\u001b[34m\u001b[1mwandb\u001b[0m: Currently logged in as: \u001b[33maman21010\u001b[0m (\u001b[33myuhuhu\u001b[0m). Use \u001b[1m`wandb login --relogin`\u001b[0m to force relogin\n"
     ]
    },
    {
     "data": {
      "text/plain": [
       "True"
      ]
     },
     "execution_count": 5,
     "metadata": {},
     "output_type": "execute_result"
    }
   ],
   "source": [
    "import wandb\n",
    "wandb.login()"
   ]
  },
  {
   "cell_type": "code",
   "execution_count": 6,
   "metadata": {},
   "outputs": [
    {
     "data": {
      "text/html": [
       "Tracking run with wandb version 0.16.4"
      ],
      "text/plain": [
       "<IPython.core.display.HTML object>"
      ]
     },
     "metadata": {},
     "output_type": "display_data"
    },
    {
     "data": {
      "text/html": [
       "Run data is saved locally in <code>/home/hiddenmist/Aman_Lakshay/DL_Ass/NLP_TEMP/NLP_Final/wandb/run-20240311_220943-sqofj0k1</code>"
      ],
      "text/plain": [
       "<IPython.core.display.HTML object>"
      ]
     },
     "metadata": {},
     "output_type": "display_data"
    },
    {
     "data": {
      "text/html": [
       "Syncing run <strong><a href='https://wandb.ai/yuhuhu/nlp_ass2/runs/sqofj0k1' target=\"_blank\">RNN_Fasttext</a></strong> to <a href='https://wandb.ai/yuhuhu/nlp_ass2' target=\"_blank\">Weights & Biases</a> (<a href='https://wandb.me/run' target=\"_blank\">docs</a>)<br/>"
      ],
      "text/plain": [
       "<IPython.core.display.HTML object>"
      ]
     },
     "metadata": {},
     "output_type": "display_data"
    },
    {
     "data": {
      "text/html": [
       " View project at <a href='https://wandb.ai/yuhuhu/nlp_ass2' target=\"_blank\">https://wandb.ai/yuhuhu/nlp_ass2</a>"
      ],
      "text/plain": [
       "<IPython.core.display.HTML object>"
      ]
     },
     "metadata": {},
     "output_type": "display_data"
    },
    {
     "data": {
      "text/html": [
       " View run at <a href='https://wandb.ai/yuhuhu/nlp_ass2/runs/sqofj0k1' target=\"_blank\">https://wandb.ai/yuhuhu/nlp_ass2/runs/sqofj0k1</a>"
      ],
      "text/plain": [
       "<IPython.core.display.HTML object>"
      ]
     },
     "metadata": {},
     "output_type": "display_data"
    },
    {
     "data": {
      "text/html": [
       "<button onClick=\"this.nextSibling.style.display='block';this.style.display='none';\">Display W&B run</button><iframe src='https://wandb.ai/yuhuhu/nlp_ass2/runs/sqofj0k1?jupyter=true' style='border:none;width:100%;height:420px;display:none;'></iframe>"
      ],
      "text/plain": [
       "<wandb.sdk.wandb_run.Run at 0x7ff23c4a6d10>"
      ]
     },
     "execution_count": 6,
     "metadata": {},
     "output_type": "execute_result"
    }
   ],
   "source": [
    "wandb.init(\n",
    "    project=\"nlp_ass2\", \n",
    "    name=f\"RNN_Fasttext\"\n",
    ")"
   ]
  },
  {
   "cell_type": "code",
   "execution_count": 7,
   "metadata": {},
   "outputs": [
    {
     "name": "stdout",
     "output_type": "stream",
     "text": [
      "Epoch [1/45], Training Loss: 0.0099, Training F1 Score: 0.0216\n",
      "Epoch [1/45], Validation Loss: 0.0033, Validation F1 Score: 0.0863\n",
      "Epoch [2/45], Training Loss: 0.0028, Training F1 Score: 0.1911\n",
      "Epoch [2/45], Validation Loss: 0.0022, Validation F1 Score: 0.2962\n",
      "Epoch [3/45], Training Loss: 0.0019, Training F1 Score: 0.3468\n",
      "Epoch [3/45], Validation Loss: 0.0017, Validation F1 Score: 0.3825\n",
      "Epoch [4/45], Training Loss: 0.0017, Training F1 Score: 0.4155\n",
      "Epoch [4/45], Validation Loss: 0.0015, Validation F1 Score: 0.4243\n",
      "Epoch [5/45], Training Loss: 0.0014, Training F1 Score: 0.4511\n",
      "Epoch [5/45], Validation Loss: 0.0014, Validation F1 Score: 0.4530\n",
      "Epoch [6/45], Training Loss: 0.0013, Training F1 Score: 0.4878\n",
      "Epoch [6/45], Validation Loss: 0.0013, Validation F1 Score: 0.4901\n",
      "Epoch [7/45], Training Loss: 0.0013, Training F1 Score: 0.5150\n",
      "Epoch [7/45], Validation Loss: 0.0013, Validation F1 Score: 0.5090\n",
      "Epoch [8/45], Training Loss: 0.0012, Training F1 Score: 0.5371\n",
      "Epoch [8/45], Validation Loss: 0.0012, Validation F1 Score: 0.5336\n",
      "Epoch [9/45], Training Loss: 0.0012, Training F1 Score: 0.5579\n",
      "Epoch [9/45], Validation Loss: 0.0012, Validation F1 Score: 0.5481\n",
      "Epoch [10/45], Training Loss: 0.0011, Training F1 Score: 0.5728\n",
      "Epoch [10/45], Validation Loss: 0.0012, Validation F1 Score: 0.5635\n",
      "Epoch [11/45], Training Loss: 0.0011, Training F1 Score: 0.5971\n",
      "Epoch [11/45], Validation Loss: 0.0013, Validation F1 Score: 0.5646\n",
      "Epoch [12/45], Training Loss: 0.0010, Training F1 Score: 0.6122\n",
      "Epoch [12/45], Validation Loss: 0.0012, Validation F1 Score: 0.5878\n",
      "Epoch [13/45], Training Loss: 0.0010, Training F1 Score: 0.6302\n",
      "Epoch [13/45], Validation Loss: 0.0012, Validation F1 Score: 0.5968\n",
      "Epoch [14/45], Training Loss: 0.0010, Training F1 Score: 0.6438\n",
      "Epoch [14/45], Validation Loss: 0.0012, Validation F1 Score: 0.6032\n",
      "Epoch [15/45], Training Loss: 0.0010, Training F1 Score: 0.6498\n",
      "Epoch [15/45], Validation Loss: 0.0013, Validation F1 Score: 0.5775\n",
      "Epoch [16/45], Training Loss: 0.0011, Training F1 Score: 0.6308\n",
      "Epoch [16/45], Validation Loss: 0.0011, Validation F1 Score: 0.6041\n",
      "Epoch [17/45], Training Loss: 0.0009, Training F1 Score: 0.6654\n",
      "Epoch [17/45], Validation Loss: 0.0011, Validation F1 Score: 0.6239\n",
      "Epoch [18/45], Training Loss: 0.0009, Training F1 Score: 0.6738\n",
      "Epoch [18/45], Validation Loss: 0.0011, Validation F1 Score: 0.6248\n",
      "Epoch [19/45], Training Loss: 0.0009, Training F1 Score: 0.6899\n",
      "Epoch [19/45], Validation Loss: 0.0011, Validation F1 Score: 0.6370\n",
      "Epoch [20/45], Training Loss: 0.0016, Training F1 Score: 0.6645\n",
      "Epoch [20/45], Validation Loss: 0.0037, Validation F1 Score: 0.4123\n",
      "Epoch [21/45], Training Loss: 0.0013, Training F1 Score: 0.5910\n",
      "Epoch [21/45], Validation Loss: 0.0011, Validation F1 Score: 0.6053\n",
      "Epoch [22/45], Training Loss: 0.0009, Training F1 Score: 0.6783\n",
      "Epoch [22/45], Validation Loss: 0.0011, Validation F1 Score: 0.6121\n",
      "Epoch [23/45], Training Loss: 0.0008, Training F1 Score: 0.6993\n",
      "Epoch [23/45], Validation Loss: 0.0011, Validation F1 Score: 0.6267\n",
      "Epoch [24/45], Training Loss: 0.0008, Training F1 Score: 0.7156\n",
      "Epoch [24/45], Validation Loss: 0.0011, Validation F1 Score: 0.6334\n",
      "Epoch [25/45], Training Loss: 0.0008, Training F1 Score: 0.7243\n",
      "Epoch [25/45], Validation Loss: 0.0012, Validation F1 Score: 0.6362\n",
      "Epoch [26/45], Training Loss: 0.0007, Training F1 Score: 0.7330\n",
      "Epoch [26/45], Validation Loss: 0.0012, Validation F1 Score: 0.6325\n",
      "Epoch [27/45], Training Loss: 0.0008, Training F1 Score: 0.7344\n",
      "Epoch [27/45], Validation Loss: 0.0011, Validation F1 Score: 0.6375\n",
      "Epoch [28/45], Training Loss: 0.0007, Training F1 Score: 0.7427\n",
      "Epoch [28/45], Validation Loss: 0.0012, Validation F1 Score: 0.6390\n",
      "Epoch [29/45], Training Loss: 0.0007, Training F1 Score: 0.7547\n",
      "Epoch [29/45], Validation Loss: 0.0012, Validation F1 Score: 0.6378\n",
      "Epoch [30/45], Training Loss: 0.0007, Training F1 Score: 0.7626\n",
      "Epoch [30/45], Validation Loss: 0.0012, Validation F1 Score: 0.6392\n",
      "Epoch [31/45], Training Loss: 0.0006, Training F1 Score: 0.7640\n",
      "Epoch [31/45], Validation Loss: 0.0012, Validation F1 Score: 0.6385\n",
      "Epoch [32/45], Training Loss: 0.0006, Training F1 Score: 0.7653\n",
      "Epoch [32/45], Validation Loss: 0.0012, Validation F1 Score: 0.6301\n",
      "Epoch [33/45], Training Loss: 0.0006, Training F1 Score: 0.7723\n",
      "Epoch [33/45], Validation Loss: 0.0013, Validation F1 Score: 0.6328\n",
      "Epoch [34/45], Training Loss: 0.0008, Training F1 Score: 0.7442\n",
      "Epoch [34/45], Validation Loss: 0.0014, Validation F1 Score: 0.5461\n",
      "Epoch [35/45], Training Loss: 0.0009, Training F1 Score: 0.6918\n",
      "Epoch [35/45], Validation Loss: 0.0012, Validation F1 Score: 0.6265\n",
      "Epoch [36/45], Training Loss: 0.0007, Training F1 Score: 0.7509\n",
      "Epoch [36/45], Validation Loss: 0.0012, Validation F1 Score: 0.6337\n",
      "Epoch [37/45], Training Loss: 0.0006, Training F1 Score: 0.7804\n",
      "Epoch [37/45], Validation Loss: 0.0013, Validation F1 Score: 0.6351\n",
      "Epoch [38/45], Training Loss: 0.0006, Training F1 Score: 0.7939\n",
      "Epoch [38/45], Validation Loss: 0.0013, Validation F1 Score: 0.6369\n",
      "Epoch [39/45], Training Loss: 0.0005, Training F1 Score: 0.8003\n",
      "Epoch [39/45], Validation Loss: 0.0013, Validation F1 Score: 0.6325\n",
      "Epoch [40/45], Training Loss: 0.0005, Training F1 Score: 0.8069\n",
      "Epoch [40/45], Validation Loss: 0.0013, Validation F1 Score: 0.6360\n",
      "Epoch [41/45], Training Loss: 0.0005, Training F1 Score: 0.8116\n",
      "Epoch [41/45], Validation Loss: 0.0013, Validation F1 Score: 0.6398\n",
      "Epoch [42/45], Training Loss: 0.0006, Training F1 Score: 0.7950\n",
      "Epoch [42/45], Validation Loss: 0.0013, Validation F1 Score: 0.6346\n",
      "Epoch [43/45], Training Loss: 0.0005, Training F1 Score: 0.8152\n",
      "Epoch [43/45], Validation Loss: 0.0013, Validation F1 Score: 0.6393\n",
      "Epoch [44/45], Training Loss: 0.0005, Training F1 Score: 0.8325\n",
      "Epoch [44/45], Validation Loss: 0.0013, Validation F1 Score: 0.6317\n",
      "Epoch [45/45], Training Loss: 0.0005, Training F1 Score: 0.8324\n",
      "Epoch [45/45], Validation Loss: 0.0014, Validation F1 Score: 0.6337\n",
      "Finished Training\n"
     ]
    }
   ],
   "source": [
    "class RNNTagger(nn.Module):\n",
    "    def __init__(self, input_size, hidden_size, output_size):\n",
    "        super(RNNTagger, self).__init__()\n",
    "        self.rnn = nn.RNN(input_size, hidden_size, batch_first=True)\n",
    "        self.fc = nn.Linear(hidden_size, output_size)\n",
    "\n",
    "    def forward(self, x):\n",
    "        out, _ = self.rnn(x)\n",
    "        out = self.fc(out)\n",
    "        return out\n",
    "\n",
    "input_size = 300\n",
    "hidden_size = 256\n",
    "output_size = 100\n",
    "\n",
    "model = RNNTagger(input_size, hidden_size, output_size)\n",
    "\n",
    "device = torch.device(\"cuda:1\" if torch.cuda.is_available() else \"cpu\")\n",
    "model.to(device)\n",
    "\n",
    "criterion = nn.CrossEntropyLoss()\n",
    "optimizer = optim.Adam(model.parameters(), lr=0.001)\n",
    "\n",
    "num_epochs = 45\n",
    "batch_size = 32 \n",
    "\n",
    "texts_tensor = texts_tensor.to(device)\n",
    "labels_tensor = labels_tensor.to(device)\n",
    "val_texts_tensor = test_texts_tensor\n",
    "val_labels_tensor =  test_labels_tensor\n",
    "val_texts_tensor = val_texts_tensor.to(device)\n",
    "val_labels_tensor = val_labels_tensor.to(device)\n",
    "\n",
    "save_loss = 0\n",
    "\n",
    "for epoch in range(num_epochs):\n",
    "    \n",
    "    model.train()  \n",
    "    total_loss=0\n",
    "    train_predictions = []\n",
    "    train_labels = []\n",
    "    for i in range(0, len(texts_tensor), batch_size):\n",
    "        optimizer.zero_grad()\n",
    "        batch_texts = texts_tensor[i:i+batch_size]\n",
    "        batch_labels = labels_tensor[i:i+batch_size].view(-1)\n",
    "        outputs = model(batch_texts)\n",
    "        loss = criterion(outputs.view(-1, output_size), batch_labels)\n",
    "        loss.backward()\n",
    "        optimizer.step()\n",
    "        total_loss+=loss.item()\n",
    "        train_predictions.extend(torch.argmax(outputs, dim=2).flatten().cpu().tolist())\n",
    "        train_labels.extend(batch_labels.cpu().tolist())\n",
    "        \n",
    "    train_f1 = f1_score(train_labels, train_predictions, average='macro')\n",
    "    print(f'Epoch [{epoch+1}/{num_epochs}], Training Loss: {total_loss/len(texts_tensor):.4f}, Training F1 Score: {train_f1:.4f}')\n",
    "    \n",
    "    # Validation\n",
    "    model.eval()  \n",
    "    total_val_loss = 0\n",
    "    val_predictions = []\n",
    "    val_labels = []\n",
    "    \n",
    "    with torch.no_grad():\n",
    "        for i in range(0, len(val_texts_tensor), batch_size):\n",
    "            batch_texts_val = val_texts_tensor[i:i+batch_size]\n",
    "            batch_labels_val = val_labels_tensor[i:i+batch_size].view(-1)\n",
    "            outputs_val = model(batch_texts_val)\n",
    "            val_loss = criterion(outputs_val.view(-1, output_size), batch_labels_val)\n",
    "            total_val_loss += val_loss.item()\n",
    "            val_predictions.extend(torch.argmax(outputs_val, dim=2).flatten().cpu().tolist())\n",
    "            val_labels.extend(batch_labels_val.cpu().tolist())\n",
    "    \n",
    "    val_f1 = f1_score(val_labels, val_predictions, average='macro')\n",
    "    print(f'Epoch [{epoch+1}/{num_epochs}], Validation Loss: {total_val_loss/len(val_texts_tensor):.4f}, Validation F1 Score: {val_f1:.4f}')\n",
    "    if(val_f1>save_loss):\n",
    "        save_loss = val_f1\n",
    "        torch.save(model.state_dict(),'t1_rnn_fasttext.pt')\n",
    "    log_metric = {\"Epoch\": epoch+1, \"Training Loss\": total_loss/len(texts_tensor), \"Training F1 Score\": train_f1, \"Validation Loss\": total_val_loss/len(val_texts_tensor), \"Validation F1 Score\": val_f1}\n",
    "    wandb.log(log_metric)\n",
    "print(\"Finished Training\")\n",
    "    "
   ]
  },
  {
   "cell_type": "code",
   "execution_count": 8,
   "metadata": {},
   "outputs": [
    {
     "name": "stdout",
     "output_type": "stream",
     "text": [
      "949\n",
      "F1 Score on Test Set: 0.6401471565173543\n"
     ]
    }
   ],
   "source": [
    "with open('NER_test.json', 'r') as file:\n",
    "    valset = json.load(file)\n",
    "\n",
    "print(len(valset))\n",
    "max_seq_len = 315\n",
    "\n",
    "word_embeddings = []\n",
    "labels = []\n",
    "\n",
    "for key, value in valset.items():\n",
    "    text = value['text']\n",
    "    label_seq = value['labels']\n",
    "\n",
    "    label_list = list(label_map)  # Store index of each 27 classes created\n",
    "    label_indices = [label_list.index(label) for label in label_seq]\n",
    "    label_indices_padded = label_indices[:max_seq_len] + [0] * (max_seq_len - len(label_indices))\n",
    "    labels.append(label_indices_padded)\n",
    "\n",
    "    vectors = [word2vec_model[word] if word in word2vec_model else np.zeros(300) for word in text]\n",
    "    vectors_padded = [np.pad(vec, (0, 300), constant_values=0)[:300] for vec in vectors]\n",
    "    vectors_padded += [np.zeros(300)] * (max_seq_len - len(vectors_padded))\n",
    "    word_embeddings.append(vectors_padded)\n",
    "\n",
    "word_embeddings_array = np.array(word_embeddings)\n",
    "\n",
    "test_texts_tensor = torch.tensor(word_embeddings_array, dtype=torch.float32)\n",
    "test_labels_tensor = torch.tensor(labels)\n",
    "\n",
    "with torch.no_grad():\n",
    "    model = RNNTagger(input_size, hidden_size, output_size)\n",
    "    model = model.to(device)\n",
    "    model.load_state_dict(torch.load('t1_rnn_fasttext.pt'))\n",
    "    test_outputs = model(test_texts_tensor.to(device)) \n",
    "    argmax_indices = torch.argmax(test_outputs, dim=2)\n",
    "    reshaped_tensor = argmax_indices.view(949, 315)\n",
    "    fl_out = reshaped_tensor.flatten()\n",
    "    fl_label = test_labels_tensor.flatten().to(device) \n",
    "    f1 = f1_score(fl_out.cpu(), fl_label.cpu(), average='macro') \n",
    "    print(\"F1 Score on Test Set:\", f1)"
   ]
  },
  {
   "cell_type": "code",
   "execution_count": 9,
   "metadata": {},
   "outputs": [
    {
     "data": {
      "text/html": [
       "Finishing last run (ID:sqofj0k1) before initializing another..."
      ],
      "text/plain": [
       "<IPython.core.display.HTML object>"
      ]
     },
     "metadata": {},
     "output_type": "display_data"
    },
    {
     "data": {
      "text/html": [
       "<style>\n",
       "    table.wandb td:nth-child(1) { padding: 0 10px; text-align: left ; width: auto;} td:nth-child(2) {text-align: left ; width: 100%}\n",
       "    .wandb-row { display: flex; flex-direction: row; flex-wrap: wrap; justify-content: flex-start; width: 100% }\n",
       "    .wandb-col { display: flex; flex-direction: column; flex-basis: 100%; flex: 1; padding: 10px; }\n",
       "    </style>\n",
       "<div class=\"wandb-row\"><div class=\"wandb-col\"><h3>Run history:</h3><br/><table class=\"wandb\"><tr><td>Epoch</td><td>▁▁▁▁▂▂▂▂▂▃▃▃▃▃▃▄▄▄▄▄▅▅▅▅▅▅▆▆▆▆▆▆▇▇▇▇▇███</td></tr><tr><td>Training F1 Score</td><td>▁▂▄▄▅▅▅▅▆▆▆▆▆▆▆▇▇▇▆▇▇▇▇▇▇▇▇▇▇▇▇▇████████</td></tr><tr><td>Training Loss</td><td>█▃▂▂▂▂▂▂▁▁▁▁▁▁▁▁▁▂▂▁▁▁▁▁▁▁▁▁▁▁▁▁▁▁▁▁▁▁▁▁</td></tr><tr><td>Validation F1 Score</td><td>▁▄▅▅▆▆▆▇▇▇▇▇█▇███▅████████████▇█████████</td></tr><tr><td>Validation Loss</td><td>▇▄▃▂▂▂▂▁▁▂▁▁▁▂▁▁▁█▁▁▁▁▁▁▁▁▁▁▁▁▂▁▁▁▁▂▁▁▁▂</td></tr></table><br/></div><div class=\"wandb-col\"><h3>Run summary:</h3><br/><table class=\"wandb\"><tr><td>Epoch</td><td>45</td></tr><tr><td>Training F1 Score</td><td>0.83241</td></tr><tr><td>Training Loss</td><td>0.00047</td></tr><tr><td>Validation F1 Score</td><td>0.6337</td></tr><tr><td>Validation Loss</td><td>0.00137</td></tr></table><br/></div></div>"
      ],
      "text/plain": [
       "<IPython.core.display.HTML object>"
      ]
     },
     "metadata": {},
     "output_type": "display_data"
    },
    {
     "data": {
      "text/html": [
       " View run <strong style=\"color:#cdcd00\">RNN_Fasttext</strong> at: <a href='https://wandb.ai/yuhuhu/nlp_ass2/runs/sqofj0k1' target=\"_blank\">https://wandb.ai/yuhuhu/nlp_ass2/runs/sqofj0k1</a><br/>Synced 6 W&B file(s), 0 media file(s), 0 artifact file(s) and 0 other file(s)"
      ],
      "text/plain": [
       "<IPython.core.display.HTML object>"
      ]
     },
     "metadata": {},
     "output_type": "display_data"
    },
    {
     "data": {
      "text/html": [
       "Find logs at: <code>./wandb/run-20240311_220943-sqofj0k1/logs</code>"
      ],
      "text/plain": [
       "<IPython.core.display.HTML object>"
      ]
     },
     "metadata": {},
     "output_type": "display_data"
    },
    {
     "data": {
      "text/html": [
       "Successfully finished last run (ID:sqofj0k1). Initializing new run:<br/>"
      ],
      "text/plain": [
       "<IPython.core.display.HTML object>"
      ]
     },
     "metadata": {},
     "output_type": "display_data"
    },
    {
     "data": {
      "text/html": [
       "Tracking run with wandb version 0.16.4"
      ],
      "text/plain": [
       "<IPython.core.display.HTML object>"
      ]
     },
     "metadata": {},
     "output_type": "display_data"
    },
    {
     "data": {
      "text/html": [
       "Run data is saved locally in <code>/home/hiddenmist/Aman_Lakshay/DL_Ass/NLP_TEMP/NLP_Final/wandb/run-20240311_221137-ger8dqqz</code>"
      ],
      "text/plain": [
       "<IPython.core.display.HTML object>"
      ]
     },
     "metadata": {},
     "output_type": "display_data"
    },
    {
     "data": {
      "text/html": [
       "Syncing run <strong><a href='https://wandb.ai/yuhuhu/nlp_ass2/runs/ger8dqqz' target=\"_blank\">LSTM_Fasttext</a></strong> to <a href='https://wandb.ai/yuhuhu/nlp_ass2' target=\"_blank\">Weights & Biases</a> (<a href='https://wandb.me/run' target=\"_blank\">docs</a>)<br/>"
      ],
      "text/plain": [
       "<IPython.core.display.HTML object>"
      ]
     },
     "metadata": {},
     "output_type": "display_data"
    },
    {
     "data": {
      "text/html": [
       " View project at <a href='https://wandb.ai/yuhuhu/nlp_ass2' target=\"_blank\">https://wandb.ai/yuhuhu/nlp_ass2</a>"
      ],
      "text/plain": [
       "<IPython.core.display.HTML object>"
      ]
     },
     "metadata": {},
     "output_type": "display_data"
    },
    {
     "data": {
      "text/html": [
       " View run at <a href='https://wandb.ai/yuhuhu/nlp_ass2/runs/ger8dqqz' target=\"_blank\">https://wandb.ai/yuhuhu/nlp_ass2/runs/ger8dqqz</a>"
      ],
      "text/plain": [
       "<IPython.core.display.HTML object>"
      ]
     },
     "metadata": {},
     "output_type": "display_data"
    },
    {
     "data": {
      "text/html": [
       "<button onClick=\"this.nextSibling.style.display='block';this.style.display='none';\">Display W&B run</button><iframe src='https://wandb.ai/yuhuhu/nlp_ass2/runs/ger8dqqz?jupyter=true' style='border:none;width:100%;height:420px;display:none;'></iframe>"
      ],
      "text/plain": [
       "<wandb.sdk.wandb_run.Run at 0x7ff426c14310>"
      ]
     },
     "execution_count": 9,
     "metadata": {},
     "output_type": "execute_result"
    }
   ],
   "source": [
    "wandb.init(\n",
    "    project=\"nlp_ass2\", \n",
    "    name=f\"LSTM_Fasttext\"\n",
    ")"
   ]
  },
  {
   "cell_type": "code",
   "execution_count": 10,
   "metadata": {},
   "outputs": [
    {
     "name": "stdout",
     "output_type": "stream",
     "text": [
      "Epoch [1/45], Training Loss: 0.0103, Training F1 Score: 0.0620\n",
      "Epoch [1/45], Validation Loss: 0.0026, Validation F1 Score: 0.2296\n",
      "Epoch [2/45], Training Loss: 0.0019, Training F1 Score: 0.3370\n",
      "Epoch [2/45], Validation Loss: 0.0018, Validation F1 Score: 0.3909\n",
      "Epoch [3/45], Training Loss: 0.0015, Training F1 Score: 0.4187\n",
      "Epoch [3/45], Validation Loss: 0.0016, Validation F1 Score: 0.4441\n",
      "Epoch [4/45], Training Loss: 0.0013, Training F1 Score: 0.4636\n",
      "Epoch [4/45], Validation Loss: 0.0014, Validation F1 Score: 0.4893\n",
      "Epoch [5/45], Training Loss: 0.0012, Training F1 Score: 0.5089\n",
      "Epoch [5/45], Validation Loss: 0.0013, Validation F1 Score: 0.5315\n",
      "Epoch [6/45], Training Loss: 0.0011, Training F1 Score: 0.5491\n",
      "Epoch [6/45], Validation Loss: 0.0013, Validation F1 Score: 0.5743\n",
      "Epoch [7/45], Training Loss: 0.0010, Training F1 Score: 0.5898\n",
      "Epoch [7/45], Validation Loss: 0.0012, Validation F1 Score: 0.5855\n",
      "Epoch [8/45], Training Loss: 0.0010, Training F1 Score: 0.6196\n",
      "Epoch [8/45], Validation Loss: 0.0012, Validation F1 Score: 0.6123\n",
      "Epoch [9/45], Training Loss: 0.0009, Training F1 Score: 0.6516\n",
      "Epoch [9/45], Validation Loss: 0.0012, Validation F1 Score: 0.6182\n",
      "Epoch [10/45], Training Loss: 0.0009, Training F1 Score: 0.6747\n",
      "Epoch [10/45], Validation Loss: 0.0012, Validation F1 Score: 0.6324\n",
      "Epoch [11/45], Training Loss: 0.0008, Training F1 Score: 0.6947\n",
      "Epoch [11/45], Validation Loss: 0.0012, Validation F1 Score: 0.6307\n",
      "Epoch [12/45], Training Loss: 0.0008, Training F1 Score: 0.7114\n",
      "Epoch [12/45], Validation Loss: 0.0012, Validation F1 Score: 0.6435\n",
      "Epoch [13/45], Training Loss: 0.0007, Training F1 Score: 0.7244\n",
      "Epoch [13/45], Validation Loss: 0.0012, Validation F1 Score: 0.6459\n",
      "Epoch [14/45], Training Loss: 0.0007, Training F1 Score: 0.7361\n",
      "Epoch [14/45], Validation Loss: 0.0012, Validation F1 Score: 0.6559\n",
      "Epoch [15/45], Training Loss: 0.0007, Training F1 Score: 0.7475\n",
      "Epoch [15/45], Validation Loss: 0.0013, Validation F1 Score: 0.6607\n",
      "Epoch [16/45], Training Loss: 0.0007, Training F1 Score: 0.7557\n",
      "Epoch [16/45], Validation Loss: 0.0014, Validation F1 Score: 0.6680\n",
      "Epoch [17/45], Training Loss: 0.0006, Training F1 Score: 0.7692\n",
      "Epoch [17/45], Validation Loss: 0.0014, Validation F1 Score: 0.6644\n",
      "Epoch [18/45], Training Loss: 0.0006, Training F1 Score: 0.7790\n",
      "Epoch [18/45], Validation Loss: 0.0014, Validation F1 Score: 0.6769\n",
      "Epoch [19/45], Training Loss: 0.0006, Training F1 Score: 0.7890\n",
      "Epoch [19/45], Validation Loss: 0.0014, Validation F1 Score: 0.6718\n",
      "Epoch [20/45], Training Loss: 0.0005, Training F1 Score: 0.8025\n",
      "Epoch [20/45], Validation Loss: 0.0014, Validation F1 Score: 0.6754\n",
      "Epoch [21/45], Training Loss: 0.0005, Training F1 Score: 0.8080\n",
      "Epoch [21/45], Validation Loss: 0.0014, Validation F1 Score: 0.6656\n",
      "Epoch [22/45], Training Loss: 0.0005, Training F1 Score: 0.8153\n",
      "Epoch [22/45], Validation Loss: 0.0013, Validation F1 Score: 0.6682\n",
      "Epoch [23/45], Training Loss: 0.0004, Training F1 Score: 0.8351\n",
      "Epoch [23/45], Validation Loss: 0.0014, Validation F1 Score: 0.6612\n",
      "Epoch [24/45], Training Loss: 0.0004, Training F1 Score: 0.8465\n",
      "Epoch [24/45], Validation Loss: 0.0015, Validation F1 Score: 0.6619\n",
      "Epoch [25/45], Training Loss: 0.0004, Training F1 Score: 0.8577\n",
      "Epoch [25/45], Validation Loss: 0.0015, Validation F1 Score: 0.6598\n",
      "Epoch [26/45], Training Loss: 0.0004, Training F1 Score: 0.8679\n",
      "Epoch [26/45], Validation Loss: 0.0016, Validation F1 Score: 0.6524\n",
      "Epoch [27/45], Training Loss: 0.0003, Training F1 Score: 0.8770\n",
      "Epoch [27/45], Validation Loss: 0.0016, Validation F1 Score: 0.6560\n",
      "Epoch [28/45], Training Loss: 0.0003, Training F1 Score: 0.8842\n",
      "Epoch [28/45], Validation Loss: 0.0016, Validation F1 Score: 0.6535\n",
      "Epoch [29/45], Training Loss: 0.0003, Training F1 Score: 0.8772\n",
      "Epoch [29/45], Validation Loss: 0.0015, Validation F1 Score: 0.6524\n",
      "Epoch [30/45], Training Loss: 0.0003, Training F1 Score: 0.8788\n",
      "Epoch [30/45], Validation Loss: 0.0015, Validation F1 Score: 0.6578\n",
      "Epoch [31/45], Training Loss: 0.0003, Training F1 Score: 0.8765\n",
      "Epoch [31/45], Validation Loss: 0.0015, Validation F1 Score: 0.6545\n",
      "Epoch [32/45], Training Loss: 0.0003, Training F1 Score: 0.9051\n",
      "Epoch [32/45], Validation Loss: 0.0016, Validation F1 Score: 0.6522\n",
      "Epoch [33/45], Training Loss: 0.0002, Training F1 Score: 0.9224\n",
      "Epoch [33/45], Validation Loss: 0.0016, Validation F1 Score: 0.6508\n",
      "Epoch [34/45], Training Loss: 0.0002, Training F1 Score: 0.9308\n",
      "Epoch [34/45], Validation Loss: 0.0018, Validation F1 Score: 0.6425\n",
      "Epoch [35/45], Training Loss: 0.0002, Training F1 Score: 0.9391\n",
      "Epoch [35/45], Validation Loss: 0.0018, Validation F1 Score: 0.6422\n",
      "Epoch [36/45], Training Loss: 0.0002, Training F1 Score: 0.9446\n",
      "Epoch [36/45], Validation Loss: 0.0020, Validation F1 Score: 0.6368\n",
      "Epoch [37/45], Training Loss: 0.0002, Training F1 Score: 0.9421\n",
      "Epoch [37/45], Validation Loss: 0.0019, Validation F1 Score: 0.6347\n",
      "Epoch [38/45], Training Loss: 0.0002, Training F1 Score: 0.9482\n",
      "Epoch [38/45], Validation Loss: 0.0021, Validation F1 Score: 0.6312\n",
      "Epoch [39/45], Training Loss: 0.0001, Training F1 Score: 0.9540\n",
      "Epoch [39/45], Validation Loss: 0.0022, Validation F1 Score: 0.6322\n",
      "Epoch [40/45], Training Loss: 0.0001, Training F1 Score: 0.9540\n",
      "Epoch [40/45], Validation Loss: 0.0022, Validation F1 Score: 0.6305\n",
      "Epoch [41/45], Training Loss: 0.0001, Training F1 Score: 0.9539\n",
      "Epoch [41/45], Validation Loss: 0.0021, Validation F1 Score: 0.6278\n",
      "Epoch [42/45], Training Loss: 0.0001, Training F1 Score: 0.9565\n",
      "Epoch [42/45], Validation Loss: 0.0021, Validation F1 Score: 0.6396\n",
      "Epoch [43/45], Training Loss: 0.0001, Training F1 Score: 0.9649\n",
      "Epoch [43/45], Validation Loss: 0.0022, Validation F1 Score: 0.6305\n",
      "Epoch [44/45], Training Loss: 0.0001, Training F1 Score: 0.9677\n",
      "Epoch [44/45], Validation Loss: 0.0022, Validation F1 Score: 0.6287\n",
      "Epoch [45/45], Training Loss: 0.0001, Training F1 Score: 0.9590\n",
      "Epoch [45/45], Validation Loss: 0.0023, Validation F1 Score: 0.6274\n",
      "Finished Training\n"
     ]
    }
   ],
   "source": [
    "class LSTMTagger(nn.Module):\n",
    "    def __init__(self, input_size, hidden_size, output_size):\n",
    "        super(LSTMTagger, self).__init__()\n",
    "        self.lstm = nn.LSTM(input_size, hidden_size, batch_first=True)\n",
    "        self.fc = nn.Linear(hidden_size, output_size)\n",
    "\n",
    "    def forward(self, x):\n",
    "        out, _ = self.lstm(x)\n",
    "        out = self.fc(out)\n",
    "        return out\n",
    "\n",
    "input_size = 300\n",
    "hidden_size = 256\n",
    "output_size = 100\n",
    "\n",
    "model = LSTMTagger(input_size, hidden_size, output_size) # Move model to GPU if available\n",
    "\n",
    "device = torch.device(\"cuda:1\" if torch.cuda.is_available() else \"cpu\")\n",
    "model.to(device)\n",
    "\n",
    "criterion = nn.CrossEntropyLoss()\n",
    "optimizer = optim.Adam(model.parameters(), lr=0.001)\n",
    "\n",
    "num_epochs = 45\n",
    "batch_size = 32 \n",
    "\n",
    "texts_tensor = texts_tensor.to(device)\n",
    "labels_tensor = labels_tensor.to(device)\n",
    "val_texts_tensor = test_texts_tensor\n",
    "val_labels_tensor =  test_labels_tensor\n",
    "val_texts_tensor = val_texts_tensor.to(device)\n",
    "val_labels_tensor = val_labels_tensor.to(device)\n",
    "\n",
    "save_loss = 0\n",
    "\n",
    "for epoch in range(num_epochs):\n",
    "    \n",
    "    model.train()  \n",
    "    total_loss=0\n",
    "    train_predictions = []\n",
    "    train_labels = []\n",
    "    for i in range(0, len(texts_tensor), batch_size):\n",
    "        optimizer.zero_grad()\n",
    "        batch_texts = texts_tensor[i:i+batch_size]\n",
    "        batch_labels = labels_tensor[i:i+batch_size].view(-1)\n",
    "        outputs = model(batch_texts)\n",
    "        loss = criterion(outputs.view(-1, output_size), batch_labels)\n",
    "        loss.backward()\n",
    "        optimizer.step()\n",
    "        total_loss+=loss.item()\n",
    "        train_predictions.extend(torch.argmax(outputs, dim=2).flatten().cpu().tolist())\n",
    "        train_labels.extend(batch_labels.cpu().tolist())\n",
    "        \n",
    "    train_f1 = f1_score(train_labels, train_predictions, average='macro')\n",
    "    print(f'Epoch [{epoch+1}/{num_epochs}], Training Loss: {total_loss/len(texts_tensor):.4f}, Training F1 Score: {train_f1:.4f}')\n",
    "    \n",
    "    # Validation\n",
    "    model.eval()  \n",
    "    total_val_loss = 0\n",
    "    val_predictions = []\n",
    "    val_labels = []\n",
    "    \n",
    "    with torch.no_grad():\n",
    "        for i in range(0, len(val_texts_tensor), batch_size):\n",
    "            batch_texts_val = val_texts_tensor[i:i+batch_size]\n",
    "            batch_labels_val = val_labels_tensor[i:i+batch_size].view(-1)\n",
    "            outputs_val = model(batch_texts_val)\n",
    "            val_loss = criterion(outputs_val.view(-1, output_size), batch_labels_val)\n",
    "            total_val_loss += val_loss.item()\n",
    "            val_predictions.extend(torch.argmax(outputs_val, dim=2).flatten().cpu().tolist())\n",
    "            val_labels.extend(batch_labels_val.cpu().tolist())\n",
    "    \n",
    "    val_f1 = f1_score(val_labels, val_predictions, average='macro')\n",
    "    print(f'Epoch [{epoch+1}/{num_epochs}], Validation Loss: {total_val_loss/len(val_texts_tensor):.4f}, Validation F1 Score: {val_f1:.4f}')\n",
    "    if(val_f1>save_loss):\n",
    "        save_loss = val_f1\n",
    "        torch.save(model.state_dict(),'t1_lstm_fasttext.pt')\n",
    "    log_metric = {\"Epoch\": epoch+1, \"Training Loss\": total_loss/len(texts_tensor), \"Training F1 Score\": train_f1, \"Validation Loss\": total_val_loss/len(val_texts_tensor), \"Validation F1 Score\": val_f1}\n",
    "    wandb.log(log_metric)\n",
    "print(\"Finished Training\")\n",
    "    "
   ]
  },
  {
   "cell_type": "code",
   "execution_count": 11,
   "metadata": {},
   "outputs": [
    {
     "name": "stdout",
     "output_type": "stream",
     "text": [
      "949\n",
      "F1 Score on Test Set: 0.6768922392802893\n"
     ]
    }
   ],
   "source": [
    "with open('NER_test.json', 'r') as file:\n",
    "    valset = json.load(file)\n",
    "\n",
    "print(len(valset))\n",
    "max_seq_len = 315\n",
    "\n",
    "word_embeddings = []\n",
    "labels = []\n",
    "\n",
    "for key, value in valset.items():\n",
    "    text = value['text']\n",
    "    label_seq = value['labels']\n",
    "\n",
    "    label_list = list(label_map)  # Store index of each 27 classes created\n",
    "    label_indices = [label_list.index(label) for label in label_seq]\n",
    "    label_indices_padded = label_indices[:max_seq_len] + [0] * (max_seq_len - len(label_indices))\n",
    "    labels.append(label_indices_padded)\n",
    "\n",
    "    vectors = [word2vec_model[word] if word in word2vec_model else np.zeros(300) for word in text]\n",
    "    vectors_padded = [np.pad(vec, (0, 300), constant_values=0)[:300] for vec in vectors]\n",
    "    vectors_padded += [np.zeros(300)] * (max_seq_len - len(vectors_padded))\n",
    "    word_embeddings.append(vectors_padded)\n",
    "\n",
    "word_embeddings_array = np.array(word_embeddings)\n",
    "\n",
    "test_texts_tensor = torch.tensor(word_embeddings_array, dtype=torch.float32)\n",
    "test_labels_tensor = torch.tensor(labels)\n",
    "\n",
    "with torch.no_grad():\n",
    "    model = LSTMTagger(input_size, hidden_size, output_size)\n",
    "    model = model.to(device)\n",
    "    model.load_state_dict(torch.load('t1_lstm_fasttext.pt'))\n",
    "    test_outputs = model(test_texts_tensor.to(device)) \n",
    "    argmax_indices = torch.argmax(test_outputs, dim=2)\n",
    "    reshaped_tensor = argmax_indices.view(949, 315)\n",
    "    fl_out = reshaped_tensor.flatten()\n",
    "    fl_label = test_labels_tensor.flatten().to(device) \n",
    "    f1 = f1_score(fl_out.cpu(), fl_label.cpu(), average='macro') \n",
    "    print(\"F1 Score on Test Set:\", f1)"
   ]
  },
  {
   "cell_type": "code",
   "execution_count": 12,
   "metadata": {},
   "outputs": [
    {
     "data": {
      "text/html": [
       "Finishing last run (ID:ger8dqqz) before initializing another..."
      ],
      "text/plain": [
       "<IPython.core.display.HTML object>"
      ]
     },
     "metadata": {},
     "output_type": "display_data"
    },
    {
     "data": {
      "text/html": [
       "<style>\n",
       "    table.wandb td:nth-child(1) { padding: 0 10px; text-align: left ; width: auto;} td:nth-child(2) {text-align: left ; width: 100%}\n",
       "    .wandb-row { display: flex; flex-direction: row; flex-wrap: wrap; justify-content: flex-start; width: 100% }\n",
       "    .wandb-col { display: flex; flex-direction: column; flex-basis: 100%; flex: 1; padding: 10px; }\n",
       "    </style>\n",
       "<div class=\"wandb-row\"><div class=\"wandb-col\"><h3>Run history:</h3><br/><table class=\"wandb\"><tr><td>Epoch</td><td>▁▁▁▁▂▂▂▂▂▃▃▃▃▃▃▄▄▄▄▄▅▅▅▅▅▅▆▆▆▆▆▆▇▇▇▇▇███</td></tr><tr><td>Training F1 Score</td><td>▁▃▄▄▄▅▅▅▆▆▆▆▆▆▆▆▇▇▇▇▇▇▇▇▇▇▇▇████████████</td></tr><tr><td>Training Loss</td><td>█▂▂▂▂▂▂▂▂▁▁▁▁▁▁▁▁▁▁▁▁▁▁▁▁▁▁▁▁▁▁▁▁▁▁▁▁▁▁▁</td></tr><tr><td>Validation F1 Score</td><td>▁▄▄▅▆▆▇▇▇▇▇███████████████████▇▇▇▇▇▇▇▇▇▇</td></tr><tr><td>Validation Loss</td><td>█▄▃▂▂▁▁▁▁▁▁▁▁▁▂▂▂▂▂▂▂▂▂▃▃▃▃▃▃▃▄▄▅▅▆▆▅▅▆▆</td></tr></table><br/></div><div class=\"wandb-col\"><h3>Run summary:</h3><br/><table class=\"wandb\"><tr><td>Epoch</td><td>45</td></tr><tr><td>Training F1 Score</td><td>0.95903</td></tr><tr><td>Training Loss</td><td>0.00012</td></tr><tr><td>Validation F1 Score</td><td>0.62738</td></tr><tr><td>Validation Loss</td><td>0.00229</td></tr></table><br/></div></div>"
      ],
      "text/plain": [
       "<IPython.core.display.HTML object>"
      ]
     },
     "metadata": {},
     "output_type": "display_data"
    },
    {
     "data": {
      "text/html": [
       " View run <strong style=\"color:#cdcd00\">LSTM_Fasttext</strong> at: <a href='https://wandb.ai/yuhuhu/nlp_ass2/runs/ger8dqqz' target=\"_blank\">https://wandb.ai/yuhuhu/nlp_ass2/runs/ger8dqqz</a><br/>Synced 6 W&B file(s), 0 media file(s), 0 artifact file(s) and 0 other file(s)"
      ],
      "text/plain": [
       "<IPython.core.display.HTML object>"
      ]
     },
     "metadata": {},
     "output_type": "display_data"
    },
    {
     "data": {
      "text/html": [
       "Find logs at: <code>./wandb/run-20240311_221137-ger8dqqz/logs</code>"
      ],
      "text/plain": [
       "<IPython.core.display.HTML object>"
      ]
     },
     "metadata": {},
     "output_type": "display_data"
    },
    {
     "data": {
      "text/html": [
       "Successfully finished last run (ID:ger8dqqz). Initializing new run:<br/>"
      ],
      "text/plain": [
       "<IPython.core.display.HTML object>"
      ]
     },
     "metadata": {},
     "output_type": "display_data"
    },
    {
     "data": {
      "text/html": [
       "Tracking run with wandb version 0.16.4"
      ],
      "text/plain": [
       "<IPython.core.display.HTML object>"
      ]
     },
     "metadata": {},
     "output_type": "display_data"
    },
    {
     "data": {
      "text/html": [
       "Run data is saved locally in <code>/home/hiddenmist/Aman_Lakshay/DL_Ass/NLP_TEMP/NLP_Final/wandb/run-20240311_221453-flj0eijn</code>"
      ],
      "text/plain": [
       "<IPython.core.display.HTML object>"
      ]
     },
     "metadata": {},
     "output_type": "display_data"
    },
    {
     "data": {
      "text/html": [
       "Syncing run <strong><a href='https://wandb.ai/yuhuhu/nlp_ass2/runs/flj0eijn' target=\"_blank\">GRU_Fasttext</a></strong> to <a href='https://wandb.ai/yuhuhu/nlp_ass2' target=\"_blank\">Weights & Biases</a> (<a href='https://wandb.me/run' target=\"_blank\">docs</a>)<br/>"
      ],
      "text/plain": [
       "<IPython.core.display.HTML object>"
      ]
     },
     "metadata": {},
     "output_type": "display_data"
    },
    {
     "data": {
      "text/html": [
       " View project at <a href='https://wandb.ai/yuhuhu/nlp_ass2' target=\"_blank\">https://wandb.ai/yuhuhu/nlp_ass2</a>"
      ],
      "text/plain": [
       "<IPython.core.display.HTML object>"
      ]
     },
     "metadata": {},
     "output_type": "display_data"
    },
    {
     "data": {
      "text/html": [
       " View run at <a href='https://wandb.ai/yuhuhu/nlp_ass2/runs/flj0eijn' target=\"_blank\">https://wandb.ai/yuhuhu/nlp_ass2/runs/flj0eijn</a>"
      ],
      "text/plain": [
       "<IPython.core.display.HTML object>"
      ]
     },
     "metadata": {},
     "output_type": "display_data"
    },
    {
     "data": {
      "text/html": [
       "<button onClick=\"this.nextSibling.style.display='block';this.style.display='none';\">Display W&B run</button><iframe src='https://wandb.ai/yuhuhu/nlp_ass2/runs/flj0eijn?jupyter=true' style='border:none;width:100%;height:420px;display:none;'></iframe>"
      ],
      "text/plain": [
       "<wandb.sdk.wandb_run.Run at 0x7ff22d801090>"
      ]
     },
     "execution_count": 12,
     "metadata": {},
     "output_type": "execute_result"
    }
   ],
   "source": [
    "wandb.init(\n",
    "    project=\"nlp_ass2\", \n",
    "    name=f\"GRU_Fasttext\"\n",
    ")"
   ]
  },
  {
   "cell_type": "code",
   "execution_count": 13,
   "metadata": {},
   "outputs": [
    {
     "name": "stdout",
     "output_type": "stream",
     "text": [
      "Epoch [1/45], Training Loss: 0.0087, Training F1 Score: 0.0675\n",
      "Epoch [1/45], Validation Loss: 0.0037, Validation F1 Score: 0.0697\n",
      "Epoch [2/45], Training Loss: 0.0029, Training F1 Score: 0.0982\n",
      "Epoch [2/45], Validation Loss: 0.0026, Validation F1 Score: 0.1166\n",
      "Epoch [3/45], Training Loss: 0.0022, Training F1 Score: 0.2177\n",
      "Epoch [3/45], Validation Loss: 0.0020, Validation F1 Score: 0.3548\n",
      "Epoch [4/45], Training Loss: 0.0017, Training F1 Score: 0.3689\n",
      "Epoch [4/45], Validation Loss: 0.0015, Validation F1 Score: 0.4374\n",
      "Epoch [5/45], Training Loss: 0.0014, Training F1 Score: 0.4347\n",
      "Epoch [5/45], Validation Loss: 0.0014, Validation F1 Score: 0.4678\n",
      "Epoch [6/45], Training Loss: 0.0012, Training F1 Score: 0.4688\n",
      "Epoch [6/45], Validation Loss: 0.0013, Validation F1 Score: 0.4859\n",
      "Epoch [7/45], Training Loss: 0.0011, Training F1 Score: 0.4999\n",
      "Epoch [7/45], Validation Loss: 0.0012, Validation F1 Score: 0.5016\n",
      "Epoch [8/45], Training Loss: 0.0010, Training F1 Score: 0.5371\n",
      "Epoch [8/45], Validation Loss: 0.0012, Validation F1 Score: 0.5560\n",
      "Epoch [9/45], Training Loss: 0.0010, Training F1 Score: 0.5788\n",
      "Epoch [9/45], Validation Loss: 0.0012, Validation F1 Score: 0.5759\n",
      "Epoch [10/45], Training Loss: 0.0009, Training F1 Score: 0.6213\n",
      "Epoch [10/45], Validation Loss: 0.0013, Validation F1 Score: 0.5875\n",
      "Epoch [11/45], Training Loss: 0.0008, Training F1 Score: 0.6559\n",
      "Epoch [11/45], Validation Loss: 0.0014, Validation F1 Score: 0.6214\n",
      "Epoch [12/45], Training Loss: 0.0008, Training F1 Score: 0.6821\n",
      "Epoch [12/45], Validation Loss: 0.0013, Validation F1 Score: 0.6327\n",
      "Epoch [13/45], Training Loss: 0.0007, Training F1 Score: 0.7002\n",
      "Epoch [13/45], Validation Loss: 0.0014, Validation F1 Score: 0.6330\n",
      "Epoch [14/45], Training Loss: 0.0007, Training F1 Score: 0.7269\n",
      "Epoch [14/45], Validation Loss: 0.0015, Validation F1 Score: 0.6540\n",
      "Epoch [15/45], Training Loss: 0.0006, Training F1 Score: 0.7445\n",
      "Epoch [15/45], Validation Loss: 0.0014, Validation F1 Score: 0.6462\n",
      "Epoch [16/45], Training Loss: 0.0006, Training F1 Score: 0.7664\n",
      "Epoch [16/45], Validation Loss: 0.0015, Validation F1 Score: 0.6456\n",
      "Epoch [17/45], Training Loss: 0.0006, Training F1 Score: 0.7787\n",
      "Epoch [17/45], Validation Loss: 0.0016, Validation F1 Score: 0.6379\n",
      "Epoch [18/45], Training Loss: 0.0005, Training F1 Score: 0.7921\n",
      "Epoch [18/45], Validation Loss: 0.0015, Validation F1 Score: 0.6649\n",
      "Epoch [19/45], Training Loss: 0.0005, Training F1 Score: 0.8119\n",
      "Epoch [19/45], Validation Loss: 0.0015, Validation F1 Score: 0.6656\n",
      "Epoch [20/45], Training Loss: 0.0004, Training F1 Score: 0.8295\n",
      "Epoch [20/45], Validation Loss: 0.0015, Validation F1 Score: 0.6556\n",
      "Epoch [21/45], Training Loss: 0.0004, Training F1 Score: 0.8427\n",
      "Epoch [21/45], Validation Loss: 0.0016, Validation F1 Score: 0.6618\n",
      "Epoch [22/45], Training Loss: 0.0004, Training F1 Score: 0.8566\n",
      "Epoch [22/45], Validation Loss: 0.0017, Validation F1 Score: 0.6669\n",
      "Epoch [23/45], Training Loss: 0.0003, Training F1 Score: 0.8668\n",
      "Epoch [23/45], Validation Loss: 0.0017, Validation F1 Score: 0.6621\n",
      "Epoch [24/45], Training Loss: 0.0004, Training F1 Score: 0.8612\n",
      "Epoch [24/45], Validation Loss: 0.0017, Validation F1 Score: 0.6607\n",
      "Epoch [25/45], Training Loss: 0.0003, Training F1 Score: 0.8768\n",
      "Epoch [25/45], Validation Loss: 0.0018, Validation F1 Score: 0.6530\n",
      "Epoch [26/45], Training Loss: 0.0003, Training F1 Score: 0.8831\n",
      "Epoch [26/45], Validation Loss: 0.0019, Validation F1 Score: 0.6497\n",
      "Epoch [27/45], Training Loss: 0.0003, Training F1 Score: 0.8904\n",
      "Epoch [27/45], Validation Loss: 0.0021, Validation F1 Score: 0.6436\n",
      "Epoch [28/45], Training Loss: 0.0003, Training F1 Score: 0.9005\n",
      "Epoch [28/45], Validation Loss: 0.0021, Validation F1 Score: 0.6443\n",
      "Epoch [29/45], Training Loss: 0.0002, Training F1 Score: 0.9009\n",
      "Epoch [29/45], Validation Loss: 0.0021, Validation F1 Score: 0.6579\n",
      "Epoch [30/45], Training Loss: 0.0002, Training F1 Score: 0.9053\n",
      "Epoch [30/45], Validation Loss: 0.0019, Validation F1 Score: 0.6443\n",
      "Epoch [31/45], Training Loss: 0.0002, Training F1 Score: 0.9121\n",
      "Epoch [31/45], Validation Loss: 0.0021, Validation F1 Score: 0.6480\n",
      "Epoch [32/45], Training Loss: 0.0002, Training F1 Score: 0.9167\n",
      "Epoch [32/45], Validation Loss: 0.0021, Validation F1 Score: 0.6384\n",
      "Epoch [33/45], Training Loss: 0.0002, Training F1 Score: 0.9188\n",
      "Epoch [33/45], Validation Loss: 0.0024, Validation F1 Score: 0.6286\n",
      "Epoch [34/45], Training Loss: 0.0002, Training F1 Score: 0.9288\n",
      "Epoch [34/45], Validation Loss: 0.0025, Validation F1 Score: 0.6494\n",
      "Epoch [35/45], Training Loss: 0.0002, Training F1 Score: 0.9334\n",
      "Epoch [35/45], Validation Loss: 0.0027, Validation F1 Score: 0.6365\n",
      "Epoch [36/45], Training Loss: 0.0002, Training F1 Score: 0.9372\n",
      "Epoch [36/45], Validation Loss: 0.0029, Validation F1 Score: 0.6327\n",
      "Epoch [37/45], Training Loss: 0.0001, Training F1 Score: 0.9410\n",
      "Epoch [37/45], Validation Loss: 0.0033, Validation F1 Score: 0.6185\n",
      "Epoch [38/45], Training Loss: 0.0001, Training F1 Score: 0.9442\n",
      "Epoch [38/45], Validation Loss: 0.0031, Validation F1 Score: 0.6328\n",
      "Epoch [39/45], Training Loss: 0.0001, Training F1 Score: 0.9456\n",
      "Epoch [39/45], Validation Loss: 0.0030, Validation F1 Score: 0.6421\n",
      "Epoch [40/45], Training Loss: 0.0001, Training F1 Score: 0.9491\n",
      "Epoch [40/45], Validation Loss: 0.0029, Validation F1 Score: 0.6410\n",
      "Epoch [41/45], Training Loss: 0.0001, Training F1 Score: 0.9463\n",
      "Epoch [41/45], Validation Loss: 0.0027, Validation F1 Score: 0.6439\n",
      "Epoch [42/45], Training Loss: 0.0001, Training F1 Score: 0.9489\n",
      "Epoch [42/45], Validation Loss: 0.0028, Validation F1 Score: 0.6487\n",
      "Epoch [43/45], Training Loss: 0.0001, Training F1 Score: 0.9496\n",
      "Epoch [43/45], Validation Loss: 0.0026, Validation F1 Score: 0.6450\n",
      "Epoch [44/45], Training Loss: 0.0001, Training F1 Score: 0.9479\n",
      "Epoch [44/45], Validation Loss: 0.0026, Validation F1 Score: 0.6514\n",
      "Epoch [45/45], Training Loss: 0.0001, Training F1 Score: 0.9509\n",
      "Epoch [45/45], Validation Loss: 0.0027, Validation F1 Score: 0.6456\n",
      "Finished Training\n"
     ]
    }
   ],
   "source": [
    "class GRUTagger(nn.Module):\n",
    "    def __init__(self, input_size, hidden_size, output_size):\n",
    "        super(GRUTagger, self).__init__()\n",
    "        self.gru = nn.GRU(input_size, hidden_size, batch_first=True)\n",
    "        self.gru1 = nn.GRU(hidden_size, hidden_size, batch_first=True)\n",
    "        self.fc1 = nn.Linear(hidden_size, output_size)\n",
    "        self.dropout = nn.Dropout(0.5) \n",
    "\n",
    "    def forward(self, x):\n",
    "        out, _ = self.gru(x)\n",
    "        out = torch.relu(out)\n",
    "        out, _ = self.gru1(out)\n",
    "        out = torch.relu(out)\n",
    "        out = self.dropout(out)  \n",
    "        out = self.fc1(out)\n",
    "        return out\n",
    "    \n",
    "input_size = 300\n",
    "hidden_size = 256\n",
    "output_size = 27\n",
    "\n",
    "model = GRUTagger(input_size, hidden_size, output_size)\n",
    "\n",
    "device = torch.device(\"cuda:1\" if torch.cuda.is_available() else \"cpu\")\n",
    "model.to(device)\n",
    "\n",
    "criterion = nn.CrossEntropyLoss()\n",
    "optimizer = optim.Adam(model.parameters(), lr=0.001)\n",
    "\n",
    "num_epochs = 45\n",
    "batch_size = 32 \n",
    "\n",
    "texts_tensor = texts_tensor.to(device)\n",
    "labels_tensor = labels_tensor.to(device)\n",
    "val_texts_tensor = test_texts_tensor\n",
    "val_labels_tensor =  test_labels_tensor\n",
    "val_texts_tensor = val_texts_tensor.to(device)\n",
    "val_labels_tensor = val_labels_tensor.to(device)\n",
    "\n",
    "save_loss = 0\n",
    "\n",
    "for epoch in range(num_epochs):\n",
    "    \n",
    "    model.train()  \n",
    "    total_loss=0\n",
    "    train_predictions = []\n",
    "    train_labels = []\n",
    "    for i in range(0, len(texts_tensor), batch_size):\n",
    "        optimizer.zero_grad()\n",
    "        batch_texts = texts_tensor[i:i+batch_size]\n",
    "        batch_labels = labels_tensor[i:i+batch_size].view(-1)\n",
    "        outputs = model(batch_texts)\n",
    "        loss = criterion(outputs.view(-1, output_size), batch_labels)\n",
    "        loss.backward()\n",
    "        optimizer.step()\n",
    "        total_loss+=loss.item()\n",
    "        train_predictions.extend(torch.argmax(outputs, dim=2).flatten().cpu().tolist())\n",
    "        train_labels.extend(batch_labels.cpu().tolist())\n",
    "        \n",
    "    train_f1 = f1_score(train_labels, train_predictions, average='macro')\n",
    "    print(f'Epoch [{epoch+1}/{num_epochs}], Training Loss: {total_loss/len(texts_tensor):.4f}, Training F1 Score: {train_f1:.4f}')\n",
    "    \n",
    "    # Validation\n",
    "    model.eval()  \n",
    "    total_val_loss = 0\n",
    "    val_predictions = []\n",
    "    val_labels = []\n",
    "    \n",
    "    with torch.no_grad():\n",
    "        for i in range(0, len(val_texts_tensor), batch_size):\n",
    "            batch_texts_val = val_texts_tensor[i:i+batch_size]\n",
    "            batch_labels_val = val_labels_tensor[i:i+batch_size].view(-1)\n",
    "            outputs_val = model(batch_texts_val)\n",
    "            val_loss = criterion(outputs_val.view(-1, output_size), batch_labels_val)\n",
    "            total_val_loss += val_loss.item()\n",
    "            val_predictions.extend(torch.argmax(outputs_val, dim=2).flatten().cpu().tolist())\n",
    "            val_labels.extend(batch_labels_val.cpu().tolist())\n",
    "    \n",
    "    val_f1 = f1_score(val_labels, val_predictions, average='macro')\n",
    "    print(f'Epoch [{epoch+1}/{num_epochs}], Validation Loss: {total_val_loss/len(val_texts_tensor):.4f}, Validation F1 Score: {val_f1:.4f}')\n",
    "    if(val_f1>save_loss):\n",
    "        save_loss = val_f1\n",
    "        torch.save(model.state_dict(),'t1_gru_fasttext.pt')\n",
    "    log_metric = {\"Epoch\": epoch+1, \"Training Loss\": total_loss/len(texts_tensor), \"Training F1 Score\": train_f1, \"Validation Loss\": total_val_loss/len(val_texts_tensor), \"Validation F1 Score\": val_f1}\n",
    "    wandb.log(log_metric)\n",
    "print(\"Finished Training\")\n",
    "    "
   ]
  },
  {
   "cell_type": "code",
   "execution_count": 14,
   "metadata": {},
   "outputs": [
    {
     "name": "stdout",
     "output_type": "stream",
     "text": [
      "949\n",
      "F1 Score on Test Set: 0.6477282497034494\n"
     ]
    }
   ],
   "source": [
    "with open('NER_test.json', 'r') as file:\n",
    "    valset = json.load(file)\n",
    "\n",
    "print(len(valset))\n",
    "max_seq_len = 315\n",
    "\n",
    "word_embeddings = []\n",
    "labels = []\n",
    "\n",
    "for key, value in valset.items():\n",
    "    text = value['text']\n",
    "    label_seq = value['labels']\n",
    "\n",
    "    label_list = list(label_map)  # Store index of each 27 classes created\n",
    "    label_indices = [label_list.index(label) for label in label_seq]\n",
    "    label_indices_padded = label_indices[:max_seq_len] + [0] * (max_seq_len - len(label_indices))\n",
    "    labels.append(label_indices_padded)\n",
    "\n",
    "    vectors = [word2vec_model[word] if word in word2vec_model else np.zeros(300) for word in text]\n",
    "    vectors_padded = [np.pad(vec, (0, 300), constant_values=0)[:300] for vec in vectors]\n",
    "    vectors_padded += [np.zeros(300)] * (max_seq_len - len(vectors_padded))\n",
    "    word_embeddings.append(vectors_padded)\n",
    "\n",
    "word_embeddings_array = np.array(word_embeddings)\n",
    "\n",
    "test_texts_tensor = torch.tensor(word_embeddings_array, dtype=torch.float32)\n",
    "test_labels_tensor = torch.tensor(labels)\n",
    "\n",
    "with torch.no_grad():\n",
    "    model = GRUTagger(input_size, hidden_size, output_size)\n",
    "    model = model.to(device)\n",
    "    model.load_state_dict(torch.load('t1_gru_fasttext.pt'))\n",
    "    test_outputs = model(test_texts_tensor.to(device)) \n",
    "    argmax_indices = torch.argmax(test_outputs, dim=2)\n",
    "    reshaped_tensor = argmax_indices.view(949, 315)\n",
    "    fl_out = reshaped_tensor.flatten()\n",
    "    fl_label = test_labels_tensor.flatten().to(device) \n",
    "    f1 = f1_score(fl_out.cpu(), fl_label.cpu(), average='macro') \n",
    "    print(\"F1 Score on Test Set:\", f1)"
   ]
  }
 ],
 "metadata": {
  "kernelspec": {
   "display_name": "CROSSCAPS",
   "language": "python",
   "name": "python3"
  },
  "language_info": {
   "codemirror_mode": {
    "name": "ipython",
    "version": 3
   },
   "file_extension": ".py",
   "mimetype": "text/x-python",
   "name": "python",
   "nbconvert_exporter": "python",
   "pygments_lexer": "ipython3",
   "version": "3.11.7"
  },
  "orig_nbformat": 4,
  "vscode": {
   "interpreter": {
    "hash": "85ee25f3913e79dfaf73cc9743a698525d72dde364ea63726e0c3f70211b2c45"
   }
  }
 },
 "nbformat": 4,
 "nbformat_minor": 2
}
