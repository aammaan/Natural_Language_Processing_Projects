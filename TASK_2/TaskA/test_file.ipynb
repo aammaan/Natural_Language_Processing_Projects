{
 "cells": [
  {
   "cell_type": "code",
   "execution_count": 17,
   "metadata": {},
   "outputs": [],
   "source": [
    "from gensim.models import KeyedVectors\n",
    "import json\n",
    "import numpy as np\n",
    "import torch\n",
    "from sklearn.metrics import f1_score\n",
    "import torch.nn.functional as F\n",
    "import torch.nn as nn\n",
    "import torch.optim as optim"
   ]
  },
  {
   "cell_type": "code",
   "execution_count": 18,
   "metadata": {},
   "outputs": [],
   "source": [
    "label_map = {'B', 'I', 'O'}"
   ]
  },
  {
   "cell_type": "code",
   "execution_count": 19,
   "metadata": {},
   "outputs": [],
   "source": [
    "word2vec_model_path = '../GoogleNews-vectors-negative300.bin'\n",
    "word2vec_model = KeyedVectors.load_word2vec_format(word2vec_model_path, binary=True)"
   ]
  },
  {
   "cell_type": "markdown",
   "metadata": {},
   "source": [
    "PLEASE REPALCE THE MODEL NAME AND CHECKPOINT BEFORE TESTING"
   ]
  },
  {
   "cell_type": "code",
   "execution_count": 20,
   "metadata": {},
   "outputs": [
    {
     "name": "stdout",
     "output_type": "stream",
     "text": [
      "328\n",
      "F1 Score on Test Set: 0.7822875922065785\n"
     ]
    }
   ],
   "source": [
    "class RNNTagger(nn.Module):\n",
    "    def __init__(self, input_size, hidden_size, output_size):\n",
    "        super(RNNTagger, self).__init__()\n",
    "        self.rnn = nn.RNN(input_size, hidden_size, batch_first=True)\n",
    "        self.fc = nn.Linear(hidden_size, output_size)\n",
    "\n",
    "    def forward(self, x):\n",
    "        out, _ = self.rnn(x)\n",
    "        out = self.fc(out)\n",
    "        return out\n",
    "\n",
    "input_size = 300\n",
    "hidden_size = 256\n",
    "output_size = 100\n",
    "\n",
    "model = RNNTagger(input_size, hidden_size, output_size)\n",
    "device = torch.device(\"cuda\" if torch.cuda.is_available() else \"cpu\")\n",
    "model.to(device)\n",
    "\n",
    "with open('ATE_test.json', 'r') as file:\n",
    "    valset = json.load(file)\n",
    "\n",
    "print(len(valset))\n",
    "max_seq_len = 85\n",
    "\n",
    "word_embeddings = []\n",
    "labels = []\n",
    "\n",
    "for key, value in valset.items():\n",
    "    text = value['text']\n",
    "    label_seq = value['labels']\n",
    "\n",
    "    label_list = list(label_map)  # Store index of each 27 classes created\n",
    "    label_indices = [label_list.index(label) for label in label_seq]\n",
    "    label_indices_padded = label_indices[:max_seq_len] + [0] * (max_seq_len - len(label_indices))\n",
    "    labels.append(label_indices_padded)\n",
    "\n",
    "    vectors = [word2vec_model[word] if word in word2vec_model else np.zeros(300) for word in text]\n",
    "    vectors_padded = [np.pad(vec, (0, 300), constant_values=0)[:300] for vec in vectors]\n",
    "    vectors_padded += [np.zeros(300)] * (max_seq_len - len(vectors_padded))\n",
    "    word_embeddings.append(vectors_padded)\n",
    "\n",
    "word_embeddings_array = np.array(word_embeddings)\n",
    "\n",
    "test_texts_tensor = torch.tensor(word_embeddings_array, dtype=torch.float32)\n",
    "test_labels_tensor = torch.tensor(labels)\n",
    "\n",
    "with torch.no_grad():\n",
    "    model = RNNTagger(input_size, hidden_size, output_size)\n",
    "    model = model.to(device)\n",
    "    state_dict = torch.load('t2_rnn_word2vec.pt')\n",
    "    model.load_state_dict(state_dict['model'])\n",
    "    test_outputs = model(test_texts_tensor.to(device)) \n",
    "    argmax_indices = torch.argmax(test_outputs, dim=2)\n",
    "    reshaped_tensor = argmax_indices.view(328, 85)\n",
    "    fl_out = reshaped_tensor.flatten()\n",
    "    fl_label = test_labels_tensor.flatten().to(device) \n",
    "    f1 = f1_score(fl_out.cpu(), fl_label.cpu(), average='macro') \n",
    "    print(\"F1 Score on Test Set:\", f1)"
   ]
  }
 ],
 "metadata": {
  "kernelspec": {
   "display_name": "nlp",
   "language": "python",
   "name": "python3"
  },
  "language_info": {
   "codemirror_mode": {
    "name": "ipython",
    "version": 3
   },
   "file_extension": ".py",
   "mimetype": "text/x-python",
   "name": "python",
   "nbconvert_exporter": "python",
   "pygments_lexer": "ipython3",
   "version": "3.10.13"
  }
 },
 "nbformat": 4,
 "nbformat_minor": 2
}
