{
 "cells": [
  {
   "attachments": {},
   "cell_type": "markdown",
   "metadata": {},
   "source": [
    "# Glove Embedding"
   ]
  },
  {
   "cell_type": "code",
   "execution_count": 2,
   "metadata": {},
   "outputs": [],
   "source": [
    "from gensim.models import KeyedVectors\n",
    "import json\n",
    "import numpy as np\n",
    "import torch\n",
    "from sklearn.metrics import f1_score\n",
    "import torch.nn.functional as F\n",
    "import torch.nn as nn\n",
    "import torch.optim as optim"
   ]
  },
  {
   "cell_type": "code",
   "execution_count": 3,
   "metadata": {},
   "outputs": [],
   "source": [
    "label_map = {'B_GPE', 'B_PETITIONER', 'B_ORG', 'I_CASE_NUMBER', 'I_ORG', 'I_STATUTE', 'B_RESPONDENT', 'I_JUDGE', 'I_GPE', 'B_COURT', 'I_DATE', 'B_OTHER_PERSON', 'B_PRECEDENT', 'B_JUDGE', 'O', 'I_PETITIONER', 'I_OTHER_PERSON', 'B_STATUTE', 'I_RESPONDENT', 'B_WITNESS', 'B_CASE_NUMBER', 'I_COURT', 'B_DATE', 'I_WITNESS', 'I_PROVISION', 'I_PRECEDENT', 'B_PROVISION'}"
   ]
  },
  {
   "cell_type": "code",
   "execution_count": 16,
   "metadata": {},
   "outputs": [
    {
     "name": "stdout",
     "output_type": "stream",
     "text": [
      "Loading GloVe word embeddings...\n"
     ]
    },
    {
     "ename": "KeyboardInterrupt",
     "evalue": "",
     "output_type": "error",
     "traceback": [
      "\u001b[0;31m---------------------------------------------------------------------------\u001b[0m",
      "\u001b[0;31mKeyboardInterrupt\u001b[0m                         Traceback (most recent call last)",
      "Cell \u001b[0;32mIn[16], line 16\u001b[0m\n\u001b[1;32m     13\u001b[0m     \u001b[39mprint\u001b[39m(\u001b[39m'\u001b[39m\u001b[39mFound \u001b[39m\u001b[39m%s\u001b[39;00m\u001b[39m word vectors.\u001b[39m\u001b[39m'\u001b[39m \u001b[39m%\u001b[39m \u001b[39mlen\u001b[39m(embeddings_index))\n\u001b[1;32m     14\u001b[0m     \u001b[39mreturn\u001b[39;00m embeddings_index\n\u001b[0;32m---> 16\u001b[0m word2vec_model \u001b[39m=\u001b[39m load_glove_model(glove_model_path)\n\u001b[1;32m     17\u001b[0m \u001b[39mprint\u001b[39m(word2vec_model[\u001b[39m'\u001b[39m\u001b[39mHello\u001b[39m\u001b[39m'\u001b[39m])\n",
      "Cell \u001b[0;32mIn[16], line 9\u001b[0m, in \u001b[0;36mload_glove_model\u001b[0;34m(glove_model_path)\u001b[0m\n\u001b[1;32m      7\u001b[0m embeddings_index \u001b[39m=\u001b[39m {}\n\u001b[1;32m      8\u001b[0m \u001b[39mfor\u001b[39;00m line \u001b[39min\u001b[39;00m f:\n\u001b[0;32m----> 9\u001b[0m     values \u001b[39m=\u001b[39m line\u001b[39m.\u001b[39msplit()\n\u001b[1;32m     10\u001b[0m     word \u001b[39m=\u001b[39m values[\u001b[39m0\u001b[39m]\n\u001b[1;32m     11\u001b[0m     coefs \u001b[39m=\u001b[39m np\u001b[39m.\u001b[39masarray(values[\u001b[39m1\u001b[39m:], dtype\u001b[39m=\u001b[39m\u001b[39m'\u001b[39m\u001b[39mfloat32\u001b[39m\u001b[39m'\u001b[39m)\n",
      "\u001b[0;31mKeyboardInterrupt\u001b[0m: "
     ]
    }
   ],
   "source": [
    "glove_model_path = 'glove.42B.300d.txt'\n",
    "\n",
    "# Load GloVe word embeddings\n",
    "def load_glove_model(glove_model_path):\n",
    "    print(\"Loading GloVe word embeddings...\")\n",
    "    with open(glove_model_path, 'r', encoding='utf-8') as f:\n",
    "        embeddings_index = {}\n",
    "        for line in f:\n",
    "            values = line.split()\n",
    "            word = values[0]\n",
    "            coefs = np.asarray(values[1:], dtype='float32')\n",
    "            embeddings_index[word] = coefs\n",
    "    print('Found %s word vectors.' % len(embeddings_index))\n",
    "    return embeddings_index\n",
    "\n",
    "word2vec_model = load_glove_model(glove_model_path)\n",
    "\n",
    "with open('NER_train.json', 'r') as file:\n",
    "    dataset = json.load(file)\n",
    "\n",
    "print(len(dataset))\n",
    "\n",
    "max_seq_len = 315\n",
    "word_embeddings = []\n",
    "labels = []\n",
    "\n",
    "for key, value in dataset.items():\n",
    "    text = value['text']\n",
    "    label_seq = value['labels']\n",
    "\n",
    "    label_list = list(label_map)  \n",
    "    label_indices = [label_list.index(label) for label in label_seq]\n",
    "    label_indices_padded = label_indices[:max_seq_len] + [0] * (max_seq_len - len(label_indices))\n",
    "    labels.append(label_indices_padded)\n",
    "\n",
    "    vectors = [word2vec_model[word] if word in word2vec_model else np.zeros(300) for word in text] \n",
    "    vectors_padded = [np.pad(vec, (0, 300), constant_values=0)[:300] for vec in vectors]\n",
    "    vectors_padded += [np.zeros(300)] * (max_seq_len - len(vectors_padded))\n",
    "    word_embeddings.append(vectors_padded)\n",
    "\n",
    "word_embeddings_array = np.array(word_embeddings)\n",
    "print(word_embeddings_array.shape)\n",
    "texts_tensor = torch.tensor(word_embeddings_array, dtype=torch.float32)\n",
    "labels_tensor = torch.tensor(labels)"
   ]
  },
  {
   "cell_type": "code",
   "execution_count": 5,
   "metadata": {},
   "outputs": [
    {
     "name": "stdout",
     "output_type": "stream",
     "text": [
      "1416\n"
     ]
    }
   ],
   "source": [
    "with open('NER_val.json', 'r') as file:\n",
    "    valset = json.load(file)\n",
    "\n",
    "print(len(valset))\n",
    "max_seq_len = 315\n",
    "\n",
    "word_embeddings = []\n",
    "labels = []\n",
    "\n",
    "for key, value in valset.items():\n",
    "    text = value['text']\n",
    "    label_seq = value['labels']\n",
    "\n",
    "    label_list = list(label_map)  # Store index of each 27 classes created\n",
    "    label_indices = [label_list.index(label) for label in label_seq]\n",
    "    label_indices_padded = label_indices[:max_seq_len] + [0] * (max_seq_len - len(label_indices))\n",
    "    labels.append(label_indices_padded)\n",
    "\n",
    "    vectors = [word2vec_model[word] if word in word2vec_model else np.zeros(300) for word in text]\n",
    "    vectors_padded = [np.pad(vec, (0, 300), constant_values=0)[:300] for vec in vectors]\n",
    "    vectors_padded += [np.zeros(300)] * (max_seq_len - len(vectors_padded))\n",
    "    word_embeddings.append(vectors_padded)\n",
    "\n",
    "word_embeddings_array = np.array(word_embeddings)\n",
    "\n",
    "test_texts_tensor = torch.tensor(word_embeddings_array, dtype=torch.float32)\n",
    "test_labels_tensor = torch.tensor(labels)"
   ]
  },
  {
   "cell_type": "code",
   "execution_count": 6,
   "metadata": {},
   "outputs": [
    {
     "name": "stderr",
     "output_type": "stream",
     "text": [
      "Failed to detect the name of this notebook, you can set it manually with the WANDB_NOTEBOOK_NAME environment variable to enable code saving.\n",
      "\u001b[34m\u001b[1mwandb\u001b[0m: Currently logged in as: \u001b[33maman21010\u001b[0m (\u001b[33myuhuhu\u001b[0m). Use \u001b[1m`wandb login --relogin`\u001b[0m to force relogin\n"
     ]
    },
    {
     "data": {
      "text/plain": [
       "True"
      ]
     },
     "execution_count": 6,
     "metadata": {},
     "output_type": "execute_result"
    }
   ],
   "source": [
    "import wandb\n",
    "wandb.login()"
   ]
  },
  {
   "cell_type": "code",
   "execution_count": 7,
   "metadata": {},
   "outputs": [
    {
     "data": {
      "text/html": [
       "Tracking run with wandb version 0.16.4"
      ],
      "text/plain": [
       "<IPython.core.display.HTML object>"
      ]
     },
     "metadata": {},
     "output_type": "display_data"
    },
    {
     "data": {
      "text/html": [
       "Run data is saved locally in <code>/home/hiddenmist/Aman_Lakshay/DL_Ass/NLP_TEMP/NLP_Final/wandb/run-20240311_230131-1v8ky98e</code>"
      ],
      "text/plain": [
       "<IPython.core.display.HTML object>"
      ]
     },
     "metadata": {},
     "output_type": "display_data"
    },
    {
     "data": {
      "text/html": [
       "Syncing run <strong><a href='https://wandb.ai/yuhuhu/nlp_ass2/runs/1v8ky98e' target=\"_blank\">RNN_Glove</a></strong> to <a href='https://wandb.ai/yuhuhu/nlp_ass2' target=\"_blank\">Weights & Biases</a> (<a href='https://wandb.me/run' target=\"_blank\">docs</a>)<br/>"
      ],
      "text/plain": [
       "<IPython.core.display.HTML object>"
      ]
     },
     "metadata": {},
     "output_type": "display_data"
    },
    {
     "data": {
      "text/html": [
       " View project at <a href='https://wandb.ai/yuhuhu/nlp_ass2' target=\"_blank\">https://wandb.ai/yuhuhu/nlp_ass2</a>"
      ],
      "text/plain": [
       "<IPython.core.display.HTML object>"
      ]
     },
     "metadata": {},
     "output_type": "display_data"
    },
    {
     "data": {
      "text/html": [
       " View run at <a href='https://wandb.ai/yuhuhu/nlp_ass2/runs/1v8ky98e' target=\"_blank\">https://wandb.ai/yuhuhu/nlp_ass2/runs/1v8ky98e</a>"
      ],
      "text/plain": [
       "<IPython.core.display.HTML object>"
      ]
     },
     "metadata": {},
     "output_type": "display_data"
    },
    {
     "data": {
      "text/html": [
       "<button onClick=\"this.nextSibling.style.display='block';this.style.display='none';\">Display W&B run</button><iframe src='https://wandb.ai/yuhuhu/nlp_ass2/runs/1v8ky98e?jupyter=true' style='border:none;width:100%;height:420px;display:none;'></iframe>"
      ],
      "text/plain": [
       "<wandb.sdk.wandb_run.Run at 0x7fbacd547650>"
      ]
     },
     "execution_count": 7,
     "metadata": {},
     "output_type": "execute_result"
    }
   ],
   "source": [
    "wandb.init(\n",
    "    project=\"nlp_ass2\", \n",
    "    name=f\"RNN_Glove\"\n",
    ")"
   ]
  },
  {
   "cell_type": "code",
   "execution_count": 8,
   "metadata": {},
   "outputs": [
    {
     "name": "stdout",
     "output_type": "stream",
     "text": [
      "Epoch [1/45], Training Loss: 0.0083, Training F1 Score: 0.0253\n",
      "Epoch [1/45], Validation Loss: 0.0036, Validation F1 Score: 0.0875\n",
      "Epoch [2/45], Training Loss: 0.0032, Training F1 Score: 0.1428\n",
      "Epoch [2/45], Validation Loss: 0.0029, Validation F1 Score: 0.2015\n",
      "Epoch [3/45], Training Loss: 0.0035, Training F1 Score: 0.1988\n",
      "Epoch [3/45], Validation Loss: 0.0035, Validation F1 Score: 0.1280\n",
      "Epoch [4/45], Training Loss: 0.0028, Training F1 Score: 0.1848\n",
      "Epoch [4/45], Validation Loss: 0.0026, Validation F1 Score: 0.2215\n",
      "Epoch [5/45], Training Loss: 0.0024, Training F1 Score: 0.2357\n",
      "Epoch [5/45], Validation Loss: 0.0023, Validation F1 Score: 0.2509\n",
      "Epoch [6/45], Training Loss: 0.0022, Training F1 Score: 0.2632\n",
      "Epoch [6/45], Validation Loss: 0.0022, Validation F1 Score: 0.2630\n",
      "Epoch [7/45], Training Loss: 0.0021, Training F1 Score: 0.2796\n",
      "Epoch [7/45], Validation Loss: 0.0021, Validation F1 Score: 0.2780\n",
      "Epoch [8/45], Training Loss: 0.0020, Training F1 Score: 0.2929\n",
      "Epoch [8/45], Validation Loss: 0.0020, Validation F1 Score: 0.3023\n",
      "Epoch [9/45], Training Loss: 0.0019, Training F1 Score: 0.3055\n",
      "Epoch [9/45], Validation Loss: 0.0020, Validation F1 Score: 0.3103\n",
      "Epoch [10/45], Training Loss: 0.0019, Training F1 Score: 0.3160\n",
      "Epoch [10/45], Validation Loss: 0.0019, Validation F1 Score: 0.3272\n",
      "Epoch [11/45], Training Loss: 0.0018, Training F1 Score: 0.3297\n",
      "Epoch [11/45], Validation Loss: 0.0019, Validation F1 Score: 0.3329\n",
      "Epoch [12/45], Training Loss: 0.0018, Training F1 Score: 0.3420\n",
      "Epoch [12/45], Validation Loss: 0.0018, Validation F1 Score: 0.3518\n",
      "Epoch [13/45], Training Loss: 0.0017, Training F1 Score: 0.3504\n",
      "Epoch [13/45], Validation Loss: 0.0018, Validation F1 Score: 0.3619\n",
      "Epoch [14/45], Training Loss: 0.0017, Training F1 Score: 0.3613\n",
      "Epoch [14/45], Validation Loss: 0.0018, Validation F1 Score: 0.3694\n",
      "Epoch [15/45], Training Loss: 0.0017, Training F1 Score: 0.3661\n",
      "Epoch [15/45], Validation Loss: 0.0018, Validation F1 Score: 0.3776\n",
      "Epoch [16/45], Training Loss: 0.0017, Training F1 Score: 0.3741\n",
      "Epoch [16/45], Validation Loss: 0.0018, Validation F1 Score: 0.3771\n",
      "Epoch [17/45], Training Loss: 0.0017, Training F1 Score: 0.3909\n",
      "Epoch [17/45], Validation Loss: 0.0018, Validation F1 Score: 0.3868\n",
      "Epoch [18/45], Training Loss: 0.0016, Training F1 Score: 0.3998\n",
      "Epoch [18/45], Validation Loss: 0.0018, Validation F1 Score: 0.3901\n",
      "Epoch [19/45], Training Loss: 0.0016, Training F1 Score: 0.4090\n",
      "Epoch [19/45], Validation Loss: 0.0017, Validation F1 Score: 0.3961\n",
      "Epoch [20/45], Training Loss: 0.0016, Training F1 Score: 0.4209\n",
      "Epoch [20/45], Validation Loss: 0.0018, Validation F1 Score: 0.4062\n",
      "Epoch [21/45], Training Loss: 0.0016, Training F1 Score: 0.4318\n",
      "Epoch [21/45], Validation Loss: 0.0018, Validation F1 Score: 0.4126\n",
      "Epoch [22/45], Training Loss: 0.0016, Training F1 Score: 0.4241\n",
      "Epoch [22/45], Validation Loss: 0.0017, Validation F1 Score: 0.4200\n",
      "Epoch [23/45], Training Loss: 0.0015, Training F1 Score: 0.4436\n",
      "Epoch [23/45], Validation Loss: 0.0017, Validation F1 Score: 0.4328\n",
      "Epoch [24/45], Training Loss: 0.0015, Training F1 Score: 0.4553\n",
      "Epoch [24/45], Validation Loss: 0.0018, Validation F1 Score: 0.4296\n",
      "Epoch [25/45], Training Loss: 0.0038, Training F1 Score: 0.2623\n",
      "Epoch [25/45], Validation Loss: 0.0018, Validation F1 Score: 0.3557\n",
      "Epoch [26/45], Training Loss: 0.0017, Training F1 Score: 0.3849\n",
      "Epoch [26/45], Validation Loss: 0.0018, Validation F1 Score: 0.3999\n",
      "Epoch [27/45], Training Loss: 0.0016, Training F1 Score: 0.4122\n",
      "Epoch [27/45], Validation Loss: 0.0018, Validation F1 Score: 0.4197\n",
      "Epoch [28/45], Training Loss: 0.0016, Training F1 Score: 0.4285\n",
      "Epoch [28/45], Validation Loss: 0.0017, Validation F1 Score: 0.4340\n",
      "Epoch [29/45], Training Loss: 0.0015, Training F1 Score: 0.4397\n",
      "Epoch [29/45], Validation Loss: 0.0017, Validation F1 Score: 0.4364\n",
      "Epoch [30/45], Training Loss: 0.0016, Training F1 Score: 0.4378\n",
      "Epoch [30/45], Validation Loss: 0.0017, Validation F1 Score: 0.4419\n",
      "Epoch [31/45], Training Loss: 0.0016, Training F1 Score: 0.4572\n",
      "Epoch [31/45], Validation Loss: 0.0017, Validation F1 Score: 0.4446\n",
      "Epoch [32/45], Training Loss: 0.0015, Training F1 Score: 0.4664\n",
      "Epoch [32/45], Validation Loss: 0.0017, Validation F1 Score: 0.4466\n",
      "Epoch [33/45], Training Loss: 0.0014, Training F1 Score: 0.4712\n",
      "Epoch [33/45], Validation Loss: 0.0021, Validation F1 Score: 0.4358\n",
      "Epoch [34/45], Training Loss: 0.0014, Training F1 Score: 0.4757\n",
      "Epoch [34/45], Validation Loss: 0.0021, Validation F1 Score: 0.4391\n",
      "Epoch [35/45], Training Loss: 0.0014, Training F1 Score: 0.4869\n",
      "Epoch [35/45], Validation Loss: 0.0020, Validation F1 Score: 0.4382\n",
      "Epoch [36/45], Training Loss: 0.0015, Training F1 Score: 0.4709\n",
      "Epoch [36/45], Validation Loss: 0.0017, Validation F1 Score: 0.4538\n",
      "Epoch [37/45], Training Loss: 0.0014, Training F1 Score: 0.4937\n",
      "Epoch [37/45], Validation Loss: 0.0020, Validation F1 Score: 0.4531\n",
      "Epoch [38/45], Training Loss: 0.0014, Training F1 Score: 0.5010\n",
      "Epoch [38/45], Validation Loss: 0.0017, Validation F1 Score: 0.4519\n",
      "Epoch [39/45], Training Loss: 0.0015, Training F1 Score: 0.4765\n",
      "Epoch [39/45], Validation Loss: 0.0021, Validation F1 Score: 0.4492\n",
      "Epoch [40/45], Training Loss: 0.0015, Training F1 Score: 0.4985\n",
      "Epoch [40/45], Validation Loss: 0.0022, Validation F1 Score: 0.3712\n",
      "Epoch [41/45], Training Loss: 0.0014, Training F1 Score: 0.4903\n",
      "Epoch [41/45], Validation Loss: 0.0020, Validation F1 Score: 0.4539\n",
      "Epoch [42/45], Training Loss: 0.0014, Training F1 Score: 0.5041\n",
      "Epoch [42/45], Validation Loss: 0.0020, Validation F1 Score: 0.4505\n",
      "Epoch [43/45], Training Loss: 0.0014, Training F1 Score: 0.5103\n",
      "Epoch [43/45], Validation Loss: 0.0022, Validation F1 Score: 0.3967\n",
      "Epoch [44/45], Training Loss: 0.0015, Training F1 Score: 0.4870\n",
      "Epoch [44/45], Validation Loss: 0.0017, Validation F1 Score: 0.4600\n",
      "Epoch [45/45], Training Loss: 0.0017, Training F1 Score: 0.4315\n",
      "Epoch [45/45], Validation Loss: 0.0017, Validation F1 Score: 0.4293\n",
      "Finished Training\n"
     ]
    }
   ],
   "source": [
    "class RNNTagger(nn.Module):\n",
    "    def __init__(self, input_size, hidden_size, output_size):\n",
    "        super(RNNTagger, self).__init__()\n",
    "        self.rnn = nn.RNN(input_size, hidden_size, batch_first=True)\n",
    "        self.fc = nn.Linear(hidden_size, output_size)\n",
    "\n",
    "    def forward(self, x):\n",
    "        out, _ = self.rnn(x)\n",
    "        out = self.fc(out)\n",
    "        return out\n",
    "\n",
    "input_size = 300\n",
    "hidden_size = 256\n",
    "output_size = 100\n",
    "\n",
    "model = RNNTagger(input_size, hidden_size, output_size)\n",
    "\n",
    "device = torch.device(\"cuda\" if torch.cuda.is_available() else \"cpu\")\n",
    "model.to(device)\n",
    "\n",
    "criterion = nn.CrossEntropyLoss()\n",
    "optimizer = optim.Adam(model.parameters(), lr=0.001)\n",
    "\n",
    "num_epochs = 45\n",
    "batch_size = 32 \n",
    "\n",
    "texts_tensor = texts_tensor.to(device)\n",
    "labels_tensor = labels_tensor.to(device)\n",
    "val_texts_tensor = test_texts_tensor\n",
    "val_labels_tensor =  test_labels_tensor\n",
    "val_texts_tensor = val_texts_tensor.to(device)\n",
    "val_labels_tensor = val_labels_tensor.to(device)\n",
    "\n",
    "save_loss = 0\n",
    "\n",
    "for epoch in range(num_epochs):\n",
    "    \n",
    "    model.train()  \n",
    "    total_loss=0\n",
    "    train_predictions = []\n",
    "    train_labels = []\n",
    "    for i in range(0, len(texts_tensor), batch_size):\n",
    "        optimizer.zero_grad()\n",
    "        batch_texts = texts_tensor[i:i+batch_size]\n",
    "        batch_labels = labels_tensor[i:i+batch_size].view(-1)\n",
    "        outputs = model(batch_texts)\n",
    "        loss = criterion(outputs.view(-1, output_size), batch_labels)\n",
    "        loss.backward()\n",
    "        optimizer.step()\n",
    "        total_loss+=loss.item()\n",
    "        train_predictions.extend(torch.argmax(outputs, dim=2).flatten().cpu().tolist())\n",
    "        train_labels.extend(batch_labels.cpu().tolist())\n",
    "        \n",
    "    train_f1 = f1_score(train_labels, train_predictions, average='macro')\n",
    "    print(f'Epoch [{epoch+1}/{num_epochs}], Training Loss: {total_loss/len(texts_tensor):.4f}, Training F1 Score: {train_f1:.4f}')\n",
    "    \n",
    "    # Validation\n",
    "    model.eval()  \n",
    "    total_val_loss = 0\n",
    "    val_predictions = []\n",
    "    val_labels = []\n",
    "    \n",
    "    with torch.no_grad():\n",
    "        for i in range(0, len(val_texts_tensor), batch_size):\n",
    "            batch_texts_val = val_texts_tensor[i:i+batch_size]\n",
    "            batch_labels_val = val_labels_tensor[i:i+batch_size].view(-1)\n",
    "            outputs_val = model(batch_texts_val)\n",
    "            val_loss = criterion(outputs_val.view(-1, output_size), batch_labels_val)\n",
    "            total_val_loss += val_loss.item()\n",
    "            val_predictions.extend(torch.argmax(outputs_val, dim=2).flatten().cpu().tolist())\n",
    "            val_labels.extend(batch_labels_val.cpu().tolist())\n",
    "    \n",
    "    val_f1 = f1_score(val_labels, val_predictions, average='macro')\n",
    "    print(f'Epoch [{epoch+1}/{num_epochs}], Validation Loss: {total_val_loss/len(val_texts_tensor):.4f}, Validation F1 Score: {val_f1:.4f}')\n",
    "    if(val_f1>save_loss):\n",
    "        save_loss = val_f1\n",
    "        torch.save(model.state_dict(),'t1_rnn_glove.pt')\n",
    "    log_metric = {\"Epoch\": epoch+1, \"Training Loss\": total_loss/len(texts_tensor), \"Training F1 Score\": train_f1, \"Validation Loss\": total_val_loss/len(val_texts_tensor), \"Validation F1 Score\": val_f1}\n",
    "    wandb.log(log_metric)\n",
    "print(\"Finished Training\")\n",
    "    "
   ]
  },
  {
   "cell_type": "code",
   "execution_count": 9,
   "metadata": {},
   "outputs": [
    {
     "name": "stdout",
     "output_type": "stream",
     "text": [
      "949\n",
      "F1 Score on Test Set: 0.44186287843748434\n"
     ]
    }
   ],
   "source": [
    "with open('NER_test.json', 'r') as file:\n",
    "    valset = json.load(file)\n",
    "\n",
    "print(len(valset))\n",
    "max_seq_len = 315\n",
    "\n",
    "word_embeddings = []\n",
    "labels = []\n",
    "\n",
    "for key, value in valset.items():\n",
    "    text = value['text']\n",
    "    label_seq = value['labels']\n",
    "\n",
    "    label_list = list(label_map)  # Store index of each 27 classes created\n",
    "    label_indices = [label_list.index(label) for label in label_seq]\n",
    "    label_indices_padded = label_indices[:max_seq_len] + [0] * (max_seq_len - len(label_indices))\n",
    "    labels.append(label_indices_padded)\n",
    "\n",
    "    vectors = [word2vec_model[word] if word in word2vec_model else np.zeros(300) for word in text]\n",
    "    vectors_padded = [np.pad(vec, (0, 300), constant_values=0)[:300] for vec in vectors]\n",
    "    vectors_padded += [np.zeros(300)] * (max_seq_len - len(vectors_padded))\n",
    "    word_embeddings.append(vectors_padded)\n",
    "\n",
    "word_embeddings_array = np.array(word_embeddings)\n",
    "\n",
    "test_texts_tensor = torch.tensor(word_embeddings_array, dtype=torch.float32)\n",
    "test_labels_tensor = torch.tensor(labels)\n",
    "\n",
    "with torch.no_grad():\n",
    "    model = RNNTagger(input_size, hidden_size, output_size)\n",
    "    model = model.to(device)\n",
    "    model.load_state_dict(torch.load('t1_rnn_glove.pt'))\n",
    "    test_outputs = model(test_texts_tensor.to(device)) \n",
    "    argmax_indices = torch.argmax(test_outputs, dim=2)\n",
    "    reshaped_tensor = argmax_indices.view(949, 315)\n",
    "    fl_out = reshaped_tensor.flatten()\n",
    "    fl_label = test_labels_tensor.flatten().to(device) \n",
    "    f1 = f1_score(fl_out.cpu(), fl_label.cpu(), average='macro') \n",
    "    print(\"F1 Score on Test Set:\", f1)"
   ]
  },
  {
   "cell_type": "code",
   "execution_count": 10,
   "metadata": {},
   "outputs": [
    {
     "data": {
      "text/html": [
       "Finishing last run (ID:1v8ky98e) before initializing another..."
      ],
      "text/plain": [
       "<IPython.core.display.HTML object>"
      ]
     },
     "metadata": {},
     "output_type": "display_data"
    },
    {
     "data": {
      "text/html": [
       "<style>\n",
       "    table.wandb td:nth-child(1) { padding: 0 10px; text-align: left ; width: auto;} td:nth-child(2) {text-align: left ; width: 100%}\n",
       "    .wandb-row { display: flex; flex-direction: row; flex-wrap: wrap; justify-content: flex-start; width: 100% }\n",
       "    .wandb-col { display: flex; flex-direction: column; flex-basis: 100%; flex: 1; padding: 10px; }\n",
       "    </style>\n",
       "<div class=\"wandb-row\"><div class=\"wandb-col\"><h3>Run history:</h3><br/><table class=\"wandb\"><tr><td>Epoch</td><td>▁▁▁▁▂▂▂▂▂▃▃▃▃▃▃▄▄▄▄▄▅▅▅▅▅▅▆▆▆▆▆▆▇▇▇▇▇███</td></tr><tr><td>Training F1 Score</td><td>▁▃▄▃▄▄▅▅▅▅▆▆▆▆▆▆▇▇▇▇▇▇▄▆▇▇▇▇▇▇█████████▇</td></tr><tr><td>Training Loss</td><td>█▃▃▂▂▂▂▂▂▁▁▁▁▁▁▁▁▁▁▁▁▁▃▁▁▁▁▁▁▁▁▁▁▁▁▁▁▁▁▁</td></tr><tr><td>Validation F1 Score</td><td>▁▃▂▄▄▄▅▅▆▆▆▆▆▇▇▇▇▇▇▇██▆▇███████████▆██▇█</td></tr><tr><td>Validation Loss</td><td>█▅█▄▃▃▃▂▂▂▂▂▂▂▁▂▁▁▂▁▁▁▂▁▁▁▁▁▁▃▃▂▂▁▂▃▂▂▃▁</td></tr></table><br/></div><div class=\"wandb-col\"><h3>Run summary:</h3><br/><table class=\"wandb\"><tr><td>Epoch</td><td>45</td></tr><tr><td>Training F1 Score</td><td>0.43149</td></tr><tr><td>Training Loss</td><td>0.00175</td></tr><tr><td>Validation F1 Score</td><td>0.42935</td></tr><tr><td>Validation Loss</td><td>0.00174</td></tr></table><br/></div></div>"
      ],
      "text/plain": [
       "<IPython.core.display.HTML object>"
      ]
     },
     "metadata": {},
     "output_type": "display_data"
    },
    {
     "data": {
      "text/html": [
       " View run <strong style=\"color:#cdcd00\">RNN_Glove</strong> at: <a href='https://wandb.ai/yuhuhu/nlp_ass2/runs/1v8ky98e' target=\"_blank\">https://wandb.ai/yuhuhu/nlp_ass2/runs/1v8ky98e</a><br/>Synced 6 W&B file(s), 0 media file(s), 0 artifact file(s) and 0 other file(s)"
      ],
      "text/plain": [
       "<IPython.core.display.HTML object>"
      ]
     },
     "metadata": {},
     "output_type": "display_data"
    },
    {
     "data": {
      "text/html": [
       "Find logs at: <code>./wandb/run-20240311_230131-1v8ky98e/logs</code>"
      ],
      "text/plain": [
       "<IPython.core.display.HTML object>"
      ]
     },
     "metadata": {},
     "output_type": "display_data"
    },
    {
     "data": {
      "text/html": [
       "Successfully finished last run (ID:1v8ky98e). Initializing new run:<br/>"
      ],
      "text/plain": [
       "<IPython.core.display.HTML object>"
      ]
     },
     "metadata": {},
     "output_type": "display_data"
    },
    {
     "data": {
      "text/html": [
       "Tracking run with wandb version 0.16.4"
      ],
      "text/plain": [
       "<IPython.core.display.HTML object>"
      ]
     },
     "metadata": {},
     "output_type": "display_data"
    },
    {
     "data": {
      "text/html": [
       "Run data is saved locally in <code>/home/hiddenmist/Aman_Lakshay/DL_Ass/NLP_TEMP/NLP_Final/wandb/run-20240311_230324-50m8vb50</code>"
      ],
      "text/plain": [
       "<IPython.core.display.HTML object>"
      ]
     },
     "metadata": {},
     "output_type": "display_data"
    },
    {
     "data": {
      "text/html": [
       "Syncing run <strong><a href='https://wandb.ai/yuhuhu/nlp_ass2/runs/50m8vb50' target=\"_blank\">LSTM_Glove</a></strong> to <a href='https://wandb.ai/yuhuhu/nlp_ass2' target=\"_blank\">Weights & Biases</a> (<a href='https://wandb.me/run' target=\"_blank\">docs</a>)<br/>"
      ],
      "text/plain": [
       "<IPython.core.display.HTML object>"
      ]
     },
     "metadata": {},
     "output_type": "display_data"
    },
    {
     "data": {
      "text/html": [
       " View project at <a href='https://wandb.ai/yuhuhu/nlp_ass2' target=\"_blank\">https://wandb.ai/yuhuhu/nlp_ass2</a>"
      ],
      "text/plain": [
       "<IPython.core.display.HTML object>"
      ]
     },
     "metadata": {},
     "output_type": "display_data"
    },
    {
     "data": {
      "text/html": [
       " View run at <a href='https://wandb.ai/yuhuhu/nlp_ass2/runs/50m8vb50' target=\"_blank\">https://wandb.ai/yuhuhu/nlp_ass2/runs/50m8vb50</a>"
      ],
      "text/plain": [
       "<IPython.core.display.HTML object>"
      ]
     },
     "metadata": {},
     "output_type": "display_data"
    },
    {
     "data": {
      "text/html": [
       "<button onClick=\"this.nextSibling.style.display='block';this.style.display='none';\">Display W&B run</button><iframe src='https://wandb.ai/yuhuhu/nlp_ass2/runs/50m8vb50?jupyter=true' style='border:none;width:100%;height:420px;display:none;'></iframe>"
      ],
      "text/plain": [
       "<wandb.sdk.wandb_run.Run at 0x7fbacd42c190>"
      ]
     },
     "execution_count": 10,
     "metadata": {},
     "output_type": "execute_result"
    }
   ],
   "source": [
    "wandb.init(\n",
    "    project=\"nlp_ass2\", \n",
    "    name=f\"LSTM_Glove\"\n",
    ")"
   ]
  },
  {
   "cell_type": "code",
   "execution_count": 11,
   "metadata": {},
   "outputs": [
    {
     "name": "stdout",
     "output_type": "stream",
     "text": [
      "Epoch [1/45], Training Loss: 0.0095, Training F1 Score: 0.0551\n",
      "Epoch [1/45], Validation Loss: 0.0033, Validation F1 Score: 0.1615\n",
      "Epoch [2/45], Training Loss: 0.0027, Training F1 Score: 0.2263\n",
      "Epoch [2/45], Validation Loss: 0.0026, Validation F1 Score: 0.2689\n",
      "Epoch [3/45], Training Loss: 0.0023, Training F1 Score: 0.2800\n",
      "Epoch [3/45], Validation Loss: 0.0023, Validation F1 Score: 0.3116\n",
      "Epoch [4/45], Training Loss: 0.0021, Training F1 Score: 0.3228\n",
      "Epoch [4/45], Validation Loss: 0.0022, Validation F1 Score: 0.3614\n",
      "Epoch [5/45], Training Loss: 0.0020, Training F1 Score: 0.3597\n",
      "Epoch [5/45], Validation Loss: 0.0021, Validation F1 Score: 0.3829\n",
      "Epoch [6/45], Training Loss: 0.0018, Training F1 Score: 0.3968\n",
      "Epoch [6/45], Validation Loss: 0.0020, Validation F1 Score: 0.3800\n",
      "Epoch [7/45], Training Loss: 0.0016, Training F1 Score: 0.4283\n",
      "Epoch [7/45], Validation Loss: 0.0019, Validation F1 Score: 0.4098\n",
      "Epoch [8/45], Training Loss: 0.0015, Training F1 Score: 0.4521\n",
      "Epoch [8/45], Validation Loss: 0.0018, Validation F1 Score: 0.4258\n",
      "Epoch [9/45], Training Loss: 0.0014, Training F1 Score: 0.4743\n",
      "Epoch [9/45], Validation Loss: 0.0018, Validation F1 Score: 0.4298\n",
      "Epoch [10/45], Training Loss: 0.0014, Training F1 Score: 0.4892\n",
      "Epoch [10/45], Validation Loss: 0.0018, Validation F1 Score: 0.4255\n",
      "Epoch [11/45], Training Loss: 0.0013, Training F1 Score: 0.5113\n",
      "Epoch [11/45], Validation Loss: 0.0018, Validation F1 Score: 0.4209\n",
      "Epoch [12/45], Training Loss: 0.0013, Training F1 Score: 0.5241\n",
      "Epoch [12/45], Validation Loss: 0.0018, Validation F1 Score: 0.4444\n",
      "Epoch [13/45], Training Loss: 0.0012, Training F1 Score: 0.5408\n",
      "Epoch [13/45], Validation Loss: 0.0018, Validation F1 Score: 0.4464\n",
      "Epoch [14/45], Training Loss: 0.0012, Training F1 Score: 0.5581\n",
      "Epoch [14/45], Validation Loss: 0.0019, Validation F1 Score: 0.4351\n",
      "Epoch [15/45], Training Loss: 0.0011, Training F1 Score: 0.5729\n",
      "Epoch [15/45], Validation Loss: 0.0028, Validation F1 Score: 0.3734\n",
      "Epoch [16/45], Training Loss: 0.0013, Training F1 Score: 0.5289\n",
      "Epoch [16/45], Validation Loss: 0.0019, Validation F1 Score: 0.4606\n",
      "Epoch [17/45], Training Loss: 0.0011, Training F1 Score: 0.5790\n",
      "Epoch [17/45], Validation Loss: 0.0020, Validation F1 Score: 0.4577\n",
      "Epoch [18/45], Training Loss: 0.0011, Training F1 Score: 0.5992\n",
      "Epoch [18/45], Validation Loss: 0.0020, Validation F1 Score: 0.4706\n",
      "Epoch [19/45], Training Loss: 0.0010, Training F1 Score: 0.6135\n",
      "Epoch [19/45], Validation Loss: 0.0021, Validation F1 Score: 0.4706\n",
      "Epoch [20/45], Training Loss: 0.0010, Training F1 Score: 0.6290\n",
      "Epoch [20/45], Validation Loss: 0.0076, Validation F1 Score: 0.4419\n",
      "Epoch [21/45], Training Loss: 0.0010, Training F1 Score: 0.6155\n",
      "Epoch [21/45], Validation Loss: 0.0021, Validation F1 Score: 0.4544\n",
      "Epoch [22/45], Training Loss: 0.0010, Training F1 Score: 0.6358\n",
      "Epoch [22/45], Validation Loss: 0.0021, Validation F1 Score: 0.4695\n",
      "Epoch [23/45], Training Loss: 0.0009, Training F1 Score: 0.6601\n",
      "Epoch [23/45], Validation Loss: 0.0022, Validation F1 Score: 0.4661\n",
      "Epoch [24/45], Training Loss: 0.0008, Training F1 Score: 0.6760\n",
      "Epoch [24/45], Validation Loss: 0.0023, Validation F1 Score: 0.4643\n",
      "Epoch [25/45], Training Loss: 0.0008, Training F1 Score: 0.6905\n",
      "Epoch [25/45], Validation Loss: 0.0022, Validation F1 Score: 0.4638\n",
      "Epoch [26/45], Training Loss: 0.0008, Training F1 Score: 0.6963\n",
      "Epoch [26/45], Validation Loss: 0.0023, Validation F1 Score: 0.4582\n",
      "Epoch [27/45], Training Loss: 0.0008, Training F1 Score: 0.7033\n",
      "Epoch [27/45], Validation Loss: 0.0031, Validation F1 Score: 0.4479\n",
      "Epoch [28/45], Training Loss: 0.0008, Training F1 Score: 0.7009\n",
      "Epoch [28/45], Validation Loss: 0.0022, Validation F1 Score: 0.4496\n",
      "Epoch [29/45], Training Loss: 0.0008, Training F1 Score: 0.7136\n",
      "Epoch [29/45], Validation Loss: 0.0022, Validation F1 Score: 0.4630\n",
      "Epoch [30/45], Training Loss: 0.0007, Training F1 Score: 0.7414\n",
      "Epoch [30/45], Validation Loss: 0.0023, Validation F1 Score: 0.4617\n",
      "Epoch [31/45], Training Loss: 0.0006, Training F1 Score: 0.7673\n",
      "Epoch [31/45], Validation Loss: 0.0025, Validation F1 Score: 0.4525\n",
      "Epoch [32/45], Training Loss: 0.0006, Training F1 Score: 0.7853\n",
      "Epoch [32/45], Validation Loss: 0.0025, Validation F1 Score: 0.4526\n",
      "Epoch [33/45], Training Loss: 0.0005, Training F1 Score: 0.7979\n",
      "Epoch [33/45], Validation Loss: 0.0026, Validation F1 Score: 0.4515\n",
      "Epoch [34/45], Training Loss: 0.0005, Training F1 Score: 0.8058\n",
      "Epoch [34/45], Validation Loss: 0.0026, Validation F1 Score: 0.4427\n",
      "Epoch [35/45], Training Loss: 0.0005, Training F1 Score: 0.8115\n",
      "Epoch [35/45], Validation Loss: 0.0027, Validation F1 Score: 0.4436\n",
      "Epoch [36/45], Training Loss: 0.0005, Training F1 Score: 0.8145\n",
      "Epoch [36/45], Validation Loss: 0.0031, Validation F1 Score: 0.4509\n",
      "Epoch [37/45], Training Loss: 0.0005, Training F1 Score: 0.8112\n",
      "Epoch [37/45], Validation Loss: 0.0027, Validation F1 Score: 0.4482\n",
      "Epoch [38/45], Training Loss: 0.0005, Training F1 Score: 0.8207\n",
      "Epoch [38/45], Validation Loss: 0.0029, Validation F1 Score: 0.4484\n",
      "Epoch [39/45], Training Loss: 0.0005, Training F1 Score: 0.8259\n",
      "Epoch [39/45], Validation Loss: 0.0027, Validation F1 Score: 0.4541\n",
      "Epoch [40/45], Training Loss: 0.0005, Training F1 Score: 0.8376\n",
      "Epoch [40/45], Validation Loss: 0.0029, Validation F1 Score: 0.4427\n",
      "Epoch [41/45], Training Loss: 0.0004, Training F1 Score: 0.8565\n",
      "Epoch [41/45], Validation Loss: 0.0030, Validation F1 Score: 0.4425\n",
      "Epoch [42/45], Training Loss: 0.0004, Training F1 Score: 0.8741\n",
      "Epoch [42/45], Validation Loss: 0.0032, Validation F1 Score: 0.4314\n",
      "Epoch [43/45], Training Loss: 0.0003, Training F1 Score: 0.8877\n",
      "Epoch [43/45], Validation Loss: 0.0033, Validation F1 Score: 0.4314\n",
      "Epoch [44/45], Training Loss: 0.0003, Training F1 Score: 0.8934\n",
      "Epoch [44/45], Validation Loss: 0.0034, Validation F1 Score: 0.4291\n",
      "Epoch [45/45], Training Loss: 0.0003, Training F1 Score: 0.8984\n",
      "Epoch [45/45], Validation Loss: 0.0035, Validation F1 Score: 0.4249\n",
      "Finished Training\n"
     ]
    }
   ],
   "source": [
    "class LSTMTagger(nn.Module):\n",
    "    def __init__(self, input_size, hidden_size, output_size):\n",
    "        super(LSTMTagger, self).__init__()\n",
    "        self.lstm = nn.LSTM(input_size, hidden_size, batch_first=True)\n",
    "        self.fc = nn.Linear(hidden_size, output_size)\n",
    "\n",
    "    def forward(self, x):\n",
    "        out, _ = self.lstm(x)\n",
    "        out = self.fc(out)\n",
    "        return out\n",
    "\n",
    "input_size = 300\n",
    "hidden_size = 256\n",
    "output_size = 100\n",
    "\n",
    "model = LSTMTagger(input_size, hidden_size, output_size) # Move model to GPU if available\n",
    "\n",
    "device = torch.device(\"cuda\" if torch.cuda.is_available() else \"cpu\")\n",
    "model.to(device)\n",
    "\n",
    "criterion = nn.CrossEntropyLoss()\n",
    "optimizer = optim.Adam(model.parameters(), lr=0.001)\n",
    "\n",
    "num_epochs = 45\n",
    "batch_size = 32 \n",
    "\n",
    "texts_tensor = texts_tensor.to(device)\n",
    "labels_tensor = labels_tensor.to(device)\n",
    "val_texts_tensor = test_texts_tensor\n",
    "val_labels_tensor =  test_labels_tensor\n",
    "val_texts_tensor = val_texts_tensor.to(device)\n",
    "val_labels_tensor = val_labels_tensor.to(device)\n",
    "\n",
    "save_loss = 0\n",
    "\n",
    "for epoch in range(num_epochs):\n",
    "    \n",
    "    model.train()  \n",
    "    total_loss=0\n",
    "    train_predictions = []\n",
    "    train_labels = []\n",
    "    for i in range(0, len(texts_tensor), batch_size):\n",
    "        optimizer.zero_grad()\n",
    "        batch_texts = texts_tensor[i:i+batch_size]\n",
    "        batch_labels = labels_tensor[i:i+batch_size].view(-1)\n",
    "        outputs = model(batch_texts)\n",
    "        loss = criterion(outputs.view(-1, output_size), batch_labels)\n",
    "        loss.backward()\n",
    "        optimizer.step()\n",
    "        total_loss+=loss.item()\n",
    "        train_predictions.extend(torch.argmax(outputs, dim=2).flatten().cpu().tolist())\n",
    "        train_labels.extend(batch_labels.cpu().tolist())\n",
    "        \n",
    "    train_f1 = f1_score(train_labels, train_predictions, average='macro')\n",
    "    print(f'Epoch [{epoch+1}/{num_epochs}], Training Loss: {total_loss/len(texts_tensor):.4f}, Training F1 Score: {train_f1:.4f}')\n",
    "    \n",
    "    # Validation\n",
    "    model.eval()  \n",
    "    total_val_loss = 0\n",
    "    val_predictions = []\n",
    "    val_labels = []\n",
    "    \n",
    "    with torch.no_grad():\n",
    "        for i in range(0, len(val_texts_tensor), batch_size):\n",
    "            batch_texts_val = val_texts_tensor[i:i+batch_size]\n",
    "            batch_labels_val = val_labels_tensor[i:i+batch_size].view(-1)\n",
    "            outputs_val = model(batch_texts_val)\n",
    "            val_loss = criterion(outputs_val.view(-1, output_size), batch_labels_val)\n",
    "            total_val_loss += val_loss.item()\n",
    "            val_predictions.extend(torch.argmax(outputs_val, dim=2).flatten().cpu().tolist())\n",
    "            val_labels.extend(batch_labels_val.cpu().tolist())\n",
    "    \n",
    "    val_f1 = f1_score(val_labels, val_predictions, average='macro')\n",
    "    print(f'Epoch [{epoch+1}/{num_epochs}], Validation Loss: {total_val_loss/len(val_texts_tensor):.4f}, Validation F1 Score: {val_f1:.4f}')\n",
    "    if(val_f1>save_loss):\n",
    "        save_loss = val_f1\n",
    "        torch.save(model.state_dict(),'t1_lstm_glove.pt')\n",
    "    log_metric = {\"Epoch\": epoch+1, \"Training Loss\": total_loss/len(texts_tensor), \"Training F1 Score\": train_f1, \"Validation Loss\": total_val_loss/len(val_texts_tensor), \"Validation F1 Score\": val_f1}\n",
    "    wandb.log(log_metric)\n",
    "print(\"Finished Training\")\n",
    "    "
   ]
  },
  {
   "cell_type": "code",
   "execution_count": 12,
   "metadata": {},
   "outputs": [
    {
     "name": "stdout",
     "output_type": "stream",
     "text": [
      "949\n",
      "F1 Score on Test Set: 0.470642313193726\n"
     ]
    }
   ],
   "source": [
    "with open('NER_test.json', 'r') as file:\n",
    "    valset = json.load(file)\n",
    "\n",
    "print(len(valset))\n",
    "max_seq_len = 315\n",
    "\n",
    "word_embeddings = []\n",
    "labels = []\n",
    "\n",
    "for key, value in valset.items():\n",
    "    text = value['text']\n",
    "    label_seq = value['labels']\n",
    "\n",
    "    label_list = list(label_map)  # Store index of each 27 classes created\n",
    "    label_indices = [label_list.index(label) for label in label_seq]\n",
    "    label_indices_padded = label_indices[:max_seq_len] + [0] * (max_seq_len - len(label_indices))\n",
    "    labels.append(label_indices_padded)\n",
    "\n",
    "    vectors = [word2vec_model[word] if word in word2vec_model else np.zeros(300) for word in text]\n",
    "    vectors_padded = [np.pad(vec, (0, 300), constant_values=0)[:300] for vec in vectors]\n",
    "    vectors_padded += [np.zeros(300)] * (max_seq_len - len(vectors_padded))\n",
    "    word_embeddings.append(vectors_padded)\n",
    "\n",
    "word_embeddings_array = np.array(word_embeddings)\n",
    "\n",
    "test_texts_tensor = torch.tensor(word_embeddings_array, dtype=torch.float32)\n",
    "test_labels_tensor = torch.tensor(labels)\n",
    "\n",
    "with torch.no_grad():\n",
    "    model = LSTMTagger(input_size, hidden_size, output_size)\n",
    "    model = model.to(device)\n",
    "    model.load_state_dict(torch.load('t1_lstm_glove.pt'))\n",
    "    test_outputs = model(test_texts_tensor.to(device)) \n",
    "    argmax_indices = torch.argmax(test_outputs, dim=2)\n",
    "    reshaped_tensor = argmax_indices.view(949, 315)\n",
    "    fl_out = reshaped_tensor.flatten()\n",
    "    fl_label = test_labels_tensor.flatten().to(device) \n",
    "    f1 = f1_score(fl_out.cpu(), fl_label.cpu(), average='macro') \n",
    "    print(\"F1 Score on Test Set:\", f1)"
   ]
  },
  {
   "cell_type": "code",
   "execution_count": 13,
   "metadata": {},
   "outputs": [
    {
     "data": {
      "text/html": [
       "Finishing last run (ID:50m8vb50) before initializing another..."
      ],
      "text/plain": [
       "<IPython.core.display.HTML object>"
      ]
     },
     "metadata": {},
     "output_type": "display_data"
    },
    {
     "data": {
      "text/html": [
       "<style>\n",
       "    table.wandb td:nth-child(1) { padding: 0 10px; text-align: left ; width: auto;} td:nth-child(2) {text-align: left ; width: 100%}\n",
       "    .wandb-row { display: flex; flex-direction: row; flex-wrap: wrap; justify-content: flex-start; width: 100% }\n",
       "    .wandb-col { display: flex; flex-direction: column; flex-basis: 100%; flex: 1; padding: 10px; }\n",
       "    </style>\n",
       "<div class=\"wandb-row\"><div class=\"wandb-col\"><h3>Run history:</h3><br/><table class=\"wandb\"><tr><td>Epoch</td><td>▁▁▁▁▂▂▂▂▂▃▃▃▃▃▃▄▄▄▄▄▅▅▅▅▅▅▆▆▆▆▆▆▇▇▇▇▇███</td></tr><tr><td>Training F1 Score</td><td>▁▂▃▃▄▄▄▄▅▅▅▅▅▅▅▅▆▆▆▆▆▆▆▆▆▆▇▇▇▇▇▇▇▇▇▇████</td></tr><tr><td>Training Loss</td><td>█▃▃▂▂▂▂▂▂▂▂▂▂▂▂▂▂▂▂▁▁▁▁▁▁▁▁▁▁▁▁▁▁▁▁▁▁▁▁▁</td></tr><tr><td>Validation F1 Score</td><td>▁▃▄▆▆▆▇▇▇▇▇▇▇▆███▇████████████▇▇▇▇█▇▇▇▇▇</td></tr><tr><td>Validation Loss</td><td>▃▂▂▂▁▁▁▁▁▁▁▁▁▂▁▁▁█▁▁▁▂▂▂▁▂▂▂▂▂▂▂▂▂▂▂▂▃▃▃</td></tr></table><br/></div><div class=\"wandb-col\"><h3>Run summary:</h3><br/><table class=\"wandb\"><tr><td>Epoch</td><td>45</td></tr><tr><td>Training F1 Score</td><td>0.89839</td></tr><tr><td>Training Loss</td><td>0.00031</td></tr><tr><td>Validation F1 Score</td><td>0.42494</td></tr><tr><td>Validation Loss</td><td>0.00345</td></tr></table><br/></div></div>"
      ],
      "text/plain": [
       "<IPython.core.display.HTML object>"
      ]
     },
     "metadata": {},
     "output_type": "display_data"
    },
    {
     "data": {
      "text/html": [
       " View run <strong style=\"color:#cdcd00\">LSTM_Glove</strong> at: <a href='https://wandb.ai/yuhuhu/nlp_ass2/runs/50m8vb50' target=\"_blank\">https://wandb.ai/yuhuhu/nlp_ass2/runs/50m8vb50</a><br/>Synced 6 W&B file(s), 0 media file(s), 0 artifact file(s) and 0 other file(s)"
      ],
      "text/plain": [
       "<IPython.core.display.HTML object>"
      ]
     },
     "metadata": {},
     "output_type": "display_data"
    },
    {
     "data": {
      "text/html": [
       "Find logs at: <code>./wandb/run-20240311_230324-50m8vb50/logs</code>"
      ],
      "text/plain": [
       "<IPython.core.display.HTML object>"
      ]
     },
     "metadata": {},
     "output_type": "display_data"
    },
    {
     "data": {
      "text/html": [
       "Successfully finished last run (ID:50m8vb50). Initializing new run:<br/>"
      ],
      "text/plain": [
       "<IPython.core.display.HTML object>"
      ]
     },
     "metadata": {},
     "output_type": "display_data"
    },
    {
     "data": {
      "text/html": [
       "Tracking run with wandb version 0.16.4"
      ],
      "text/plain": [
       "<IPython.core.display.HTML object>"
      ]
     },
     "metadata": {},
     "output_type": "display_data"
    },
    {
     "data": {
      "text/html": [
       "Run data is saved locally in <code>/home/hiddenmist/Aman_Lakshay/DL_Ass/NLP_TEMP/NLP_Final/wandb/run-20240311_230634-vmd6x0cf</code>"
      ],
      "text/plain": [
       "<IPython.core.display.HTML object>"
      ]
     },
     "metadata": {},
     "output_type": "display_data"
    },
    {
     "data": {
      "text/html": [
       "Syncing run <strong><a href='https://wandb.ai/yuhuhu/nlp_ass2/runs/vmd6x0cf' target=\"_blank\">GRU_Glove</a></strong> to <a href='https://wandb.ai/yuhuhu/nlp_ass2' target=\"_blank\">Weights & Biases</a> (<a href='https://wandb.me/run' target=\"_blank\">docs</a>)<br/>"
      ],
      "text/plain": [
       "<IPython.core.display.HTML object>"
      ]
     },
     "metadata": {},
     "output_type": "display_data"
    },
    {
     "data": {
      "text/html": [
       " View project at <a href='https://wandb.ai/yuhuhu/nlp_ass2' target=\"_blank\">https://wandb.ai/yuhuhu/nlp_ass2</a>"
      ],
      "text/plain": [
       "<IPython.core.display.HTML object>"
      ]
     },
     "metadata": {},
     "output_type": "display_data"
    },
    {
     "data": {
      "text/html": [
       " View run at <a href='https://wandb.ai/yuhuhu/nlp_ass2/runs/vmd6x0cf' target=\"_blank\">https://wandb.ai/yuhuhu/nlp_ass2/runs/vmd6x0cf</a>"
      ],
      "text/plain": [
       "<IPython.core.display.HTML object>"
      ]
     },
     "metadata": {},
     "output_type": "display_data"
    },
    {
     "data": {
      "text/html": [
       "<button onClick=\"this.nextSibling.style.display='block';this.style.display='none';\">Display W&B run</button><iframe src='https://wandb.ai/yuhuhu/nlp_ass2/runs/vmd6x0cf?jupyter=true' style='border:none;width:100%;height:420px;display:none;'></iframe>"
      ],
      "text/plain": [
       "<wandb.sdk.wandb_run.Run at 0x7fbae6f22350>"
      ]
     },
     "execution_count": 13,
     "metadata": {},
     "output_type": "execute_result"
    }
   ],
   "source": [
    "wandb.init(\n",
    "    project=\"nlp_ass2\", \n",
    "    name=f\"GRU_Glove\"\n",
    ")"
   ]
  },
  {
   "cell_type": "code",
   "execution_count": 14,
   "metadata": {},
   "outputs": [
    {
     "name": "stdout",
     "output_type": "stream",
     "text": [
      "Epoch [1/45], Training Loss: 0.0076, Training F1 Score: 0.0807\n",
      "Epoch [1/45], Validation Loss: 0.0033, Validation F1 Score: 0.0949\n",
      "Epoch [2/45], Training Loss: 0.0027, Training F1 Score: 0.1595\n",
      "Epoch [2/45], Validation Loss: 0.0024, Validation F1 Score: 0.2471\n",
      "Epoch [3/45], Training Loss: 0.0021, Training F1 Score: 0.2483\n",
      "Epoch [3/45], Validation Loss: 0.0020, Validation F1 Score: 0.2811\n",
      "Epoch [4/45], Training Loss: 0.0019, Training F1 Score: 0.2869\n",
      "Epoch [4/45], Validation Loss: 0.0019, Validation F1 Score: 0.2964\n",
      "Epoch [5/45], Training Loss: 0.0018, Training F1 Score: 0.3127\n",
      "Epoch [5/45], Validation Loss: 0.0018, Validation F1 Score: 0.3183\n",
      "Epoch [6/45], Training Loss: 0.0017, Training F1 Score: 0.3352\n",
      "Epoch [6/45], Validation Loss: 0.0018, Validation F1 Score: 0.3447\n",
      "Epoch [7/45], Training Loss: 0.0016, Training F1 Score: 0.3685\n",
      "Epoch [7/45], Validation Loss: 0.0018, Validation F1 Score: 0.3582\n",
      "Epoch [8/45], Training Loss: 0.0015, Training F1 Score: 0.4005\n",
      "Epoch [8/45], Validation Loss: 0.0020, Validation F1 Score: 0.3498\n",
      "Epoch [9/45], Training Loss: 0.0015, Training F1 Score: 0.4168\n",
      "Epoch [9/45], Validation Loss: 0.0019, Validation F1 Score: 0.3911\n",
      "Epoch [10/45], Training Loss: 0.0014, Training F1 Score: 0.4463\n",
      "Epoch [10/45], Validation Loss: 0.0019, Validation F1 Score: 0.4112\n",
      "Epoch [11/45], Training Loss: 0.0013, Training F1 Score: 0.4680\n",
      "Epoch [11/45], Validation Loss: 0.0020, Validation F1 Score: 0.4033\n",
      "Epoch [12/45], Training Loss: 0.0012, Training F1 Score: 0.4948\n",
      "Epoch [12/45], Validation Loss: 0.0020, Validation F1 Score: 0.4284\n",
      "Epoch [13/45], Training Loss: 0.0012, Training F1 Score: 0.5124\n",
      "Epoch [13/45], Validation Loss: 0.0020, Validation F1 Score: 0.4311\n",
      "Epoch [14/45], Training Loss: 0.0011, Training F1 Score: 0.5326\n",
      "Epoch [14/45], Validation Loss: 0.0020, Validation F1 Score: 0.4460\n",
      "Epoch [15/45], Training Loss: 0.0011, Training F1 Score: 0.5523\n",
      "Epoch [15/45], Validation Loss: 0.0021, Validation F1 Score: 0.4387\n",
      "Epoch [16/45], Training Loss: 0.0010, Training F1 Score: 0.5685\n",
      "Epoch [16/45], Validation Loss: 0.0021, Validation F1 Score: 0.4357\n",
      "Epoch [17/45], Training Loss: 0.0010, Training F1 Score: 0.5912\n",
      "Epoch [17/45], Validation Loss: 0.0023, Validation F1 Score: 0.4023\n",
      "Epoch [18/45], Training Loss: 0.0010, Training F1 Score: 0.5907\n",
      "Epoch [18/45], Validation Loss: 0.0021, Validation F1 Score: 0.4542\n",
      "Epoch [19/45], Training Loss: 0.0009, Training F1 Score: 0.6335\n",
      "Epoch [19/45], Validation Loss: 0.0023, Validation F1 Score: 0.4491\n",
      "Epoch [20/45], Training Loss: 0.0008, Training F1 Score: 0.6593\n",
      "Epoch [20/45], Validation Loss: 0.0024, Validation F1 Score: 0.4391\n",
      "Epoch [21/45], Training Loss: 0.0008, Training F1 Score: 0.6811\n",
      "Epoch [21/45], Validation Loss: 0.0025, Validation F1 Score: 0.4382\n",
      "Epoch [22/45], Training Loss: 0.0007, Training F1 Score: 0.7000\n",
      "Epoch [22/45], Validation Loss: 0.0026, Validation F1 Score: 0.4370\n",
      "Epoch [23/45], Training Loss: 0.0007, Training F1 Score: 0.7080\n",
      "Epoch [23/45], Validation Loss: 0.0027, Validation F1 Score: 0.4333\n",
      "Epoch [24/45], Training Loss: 0.0007, Training F1 Score: 0.7246\n",
      "Epoch [24/45], Validation Loss: 0.0027, Validation F1 Score: 0.4468\n",
      "Epoch [25/45], Training Loss: 0.0007, Training F1 Score: 0.7358\n",
      "Epoch [25/45], Validation Loss: 0.0026, Validation F1 Score: 0.4389\n",
      "Epoch [26/45], Training Loss: 0.0007, Training F1 Score: 0.7409\n",
      "Epoch [26/45], Validation Loss: 0.0027, Validation F1 Score: 0.4437\n",
      "Epoch [27/45], Training Loss: 0.0006, Training F1 Score: 0.7552\n",
      "Epoch [27/45], Validation Loss: 0.0029, Validation F1 Score: 0.4459\n",
      "Epoch [28/45], Training Loss: 0.0006, Training F1 Score: 0.7680\n",
      "Epoch [28/45], Validation Loss: 0.0034, Validation F1 Score: 0.4219\n",
      "Epoch [29/45], Training Loss: 0.0006, Training F1 Score: 0.7844\n",
      "Epoch [29/45], Validation Loss: 0.0035, Validation F1 Score: 0.4250\n",
      "Epoch [30/45], Training Loss: 0.0006, Training F1 Score: 0.7881\n",
      "Epoch [30/45], Validation Loss: 0.0033, Validation F1 Score: 0.4421\n",
      "Epoch [31/45], Training Loss: 0.0005, Training F1 Score: 0.7968\n",
      "Epoch [31/45], Validation Loss: 0.0035, Validation F1 Score: 0.4337\n",
      "Epoch [32/45], Training Loss: 0.0005, Training F1 Score: 0.8121\n",
      "Epoch [32/45], Validation Loss: 0.0035, Validation F1 Score: 0.4479\n",
      "Epoch [33/45], Training Loss: 0.0005, Training F1 Score: 0.8253\n",
      "Epoch [33/45], Validation Loss: 0.0036, Validation F1 Score: 0.4411\n",
      "Epoch [34/45], Training Loss: 0.0004, Training F1 Score: 0.8351\n",
      "Epoch [34/45], Validation Loss: 0.0034, Validation F1 Score: 0.4496\n",
      "Epoch [35/45], Training Loss: 0.0004, Training F1 Score: 0.8379\n",
      "Epoch [35/45], Validation Loss: 0.0035, Validation F1 Score: 0.4516\n",
      "Epoch [36/45], Training Loss: 0.0004, Training F1 Score: 0.8448\n",
      "Epoch [36/45], Validation Loss: 0.0035, Validation F1 Score: 0.4446\n",
      "Epoch [37/45], Training Loss: 0.0004, Training F1 Score: 0.8461\n",
      "Epoch [37/45], Validation Loss: 0.0036, Validation F1 Score: 0.4485\n",
      "Epoch [38/45], Training Loss: 0.0004, Training F1 Score: 0.8486\n",
      "Epoch [38/45], Validation Loss: 0.0036, Validation F1 Score: 0.4363\n",
      "Epoch [39/45], Training Loss: 0.0004, Training F1 Score: 0.8543\n",
      "Epoch [39/45], Validation Loss: 0.0038, Validation F1 Score: 0.4448\n",
      "Epoch [40/45], Training Loss: 0.0004, Training F1 Score: 0.8590\n",
      "Epoch [40/45], Validation Loss: 0.0041, Validation F1 Score: 0.4537\n",
      "Epoch [41/45], Training Loss: 0.0004, Training F1 Score: 0.8595\n",
      "Epoch [41/45], Validation Loss: 0.0038, Validation F1 Score: 0.4445\n",
      "Epoch [42/45], Training Loss: 0.0004, Training F1 Score: 0.8663\n",
      "Epoch [42/45], Validation Loss: 0.0039, Validation F1 Score: 0.4344\n",
      "Epoch [43/45], Training Loss: 0.0004, Training F1 Score: 0.8749\n",
      "Epoch [43/45], Validation Loss: 0.0039, Validation F1 Score: 0.4485\n",
      "Epoch [44/45], Training Loss: 0.0003, Training F1 Score: 0.8793\n",
      "Epoch [44/45], Validation Loss: 0.0040, Validation F1 Score: 0.4433\n",
      "Epoch [45/45], Training Loss: 0.0003, Training F1 Score: 0.8837\n",
      "Epoch [45/45], Validation Loss: 0.0043, Validation F1 Score: 0.4294\n",
      "Finished Training\n"
     ]
    }
   ],
   "source": [
    "class GRUTagger(nn.Module):\n",
    "    def __init__(self, input_size, hidden_size, output_size):\n",
    "        super(GRUTagger, self).__init__()\n",
    "        self.gru = nn.GRU(input_size, hidden_size, batch_first=True)\n",
    "        self.gru1 = nn.GRU(hidden_size, hidden_size, batch_first=True)\n",
    "        self.fc1 = nn.Linear(hidden_size, output_size)\n",
    "        self.dropout = nn.Dropout(0.5) \n",
    "\n",
    "    def forward(self, x):\n",
    "        out, _ = self.gru(x)\n",
    "        out = torch.relu(out)\n",
    "        out, _ = self.gru1(out)\n",
    "        out = torch.relu(out)\n",
    "        out = self.dropout(out)  \n",
    "        out = self.fc1(out)\n",
    "        return out\n",
    "    \n",
    "input_size = 300\n",
    "hidden_size = 256\n",
    "output_size = 27\n",
    "\n",
    "model = GRUTagger(input_size, hidden_size, output_size)\n",
    "\n",
    "device = torch.device(\"cuda\" if torch.cuda.is_available() else \"cpu\")\n",
    "model.to(device)\n",
    "\n",
    "criterion = nn.CrossEntropyLoss()\n",
    "optimizer = optim.Adam(model.parameters(), lr=0.001)\n",
    "\n",
    "num_epochs = 45\n",
    "batch_size = 32 \n",
    "\n",
    "texts_tensor = texts_tensor.to(device)\n",
    "labels_tensor = labels_tensor.to(device)\n",
    "val_texts_tensor = test_texts_tensor\n",
    "val_labels_tensor =  test_labels_tensor\n",
    "val_texts_tensor = val_texts_tensor.to(device)\n",
    "val_labels_tensor = val_labels_tensor.to(device)\n",
    "\n",
    "save_loss = 0\n",
    "\n",
    "for epoch in range(num_epochs):\n",
    "    \n",
    "    model.train()  \n",
    "    total_loss=0\n",
    "    train_predictions = []\n",
    "    train_labels = []\n",
    "    for i in range(0, len(texts_tensor), batch_size):\n",
    "        optimizer.zero_grad()\n",
    "        batch_texts = texts_tensor[i:i+batch_size]\n",
    "        batch_labels = labels_tensor[i:i+batch_size].view(-1)\n",
    "        outputs = model(batch_texts)\n",
    "        loss = criterion(outputs.view(-1, output_size), batch_labels)\n",
    "        loss.backward()\n",
    "        optimizer.step()\n",
    "        total_loss+=loss.item()\n",
    "        train_predictions.extend(torch.argmax(outputs, dim=2).flatten().cpu().tolist())\n",
    "        train_labels.extend(batch_labels.cpu().tolist())\n",
    "        \n",
    "    train_f1 = f1_score(train_labels, train_predictions, average='macro')\n",
    "    print(f'Epoch [{epoch+1}/{num_epochs}], Training Loss: {total_loss/len(texts_tensor):.4f}, Training F1 Score: {train_f1:.4f}')\n",
    "    \n",
    "    # Validation\n",
    "    model.eval()  \n",
    "    total_val_loss = 0\n",
    "    val_predictions = []\n",
    "    val_labels = []\n",
    "    \n",
    "    with torch.no_grad():\n",
    "        for i in range(0, len(val_texts_tensor), batch_size):\n",
    "            batch_texts_val = val_texts_tensor[i:i+batch_size]\n",
    "            batch_labels_val = val_labels_tensor[i:i+batch_size].view(-1)\n",
    "            outputs_val = model(batch_texts_val)\n",
    "            val_loss = criterion(outputs_val.view(-1, output_size), batch_labels_val)\n",
    "            total_val_loss += val_loss.item()\n",
    "            val_predictions.extend(torch.argmax(outputs_val, dim=2).flatten().cpu().tolist())\n",
    "            val_labels.extend(batch_labels_val.cpu().tolist())\n",
    "    \n",
    "    val_f1 = f1_score(val_labels, val_predictions, average='macro')\n",
    "    print(f'Epoch [{epoch+1}/{num_epochs}], Validation Loss: {total_val_loss/len(val_texts_tensor):.4f}, Validation F1 Score: {val_f1:.4f}')\n",
    "    if(val_f1>save_loss):\n",
    "        save_loss = val_f1\n",
    "        torch.save(model.state_dict(),'t1_gru_glove.pt')\n",
    "    log_metric = {\"Epoch\": epoch+1, \"Training Loss\": total_loss/len(texts_tensor), \"Training F1 Score\": train_f1, \"Validation Loss\": total_val_loss/len(val_texts_tensor), \"Validation F1 Score\": val_f1}\n",
    "    wandb.log(log_metric)\n",
    "print(\"Finished Training\")\n",
    "    "
   ]
  },
  {
   "cell_type": "code",
   "execution_count": 15,
   "metadata": {},
   "outputs": [
    {
     "name": "stdout",
     "output_type": "stream",
     "text": [
      "949\n",
      "F1 Score on Test Set: 0.45154208564936593\n"
     ]
    }
   ],
   "source": [
    "with open('NER_test.json', 'r') as file:\n",
    "    valset = json.load(file)\n",
    "\n",
    "print(len(valset))\n",
    "max_seq_len = 315\n",
    "\n",
    "word_embeddings = []\n",
    "labels = []\n",
    "\n",
    "for key, value in valset.items():\n",
    "    text = value['text']\n",
    "    label_seq = value['labels']\n",
    "\n",
    "    label_list = list(label_map)  # Store index of each 27 classes created\n",
    "    label_indices = [label_list.index(label) for label in label_seq]\n",
    "    label_indices_padded = label_indices[:max_seq_len] + [0] * (max_seq_len - len(label_indices))\n",
    "    labels.append(label_indices_padded)\n",
    "\n",
    "    vectors = [word2vec_model[word] if word in word2vec_model else np.zeros(300) for word in text]\n",
    "    vectors_padded = [np.pad(vec, (0, 300), constant_values=0)[:300] for vec in vectors]\n",
    "    vectors_padded += [np.zeros(300)] * (max_seq_len - len(vectors_padded))\n",
    "    word_embeddings.append(vectors_padded)\n",
    "\n",
    "word_embeddings_array = np.array(word_embeddings)\n",
    "\n",
    "test_texts_tensor = torch.tensor(word_embeddings_array, dtype=torch.float32)\n",
    "test_labels_tensor = torch.tensor(labels)\n",
    "\n",
    "with torch.no_grad():\n",
    "    model = GRUTagger(input_size, hidden_size, output_size)\n",
    "    model = model.to(device)\n",
    "    model.load_state_dict(torch.load('t1_gru_glove.pt'))\n",
    "    test_outputs = model(test_texts_tensor.to(device)) \n",
    "    argmax_indices = torch.argmax(test_outputs, dim=2)\n",
    "    reshaped_tensor = argmax_indices.view(949, 315)\n",
    "    fl_out = reshaped_tensor.flatten()\n",
    "    fl_label = test_labels_tensor.flatten().to(device) \n",
    "    f1 = f1_score(fl_out.cpu(), fl_label.cpu(), average='macro') \n",
    "    print(\"F1 Score on Test Set:\", f1)"
   ]
  }
 ],
 "metadata": {
  "kernelspec": {
   "display_name": "CROSSCAPS",
   "language": "python",
   "name": "python3"
  },
  "language_info": {
   "codemirror_mode": {
    "name": "ipython",
    "version": 3
   },
   "file_extension": ".py",
   "mimetype": "text/x-python",
   "name": "python",
   "nbconvert_exporter": "python",
   "pygments_lexer": "ipython3",
   "version": "3.11.7"
  },
  "orig_nbformat": 4,
  "vscode": {
   "interpreter": {
    "hash": "85ee25f3913e79dfaf73cc9743a698525d72dde364ea63726e0c3f70211b2c45"
   }
  }
 },
 "nbformat": 4,
 "nbformat_minor": 2
}
