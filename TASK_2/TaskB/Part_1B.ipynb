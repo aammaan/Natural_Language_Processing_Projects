{
 "cells": [
  {
   "cell_type": "code",
   "execution_count": 1,
   "metadata": {},
   "outputs": [],
   "source": [
    "import json\n",
    "from sklearn.model_selection import train_test_split"
   ]
  },
  {
   "cell_type": "code",
   "execution_count": 12,
   "metadata": {},
   "outputs": [
    {
     "name": "stdout",
     "output_type": "stream",
     "text": [
      "78\n"
     ]
    }
   ],
   "source": [
    "with open('Laptop_Review_Train.json') as f:\n",
    "    data = json.load(f)\n",
    "\n",
    "clean_data = {}\n",
    "label_map=set()\n",
    "label_map.add('O')\n",
    "global max_seq_len\n",
    "max_seq_len=0\n",
    "\n",
    "for idx, entry in enumerate(data):\n",
    "    tokens = entry['words']\n",
    "    token_label = ['O']*len(tokens)\n",
    "    max_seq_len=max(max_seq_len,len(tokens))\n",
    "    result_list = entry['aspects']\n",
    "    for val in result_list:\n",
    "        si = val['from']\n",
    "        fi = val['to']\n",
    "        token_label[si] = 'B'\n",
    "        for i in range(si+1,fi):\n",
    "            token_label[i] = 'I'\n",
    "    clean_data[idx] = {}\n",
    "    clean_data[idx]['text'] = tokens\n",
    "    clean_data[idx]['labels'] = token_label\n",
    "print(max_seq_len)\n",
    "\n",
    "with open('ATE_train.json', 'w') as f:\n",
    "    json.dump(clean_data, f, indent=4)\n"
   ]
  },
  {
   "cell_type": "code",
   "execution_count": 13,
   "metadata": {},
   "outputs": [
    {
     "name": "stdout",
     "output_type": "stream",
     "text": [
      "83\n"
     ]
    }
   ],
   "source": [
    "with open('Laptop_Review_Val.json') as f:\n",
    "    data = json.load(f)\n",
    "\n",
    "clean_data = {}\n",
    "label_map=set()\n",
    "label_map.add('O')\n",
    "global max_seq_len\n",
    "max_seq_len=0\n",
    "\n",
    "for idx, entry in enumerate(data):\n",
    "    tokens = entry['words']\n",
    "    token_label = ['O']*len(tokens)\n",
    "    max_seq_len=max(max_seq_len,len(tokens))\n",
    "    result_list = entry['aspects']\n",
    "    for val in result_list:\n",
    "        si = val['from']\n",
    "        fi = val['to']\n",
    "        token_label[si] = 'B'\n",
    "        for i in range(si+1,fi):\n",
    "            token_label[i] = 'I'\n",
    "    clean_data[idx] = {}\n",
    "    clean_data[idx]['text'] = tokens\n",
    "    clean_data[idx]['labels'] = token_label\n",
    "print(max_seq_len)\n",
    "\n",
    "with open('ATE_val.json', 'w') as f:\n",
    "    json.dump(clean_data, f, indent=4)\n"
   ]
  },
  {
   "cell_type": "code",
   "execution_count": 14,
   "metadata": {},
   "outputs": [
    {
     "name": "stdout",
     "output_type": "stream",
     "text": [
      "71\n"
     ]
    }
   ],
   "source": [
    "with open('Laptop_Review_Test.json') as f:\n",
    "    data = json.load(f)\n",
    "\n",
    "clean_data = {}\n",
    "label_map=set()\n",
    "label_map.add('O')\n",
    "global max_seq_len\n",
    "max_seq_len=0\n",
    "\n",
    "for idx, entry in enumerate(data):\n",
    "    tokens = entry['words']\n",
    "    token_label = ['O']*len(tokens)\n",
    "    max_seq_len=max(max_seq_len,len(tokens))\n",
    "    result_list = entry['aspects']\n",
    "    for val in result_list:\n",
    "        si = val['from']\n",
    "        fi = val['to']\n",
    "        token_label[si] = 'B'\n",
    "        for i in range(si+1,fi):\n",
    "            token_label[i] = 'I'\n",
    "    clean_data[idx] = {}\n",
    "    clean_data[idx]['text'] = tokens\n",
    "    clean_data[idx]['labels'] = token_label\n",
    "print(max_seq_len)\n",
    "\n",
    "with open('ATE_test.json', 'w') as f:\n",
    "    json.dump(clean_data, f, indent=4)\n"
   ]
  }
 ],
 "metadata": {
  "kernelspec": {
   "display_name": "CROSSCAPS",
   "language": "python",
   "name": "python3"
  },
  "language_info": {
   "codemirror_mode": {
    "name": "ipython",
    "version": 3
   },
   "file_extension": ".py",
   "mimetype": "text/x-python",
   "name": "python",
   "nbconvert_exporter": "python",
   "pygments_lexer": "ipython3",
   "version": "3.10.13"
  },
  "orig_nbformat": 4,
  "vscode": {
   "interpreter": {
    "hash": "85ee25f3913e79dfaf73cc9743a698525d72dde364ea63726e0c3f70211b2c45"
   }
  }
 },
 "nbformat": 4,
 "nbformat_minor": 2
}
