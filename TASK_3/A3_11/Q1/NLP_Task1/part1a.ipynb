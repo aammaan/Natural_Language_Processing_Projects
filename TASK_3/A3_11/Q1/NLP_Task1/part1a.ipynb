{
  "cells": [
    {
      "cell_type": "code",
      "execution_count": 2,
      "metadata": {},
      "outputs": [],
      "source": [
        "import pandas as pd\n",
        "import torch\n",
        "\n",
        "from scipy.stats import pearsonr\n",
        "from torch.utils.data import Dataset, DataLoader\n",
        "from transformers import BertTokenizer, BertModel, AdamW, BertForSequenceClassification\n",
        "from sklearn.metrics import mean_squared_error\n",
        "from torch import nn\n",
        "import warnings\n",
        "warnings.filterwarnings('ignore')\n",
        "import csv"
      ]
    },
    {
      "cell_type": "code",
      "execution_count": 3,
      "metadata": {},
      "outputs": [],
      "source": [
        "device = torch.device(\"cuda\" if torch.cuda.is_available() else \"cpu\")"
      ]
    },
    {
      "cell_type": "code",
      "execution_count": 4,
      "metadata": {},
      "outputs": [],
      "source": [
        "def prepare_dataset(file):\n",
        "    train = []\n",
        "    with open(file, mode ='r')as file:\n",
        "        csvFile = csv.reader(file)\n",
        "        ctr = 0\n",
        "        for l in csvFile:\n",
        "            if (ctr == 0):\n",
        "                ctr = 1\n",
        "                continue\n",
        "            \n",
        "            lines = ''.join(l).strip(\"\\t\").split(\"\\t\")\n",
        "            if(len(lines)!=3):\n",
        "                continue\n",
        "            train.append({\n",
        "                \"score\": float(lines[0].strip('\"')),\n",
        "                \"sentence1\": lines[1].strip('\"'),\n",
        "                \"sentence2\": lines[2].strip('\"')\n",
        "            })\n",
        "            \n",
        "    return train\n",
        "\n",
        "train = prepare_dataset(\"train.csv\")\n",
        "val = prepare_dataset(\"dev.csv\")"
      ]
    },
    {
      "cell_type": "code",
      "execution_count": 5,
      "metadata": {},
      "outputs": [],
      "source": [
        "class TextSimilarityDataset(Dataset):\n",
        "    \n",
        "    def __init__(self, data, max_length):\n",
        "        self.data = data\n",
        "        self.tokenizer = BertTokenizer.from_pretrained('google-bert/bert-base-uncased')\n",
        "        self.max_length = max_length\n",
        "\n",
        "    def __len__(self):\n",
        "        return len(self.data)\n",
        "\n",
        "    def __getitem__(self, idx):\n",
        "        sen1 = self.data[idx]['sentence1']\n",
        "        sen2 = self.data[idx]['sentence2']\n",
        "        score = torch.tensor(self.data[idx][\"score\"])\n",
        "\n",
        "        encoding = self.tokenizer(sen1, sen2, padding=\"max_length\", truncation=True, max_length=128, return_tensors='pt')\n",
        "        return {\n",
        "            \"input_ids\": encoding[\"input_ids\"].squeeze(),\n",
        "            \"attention_mask\": encoding[\"attention_mask\"].squeeze(),\n",
        "            \"score\": score\n",
        "        }\n",
        "\n"
      ]
    },
    {
      "cell_type": "code",
      "execution_count": 6,
      "metadata": {},
      "outputs": [],
      "source": [
        "\n",
        "class CustomModel(nn.Module):\n",
        "    def __init__(self):\n",
        "        super(CustomModel, self).__init__()\n",
        "        self.model = BertModel.from_pretrained('google-bert/bert-base-uncased')\n",
        "        self.fc = nn.Linear(self.model.config.hidden_size, 1)\n",
        "        self.activate = nn.Tanh()\n",
        "    \n",
        "    def forward(self, input_ids, attention_mask):\n",
        "        _, output = self.model(input_ids, attention_mask, return_dict=False)\n",
        "        x = self.fc(output)\n",
        "        x = self.activate(x)\n",
        "        x = ((x+1)/2) * 5\n",
        "        return x"
      ]
    },
    {
      "cell_type": "code",
      "execution_count": 7,
      "metadata": {},
      "outputs": [],
      "source": [
        "# create a dataset class and dataloader\n",
        "\n",
        "train_dataset = TextSimilarityDataset(train, 128)\n",
        "train_loader = DataLoader(train_dataset, batch_size=16, shuffle=True)\n",
        "\n",
        "# val dataset and dataloader\n",
        "eval_dataset = TextSimilarityDataset(val, 128)\n",
        "eval_loader = DataLoader(eval_dataset, batch_size=16, shuffle=True)"
      ]
    },
    {
      "cell_type": "code",
      "execution_count": 8,
      "metadata": {},
      "outputs": [],
      "source": [
        "model = CustomModel()\n",
        "model.to(device)\n",
        "\n",
        "loss = nn.MSELoss()\n",
        "optimizer = AdamW(model.parameters(), lr=1e-6)"
      ]
    },
    {
      "cell_type": "code",
      "execution_count": 9,
      "metadata": {},
      "outputs": [
        {
          "name": "stdout",
          "output_type": "stream",
          "text": [
            "Epoch 1/5 : Train Loss : 1.8449836358302782 Val Loss : 1.829118250490545\n",
            "Epoch 2/5 : Train Loss : 1.1910091964971452 Val Loss : 1.321759397839452\n",
            "Epoch 3/5 : Train Loss : 0.9114677503245885 Val Loss : 1.0878443054772995\n",
            "Epoch 4/5 : Train Loss : 0.7688319354164166 Val Loss : 1.0483927864294786\n",
            "Epoch 5/5 : Train Loss : 0.7112584042281997 Val Loss : 0.949855122264925\n"
          ]
        }
      ],
      "source": [
        "# write a code to train the model and compute the training loss and validation loss at every epoch and store them so that I can plot it in future using matplotlib\n",
        "\n",
        "Epoch = 5\n",
        "train_plot_loss = []\n",
        "val_plot_loss = []\n",
        "\n",
        "\n",
        "\n",
        "for epoch in range(Epoch):\n",
        "    \n",
        "    loss_train, loss_val = 0.0, 0.0\n",
        "    \n",
        "    model.train()\n",
        "    \n",
        "    for idx, batch in enumerate(train_loader):\n",
        "        \n",
        "        input_ids = batch['input_ids'].to(device)\n",
        "\n",
        "        attention_mask = batch['attention_mask'].to(device)\n",
        "        score = batch['score']\n",
        "        \n",
        "        optimizer.zero_grad()\n",
        "        \n",
        "        output = model(input_ids, attention_mask).cpu()\n",
        "        \n",
        "        l = loss(output.squeeze(), score)\n",
        "        loss_train += l.item()\n",
        "        \n",
        "        l.backward()\n",
        "        optimizer.step()\n",
        "        \n",
        "    model.eval()\n",
        "    with torch.no_grad():\n",
        "        for idx, batch in enumerate(eval_loader):\n",
        "                \n",
        "            input_ids = batch['input_ids'].to(device)\n",
        "            attention_mask = batch['attention_mask'].to(device)\n",
        "            score = batch['score']\n",
        "            \n",
        "            output = model(input_ids, attention_mask).cpu()\n",
        "            \n",
        "            l = loss(output.squeeze(), score)\n",
        "            loss_val += l.item()\n",
        "            \n",
        "    train_plot_loss.append(loss_train/len(train_loader))\n",
        "    val_plot_loss.append(loss_val/len(eval_loader))\n",
        "            \n",
        "    print(f\"Epoch {epoch+1}/{Epoch} : Train Loss : {loss_train/len(train_loader)} Val Loss : {loss_val/len(eval_loader)}\")\n"
      ]
    },
    {
      "cell_type": "code",
      "execution_count": 10,
      "metadata": {},
      "outputs": [],
      "source": [
        "torch.save(model, 'model_1a.pth')"
      ]
    },
    {
      "cell_type": "code",
      "execution_count": 11,
      "metadata": {},
      "outputs": [
        {
          "name": "stdout",
          "output_type": "stream",
          "text": [
            "Pearson Correlation Coefficient : 0.7821289775277269\n"
          ]
        }
      ],
      "source": [
        "model = torch.load('model_1a.pth')\n",
        "\n",
        "\n",
        "model.eval()\n",
        "\n",
        "pred = []\n",
        "gt = []\n",
        "\n",
        "with torch.no_grad():\n",
        "    for batch in eval_loader:\n",
        "        \n",
        "        input_ids = batch['input_ids'].to(device)\n",
        "        attention_mask = batch['attention_mask'].to(device)\n",
        "        score = batch['score'].to(device)\n",
        "        \n",
        "        output = model(input_ids, attention_mask)\n",
        "        pred.extend(output.squeeze().tolist())\n",
        "        gt.extend(score.tolist())\n",
        "        \n",
        "        \n",
        "# caluclate the pcc for eval set\n",
        "print(f\"Pearson Correlation Coefficient : {pearsonr(pred, gt)[0]}\")\n",
        "        "
      ]
    },
    {
      "cell_type": "code",
      "execution_count": 12,
      "metadata": {},
      "outputs": [
        {
          "data": {
            "image/png": "[encoded data removed]",
            "text/plain": [
              "<Figure size 640x480 with 1 Axes>"
            ]
          },
          "metadata": {},
          "output_type": "display_data"
        }
      ],
      "source": [
        "import matplotlib.pyplot as plt\n",
        "\n",
        "plt.plot(train_plot_loss, label='Train Loss')\n",
        "plt.plot(val_plot_loss, label='Validation Loss')\n",
        "plt.legend()\n",
        "plt.show()"
      ]
    },
    {
      "cell_type": "code",
      "execution_count": 14,
      "metadata": {},
      "outputs": [],
      "source": [
        "torch.save(model,\"model_1a.pth\")"
      ]
    }
  ],
  "metadata": {
    "colab": {
      "provenance": []
    },
    "kernelspec": {
      "display_name": "Python 3",
      "name": "python3"
    },
    "language_info": {
      "codemirror_mode": {
        "name": "ipython",
        "version": 3
      },
      "file_extension": ".py",
      "mimetype": "text/x-python",
      "name": "python",
      "nbconvert_exporter": "python",
      "pygments_lexer": "ipython3",
      "version": "3.11.7"
    }
  },
  "nbformat": 4,
  "nbformat_minor": 0
}
