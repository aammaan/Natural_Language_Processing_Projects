{
 "cells": [
  {
   "cell_type": "code",
   "execution_count": 28,
   "metadata": {},
   "outputs": [],
   "source": [
    "import csv\n",
    "from torch.utils.data import Dataset\n",
    "from torch.utils.data import DataLoader\n",
    "import torch.nn as nn\n",
    "import torch\n",
    "from sentence_transformers.readers import InputExample\n",
    "from sentence_transformers import SentenceTransformer, losses\n",
    "from scipy.stats import pearsonr"
   ]
  },
  {
   "cell_type": "markdown",
   "metadata": {},
   "source": [
    "!pip "
   ]
  },
  {
   "cell_type": "code",
   "execution_count": 11,
   "metadata": {},
   "outputs": [
    {
     "data": {
      "text/plain": [
       "0       5.00\n",
       "1       4.75\n",
       "2       5.00\n",
       "3       2.40\n",
       "4       2.75\n",
       "        ... \n",
       "1465    2.00\n",
       "1466    0.00\n",
       "1467    2.00\n",
       "1468    0.00\n",
       "1469    0.00\n",
       "Name: score, Length: 1470, dtype: float64"
      ]
     },
     "execution_count": 11,
     "metadata": {},
     "output_type": "execute_result"
    }
   ],
   "source": [
    "import pandas as pd\n",
    "df = pd.read_csv('dev.csv', sep='\\t', on_bad_lines='skip')\n"
   ]
  },
  {
   "cell_type": "code",
   "execution_count": 14,
   "metadata": {},
   "outputs": [],
   "source": [
    "lst = []\n",
    "for i in range(df.shape[0]):\n",
    "    lst.append({'score':df['score'][i], 'sentence1':df['sentence1'][i], 'sentence2':df['sentence2'][i]})"
   ]
  },
  {
   "cell_type": "code",
   "execution_count": 31,
   "metadata": {},
   "outputs": [],
   "source": [
    "class Dataset1b(Dataset):\n",
    "\n",
    "    def __init__(self,data):\n",
    "        self.s1 = [d['sentence1'] for d in data]\n",
    "        self.s2 = [d['sentence2'] for d in data]\n",
    "        self.score = [d['score'] for d in data]\n",
    "\n",
    "    \n",
    "    def __len__(self):\n",
    "        return len(self.score)\n",
    "    \n",
    "    def __getitem__(self, index):\n",
    "        \n",
    "        cos_similarity = torch.tensor(self.score[index])\n",
    "\n",
    "        return InputExample(texts=[self.s1[index],self.s2[index]] , label=cos_similarity)\n",
    "\n",
    "        \n"
   ]
  },
  {
   "cell_type": "code",
   "execution_count": 24,
   "metadata": {},
   "outputs": [],
   "source": [
    "dataset_1b = Dataset1b(lst)\n",
    "dataloader_1b = DataLoader(dataset_1b , batch_size=16, shuffle=True)"
   ]
  },
  {
   "cell_type": "code",
   "execution_count": 27,
   "metadata": {},
   "outputs": [
    {
     "name": "stderr",
     "output_type": "stream",
     "text": [
      "c:\\Users\\HITESH KUMAR\\AppData\\Local\\Programs\\Python\\Python312\\Lib\\site-packages\\huggingface_hub\\file_download.py:148: UserWarning: `huggingface_hub` cache-system uses symlinks by default to efficiently store duplicated files but your machine does not support them in C:\\Users\\HITESH KUMAR\\.cache\\huggingface\\hub\\models--sentence-transformers--all-MiniLM-L6-v2. Caching files will still work but in a degraded version that might require more space on your disk. This warning can be disabled by setting the `HF_HUB_DISABLE_SYMLINKS_WARNING` environment variable. For more details, see https://huggingface.co/docs/huggingface_hub/how-to-cache#limitations.\n",
      "To support symlinks on Windows, you either need to activate Developer Mode or to run Python as an administrator. In order to see activate developer mode, see this article: https://docs.microsoft.com/en-us/windows/apps/get-started/enable-your-device-for-development\n",
      "  warnings.warn(message)\n"
     ]
    }
   ],
   "source": [
    "model_1b = SentenceTransformer(\"all-MiniLM-L6-v2\")\n",
    "dataloader_1b.collate_fn = model_1b.smart_batching_collate"
   ]
  },
  {
   "cell_type": "code",
   "execution_count": 35,
   "metadata": {},
   "outputs": [
    {
     "name": "stdout",
     "output_type": "stream",
     "text": [
      "The Pearson Correlation Coefficient is : 0.8611497882197772\n"
     ]
    }
   ],
   "source": [
    "pred = []\n",
    "ground_truth= []\n",
    "for i , batch in enumerate(dataloader_1b):\n",
    "    embeddings = [model_1b(sentence_feature)[\"sentence_embedding\"] for sentence_feature in batch[0]]\n",
    "    cosine_similarity_pred = torch.cosine_similarity(embeddings[0], embeddings[1])\n",
    "    \n",
    "    score_pred = cosine_similarity_pred * 5\n",
    "    score_gt = batch[1]\n",
    "    pred.extend(score_pred.tolist())\n",
    "    ground_truth.extend(score_gt.tolist())\n",
    "\n",
    "print(f\"The Pearson Correlation Coefficient is : {pearsonr(pred, ground_truth)[0]}\")"
   ]
  }
 ],
 "metadata": {
  "kernelspec": {
   "display_name": "Python 3",
   "language": "python",
   "name": "python3"
  },
  "language_info": {
   "codemirror_mode": {
    "name": "ipython",
    "version": 3
   },
   "file_extension": ".py",
   "mimetype": "text/x-python",
   "name": "python",
   "nbconvert_exporter": "python",
   "pygments_lexer": "ipython3",
   "version": "3.12.2"
  }
 },
 "nbformat": 4,
 "nbformat_minor": 2
}
